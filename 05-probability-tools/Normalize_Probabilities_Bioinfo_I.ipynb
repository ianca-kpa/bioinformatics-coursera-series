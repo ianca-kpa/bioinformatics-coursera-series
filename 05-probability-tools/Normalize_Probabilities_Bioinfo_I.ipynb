{
 "cells": [
  {
   "cell_type": "markdown",
   "metadata": {},
   "source": [
    "### Normalize(Probabilities)\n",
    "Para redimensionar uma coleção de probabilidades (os lados do dado) de modo que essas probabilidades somem 1, escreveremos uma função chamada 'Normalize(Probabilities)'. \n",
    "\n",
    "Esta função pega um dicionário 'Probabilities' cujas chaves são k-mers e cujos valores são as probabilidades desses k-mers (que não necessariamente somam 1). A função deve dividir cada valor em Probabilidades pela soma de todos os valores em 'Probabilities', então retorne o dicionário resultante."
   ]
  },
  {
   "cell_type": "code",
   "execution_count": null,
   "metadata": {},
   "outputs": [],
   "source": [
    "def Normalize(Probabilities):\n",
    "    # Calcula a soma total de todas as probabilidades\n",
    "    total_sum = sum(Probabilities.values())\n",
    "    # Divide cada valor de probabilidade pela soma total para normalizar\n",
    "    normalized = {}\n",
    "    for item, probability in Probabilities.items():\n",
    "        normalized[item] = probability / total_sum\n",
    "    # Retorna o dicionário com probabilidades normalizadas\n",
    "    return normalized\n"
   ]
  }
 ],
 "metadata": {
  "language_info": {
   "name": "python"
  }
 },
 "nbformat": 4,
 "nbformat_minor": 2
}
