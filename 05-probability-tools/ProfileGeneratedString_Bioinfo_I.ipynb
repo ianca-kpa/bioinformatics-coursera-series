{
 "cells": [
  {
   "cell_type": "markdown",
   "metadata": {},
   "source": [
    "### ProfileGeneratedString(Text, profile, k)"
   ]
  },
  {
   "cell_type": "code",
   "execution_count": 1,
   "metadata": {},
   "outputs": [
    {
     "name": "stdout",
     "output_type": "stream",
     "text": [
      "TTGAGTCGGTGTCCA\n"
     ]
    }
   ],
   "source": [
    "import random\n",
    "\n",
    "def Pr(Pattern, Profile):\n",
    "    p = 1.0\n",
    "    for i in range(len(Pattern)):\n",
    "        base = Pattern[i] # Pivô\n",
    "        p *= Profile[base][i]\n",
    "    return p\n",
    "\n",
    "def Normalize(Probabilities):\n",
    "    total_sum = sum(Probabilities.values())\n",
    "    normalized = {}\n",
    "    for item, probability in Probabilities.items():\n",
    "        normalized[item] = probability / total_sum\n",
    "    return normalized\n",
    "\n",
    "def WeightedDie(Probabilities):\n",
    "    random_value = random.uniform(0, 1)\n",
    "    cumulative_probability = 0.0\n",
    "    for kmer, probability in Probabilities.items():\n",
    "        cumulative_probability += probability\n",
    "        if random_value < cumulative_probability:\n",
    "            return kmer\n",
    "    return None  \n",
    "\n",
    "def ProfileGeneratedString(Text, profile, k):\n",
    "    n = len(Text)\n",
    "    probabilities = {} \n",
    "    for i in range(0,n-k+1): \n",
    "        # abrangemos todos os k-mers possíveis em 'Text', \n",
    "        # calculando a probabilidade de cada um e colocando essa probabilidade em um dicionário.\n",
    "        probabilities[Text[i:i+k]] = Pr(Text[i:i+k], profile)\n",
    "        # Em seguida, normalizamos essas probabilidades usando o 'Normalize(probabilities)' sub-rotina e, em seguida,\n",
    "        # retornar o resultado do lançamento de um dado ponderado sobre este dicionário para produzir um k-mer.\n",
    "    probabilities = Normalize(probabilities)\n",
    "    return WeightedDie(probabilities)\n",
    "\n",
    "k = 15\n",
    "profile = {'A': [0.318, 0.303, 0.227, 0.212, 0.379, 0.152, 0.197, 0.136, 0.364, 0.227, 0.167, 0.242, 0.258, 0.258, 0.258], \n",
    "           'C': [0.273, 0.197, 0.242, 0.227, 0.182, 0.182, 0.167, 0.288, 0.212, 0.288, 0.303, 0.212, 0.318, 0.212, 0.227], \n",
    "           'G': [0.167, 0.318, 0.303, 0.273, 0.212, 0.364, 0.258, 0.273, 0.197, 0.273, 0.288, 0.273, 0.288, 0.227, 0.197], \n",
    "           'T': [0.242, 0.182, 0.227, 0.288, 0.227, 0.303, 0.379, 0.303, 0.227, 0.212, 0.242, 0.273, 0.136, 0.303, 0.318]}\n",
    "Text = 'ACAACGTCTAATCCACCCATTTCCTACAGTTGAAACGGATTTCCGATATATTGCTCCTAAAATGATTTTTGGCAGCCCTAGTGCAAGGTGAGAGGTCAACGAGGGATGCGCAGTTGGGGCTTCTGTTGTCAATAAGAATCAACTCTAGTCAAGTGTCAACAGATTCTGGGCCCAAACCCCTTCCATTCTACAAGATGCCGACGGAACAGCTCCGTGCCGTGTCGGCTAATAGGATGCACCTTAATCACCCTACCGCAAGGTCTAATCAAAGTGCCCTCAACTGTTGTGAGGAGTCCGATGATTAGTGTAATAAAGACCGTCCGCAATTGGGGTTGGAGCTCCCGTATCGGTTCGGCGGACGAACCCCGGGGCGGAATACTTCCTCCACGCAGCTTGTTCAAAATTTCGGGGTCAAGATAGCCCTGTAAGGAGAAGTTCTCGATGCTGCAAACGCACGGCGCTCCTCTCGACTATTGTGAGCGGTGCTGCTACAATATGGACGTTGCGTAACTGTGATGTTTAATCCACGAGAACCCCCACCCGTTTGGCTCTCCCTGCGGACGGTAGGGATAAGCACGTCCTAACCGTTCAAATGGCGAGACTCCGCGGTTAGAGCGTGCCAGACTGGGGATATCAGACTTGAGTCGGTGTCCATTCGTTAAGGGACCCTCGCGACCGGTGACAGGGCCGTCATATTCCACATCAAACAGTCTGAGAGAATGCTGACGCGAGACGCGTTACATAGTGGCACAAAGTCTACGTGCAGATTGCTGAAAAGGAGTTTCGTTGGGGCTACGGAGTTCTTGTAATACCCTAACCACACTTACATACTGCTACTAAATTGTCTCATAGGCGGTGCTGGGTCTACAGTCCAGGATAGGCAGACAGAGTCTGGCATTCTCACTACGAAAGTTTACGCGTAGCCCTACCCGCGTGATGGCGAGAAGGGCTACAGCCGTACGCTCCGTCTGGATGAGTTCCTGGAGTCGCTGTCGGCCAC'\n",
    "\n",
    "print(ProfileGeneratedString(Text, profile, k))"
   ]
  }
 ],
 "metadata": {
  "kernelspec": {
   "display_name": "base",
   "language": "python",
   "name": "python3"
  },
  "language_info": {
   "codemirror_mode": {
    "name": "ipython",
    "version": 3
   },
   "file_extension": ".py",
   "mimetype": "text/x-python",
   "name": "python",
   "nbconvert_exporter": "python",
   "pygments_lexer": "ipython3",
   "version": "3.9.13"
  }
 },
 "nbformat": 4,
 "nbformat_minor": 2
}
