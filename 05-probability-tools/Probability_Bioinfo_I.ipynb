{
 "cells": [
  {
   "cell_type": "markdown",
   "metadata": {},
   "source": [
    "#### Tipos de algoritmos:\n",
    "\n",
    "* Heurística: São algoritmos que trocam precisão por velocidade para encontrar uma solução aproximada para problemas complexos. Eles não garantem encontrar a solução ótima, mas são rápidos e frequentemente usados quando a solução exata seria muito demorada ou difícil de encontrar.\n",
    "\n",
    "* Algoritmo de força bruta: Explora todas as possibilidades para encontrar a solução exata, geralmente lento.\n",
    "\n",
    "* Algoritmo de programação dinâmica: Otimiza a resolução de problemas ao dividir em subproblemas, garantindo soluções exatas, mas com mais eficiência do que a força bruta.\n",
    "\n",
    "* Algoritmo de aprendizado de máquina: Usa dados para \"aprender\" padrões, mas não se aplica diretamente ao contexto de velocidade versus precisão em soluções aproximadas.\n",
    "\n",
    "* Algoritmo guloso: Faz escolhas locais ótimas na esperança de que levem a uma solução global ótima, mas isso não necessariamente implica troca de precisão por velocidade."
   ]
  },
  {
   "cell_type": "markdown",
   "metadata": {},
   "source": [
    "### Exemplo 16: Pr(Text, Profile)\n",
    "\n",
    "Gerando uma sequência aleatória com base em uma matriz de perfil selecionando o i-ésimo nucleotídeo na sequência com a probabilidade correspondente a esse nucleotídeo na sequênciaeu-ésima coluna da matriz de perfil. \n",
    "\n",
    "A probabilidade de que uma matriz de perfil produza uma dada sequência é dada pelo produto de probabilidades de nucleotídeos individuais.\n",
    "\n",
    "Para implementar uma função 'Pr(Text, Profile)':\n",
    "* começamos definindo uma variável de “probabilidade” 'p' igual a 1. \n",
    "* percorremos os caracteres de 'Text' um de cada vez. \n",
    "* Na posição 'i' de 'Text', definimos p igual a p vezes o valor de Profile correspondente ao símbolo 'Text[i]' e à coluna 'i', que é apenas 'Profile[Text[i]][i]'\n",
    "\n",
    "Pr(Text, Profile): Calcula a probabilidade de uma string de DNA (Text) de acordo com um perfil de probabilidades (Profile)."
   ]
  },
  {
   "cell_type": "code",
   "execution_count": null,
   "metadata": {},
   "outputs": [
    {
     "name": "stdout",
     "output_type": "stream",
     "text": [
      "0.0024000000000000002\n"
     ]
    }
   ],
   "source": [
    "def Pr(Text, Profile):\n",
    "    p = 1\n",
    "    for i in range(len(Text)):\n",
    "      for j in \"ACGT\":\n",
    "        if Text[i] == j:\n",
    "          p *= Profile[Text[i]][i]\n",
    "    return p\n",
    "\n",
    "Profile = {'A': [0.4, 0.3, 0.0, 0.1, 0.0, 0.9], \n",
    "           'C': [0.2, 0.3, 0.0, 0.4, 0.0, 0.1], \n",
    "           'G': [0.1, 0.3, 1.0, 0.1, 0.5, 0.0], \n",
    "           'T': [0.3, 0.1, 0.0, 0.4, 0.5, 0.0]\n",
    "           } \n",
    "Text = 'AAGTTC' \n",
    "\n",
    "print(Pr(Text, Profile))"
   ]
  },
  {
   "cell_type": "markdown",
   "metadata": {},
   "source": [
    "#### Probabilidade de Ocorrência"
   ]
  },
  {
   "cell_type": "code",
   "execution_count": 4,
   "metadata": {},
   "outputs": [
    {
     "name": "stdout",
     "output_type": "stream",
     "text": [
      "1.89208984\n"
     ]
    }
   ],
   "source": [
    "probability_of_occurrence = (0.25) ** 9 # probabilidade de cada nucl e k-mer\n",
    "positions_in_single_string = 1000 - 9 + 1 # tamanho de cada str de DNA e k-mer\n",
    "expected_occurrences_in_single_string = probability_of_occurrence * positions_in_single_string\n",
    "expected_occurrences_in_500_strings = expected_occurrences_in_single_string * 500 # tamanho da janela\n",
    "\n",
    "print(round(expected_occurrences_in_500_strings, 8))"
   ]
  },
  {
   "cell_type": "markdown",
   "metadata": {},
   "source": [
    "### Exemplo 16.1: Pr_2(Text, Profile)"
   ]
  },
  {
   "cell_type": "code",
   "execution_count": 9,
   "metadata": {},
   "outputs": [
    {
     "name": "stdout",
     "output_type": "stream",
     "text": [
      "0.0054\n"
     ]
    }
   ],
   "source": [
    "def Pr_2(Text, Profile):\n",
    "    p = 1\n",
    "    for i in range(len(Text)):\n",
    "      for j in \"ACGT\":\n",
    "        if Text[i] == j:\n",
    "          p *= Profile[Text[i]][i]\n",
    "    return p\n",
    "  \n",
    "Profile = {'A': [0.4, 0.3, 0.0, 0.1, 0.0, 0.9], \n",
    "           'C': [0.2, 0.3, 0.0, 0.4, 0.0, 0.1], \n",
    "           'G': [0.1, 0.3, 1.0, 0.1, 0.5, 0.0], \n",
    "           'T': [0.3, 0.1, 0.0, 0.4, 0.5, 0.0]\n",
    "           } \n",
    "Text = 'GAGCTA'\n",
    "\n",
    "print(Pr_2(Text, Profile))"
   ]
  },
  {
   "cell_type": "markdown",
   "metadata": {},
   "source": [
    "### Exemplo 19: Calculando entropia"
   ]
  },
  {
   "cell_type": "code",
   "execution_count": 32,
   "metadata": {},
   "outputs": [
    {
     "name": "stdout",
     "output_type": "stream",
     "text": [
      "9.916290005356972\n"
     ]
    }
   ],
   "source": [
    "import numpy as np\n",
    "a = [0.2,0.2,0.6,0.2,0.1,0.7,0.9,0.1,0.9,0.1,0.9,0.1,0.1,0.4,0.5,0.1,0.1,0.8,0.1,0.2,0.7,0.3,0.4,0.3,0.6,0.4] #to simplipy the script, I ignore the all 0 and 1.\n",
    "entropy = 0\n",
    "for i in a:\n",
    "    entropy += -i*(np.log2(i))\n",
    "print(entropy)"
   ]
  },
  {
   "cell_type": "markdown",
   "metadata": {},
   "source": [
    "### Entropy(Probab)"
   ]
  },
  {
   "cell_type": "code",
   "execution_count": 45,
   "metadata": {},
   "outputs": [
    {
     "name": "stdout",
     "output_type": "stream",
     "text": [
      "9.916290005356972\n"
     ]
    }
   ],
   "source": [
    "import math\n",
    "\n",
    "def Profile(Motifs):\n",
    "    # Initialize an empty list P to store the profile matrix\n",
    "    Probab = []\n",
    "    # Iterate over each position in the motifs\n",
    "    for i in range(len(Motifs[0])):\n",
    "        # Initialize the nucleotide count list for the current position\n",
    "        Probab.append([])\n",
    "        # Iterate over the nucleotides \"A\", \"C\", \"G\", \"T\"\n",
    "        for j in [\"A\", \"C\", \"G\", \"T\"]:\n",
    "            # Initialize the counter for the current nucleotide\n",
    "            count = 0\n",
    "            # Iterate over each sequence in the motifs\n",
    "            for k in range(len(Motifs)):\n",
    "                # If the nucleotide at the current position matches the current nucleotide type\n",
    "                if Motifs[k][i] == j:\n",
    "                    # Increment the counter\n",
    "                    count += 1\n",
    "            # Add the frequency of the current nucleotide at this position to the profile matrix\n",
    "            Probab[i].append(count / len(Motifs))\n",
    "    # print(Probab)\n",
    "    # Return the constructed profile matrix\n",
    "    return Probab\n",
    "\n",
    "def Entropy(Probab):\n",
    "    # Initialize a list H to store the entropy value for each probability\n",
    "    Entropy_values = []\n",
    "    # Iterate through each element in the probability distribution Probab\n",
    "    for i in range(len(Probab)):\n",
    "        # If the current element is not 0, calculate its corresponding entropy value and append it to Entropy_values\n",
    "        if Probab[i] != 0:\n",
    "            Entropy_values.append(-Probab[i] * math.log2(Probab[i]))\n",
    "        # If the current element is 0, its corresponding entropy is 0; append this to Entropy_values\n",
    "        elif Probab[i] == 0:\n",
    "            Entropy_values.append(0)\n",
    "    # Return the sum of all elements in Entropy_values, which represents the entropy of the probability distribution Probab\n",
    "    # print(Entropy_values)\n",
    "    Entropy_total = sum(Entropy_values)\n",
    "    return Entropy_total\n",
    "\n",
    "def EntropySum(Probab):\n",
    "    \"\"\" Calculate the sum of entropy for a given probability distribution Probab.\n",
    "    Parameters:\n",
    "    Probab (list): A list containing probabilities of events, where the sum of these probabilities equals 1.\n",
    "    Returns: float: The total sum of entropy for all events in Probab.\n",
    "    Note: Entropy is an important concept in information theory that measures the uncertainty of information. \n",
    "    Here, we assume the function Entropy(x) is already defined to calculate the entropy of a single event.\n",
    "    This function computes the total entropy of the entire probability distribution by passing each event's probability \n",
    "    in Probab to the Entropy function and summing up the results. \"\"\"\n",
    "    probab_total = 0\n",
    "    for x in Probab:\n",
    "        probab_total += Entropy(x)\n",
    "    return probab_total\n",
    "\n",
    "Motifs = [\n",
    "    'TCGGGGGTTTTT',\n",
    "    'CCGGTGACTTAC',\n",
    "    'ACGGGGATTTTC',\n",
    "    'TTGGGGACTTTT',\n",
    "    'AAGGGGACTTCC',\n",
    "    'TTGGGGACTTCC',\n",
    "    'TCGGGGATTCAT',\n",
    "    'TCGGGGATTCCT',\n",
    "    'TAGGGGAACTAC',\n",
    "    'TCGGGTATAACC'\n",
    "]\n",
    "\n",
    "print(EntropySum(Profile(Motifs)))"
   ]
  }
 ],
 "metadata": {
  "kernelspec": {
   "display_name": "base",
   "language": "python",
   "name": "python3"
  },
  "language_info": {
   "codemirror_mode": {
    "name": "ipython",
    "version": 3
   },
   "file_extension": ".py",
   "mimetype": "text/x-python",
   "name": "python",
   "nbconvert_exporter": "python",
   "pygments_lexer": "ipython3",
   "version": "3.9.13"
  }
 },
 "nbformat": 4,
 "nbformat_minor": 2
}
