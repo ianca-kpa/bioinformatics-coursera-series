{
 "cells": [
  {
   "cell_type": "markdown",
   "metadata": {},
   "source": [
    "```\n",
    "StringSpelledByGappedPatterns(GappedPatterns, k, d)\n",
    "    FirstPatterns ← the sequence of initial k-mers from GappedPatterns\n",
    "    SecondPatterns ← the sequence of terminal k-mers from GappedPatterns\n",
    "    PrefixString ← StringSpelledByPatterns(FirstPatterns, k)\n",
    "    SuffixString ← StringSpelledByPatterns(SecondPatterns, k)\n",
    "    for i = k + d + 1 to |PrefixString|\n",
    "        if the i-th symbol in PrefixString does not equal the (i - k - d)-th symbol in SuffixString\n",
    "            return \"there is no string spelled by the gapped patterns\"\n",
    "    return PrefixString concatenated with the last k + d symbols of SuffixString\n",
    "```"
   ]
  },
  {
   "cell_type": "code",
   "execution_count": 1,
   "metadata": {},
   "outputs": [
    {
     "name": "stdout",
     "output_type": "stream",
     "text": [
      "AGCCTTAAGTGAAGGGCAGAACATATGACCTAAGACGCAGAAAGGGCAGAACATATGACCTAAGACGCAGAACGGGTGCAGGAAGGCCGTGACGGGTGCAGGAAGGCCGTGAACCCATGCTCCAAGGGCAGAACATATGACCTAAGACGCAGAACGGGTGCAGGAAGGCCGTGGTCAATCCCAAGGGCAGAACATATGACCTAAGACGCAGAACGGGTGCAGGAAGGCCGTGGACGTTTGCTAACGGCATACGCTGGCAGTTTAAGGGCAGAACATATGACCTAAGACGCAGAACGGGTGCAGGAAGGCCGTGTGTCCGTTGTGCTGCCGTCTTCTTCAGGAAAGGGCAGAACATATGACCTAAGACGCAGAACGGGTGCAGGAAGGCCGTGCCTCTTAGAAGATCCGCCGAACGACTGGTTCATTCGACATGCTGCGTAAAGTCAAGGGCAGAACATATGACCTAAGACGCAGAACGGGTGCAGGAAGGCCGTGGTCTGTTCCCTTACATGGAATCTCCCTCTGGCCCCGCCCGTGTGAAGGGCAGAACATATGACCTAAGACGCAGAACGGGTGCAGGAAGGCCGTGCGTCGAAATTGAACGAAATCTCCAACCATTCTAGCAACTGCTGCCTAGTAATCGCTCATCTCCGAGTATGCCCCTGGGGCGGCGATTTTCGTTAAGGGCAGAACATATGACAAGGGCAGAACATATGACCTAAGACGCAGAACGGGTGCAGGAAGGCCGTGCTAAGACGCAGAACGGGTGCAGGAAGGCCGTGGATGGATTCCTCGGTTGTTTTACTGCTAGGAGAACGAAAGGGCAGAACATATGACCTAAGACGCAGAACGGGTGCAGGAAGGCCGTGCGGGGGGTGTTGCTAGAAAAAGGGCAGAACATATGACCTAAGACGCAGAACGGGTGCAGGAAGGCCGTGAGGCTTTTTTACCATTTTAACACAAACTGTTCGTACAAAGACCATTGACAGTCCTCCCTAAGTATGTTTTGCGTAAGGGCAGAACATATGACCTAAGACGCAGAACGGGTGCAGGAAGGCCGTGGTCCGCGCATCGATAAGGGCAGAACATATGACCTAAGACGCAGAACGGGTGCAGGAAGGCCGTGGCCCAACTGTTACCGAGTAGGACGTCAAGGGCAGAACATATGACCTAAGACGCAGAACGGGTGCAGGAAGGCCGTGTGGAGCAGGTCCAAACCAATTCTAACCTTTTCAAGCCGTGCGTGGCTTATGTTACCCTTTAGCAGTAAAGTCCGAAGGGCAGAAAGGGCAGAACATATGACCTAAGACGCAGAACGGGTGCAGGAAGGCCGTGACATATGACCTAAGACGCAGAACGGGTGCAGGAAGGCCGTGATGCACCGCCGCAAGGGCAGAACATATGACCTAAGACGCAGAACGGGTGCAGGAAGGCCGTGAGGAGTCTGAGTCCGGATCGAAATTCGTCGCGTATATCCAGCATCTGTAACTTCTTGCTCTGCGCACACGGAAGAGTACCCCAGTTTGGCTCGGCATCCTTTGTGAAGCCCGACAAGCAGCTGGTGAGTGGCATCCGTTGTATACACTTCAAGGGCAGAACATATGACCTAAGACGCAGAACGGGTGCAGGAAGGCCGTGTACGTTGAAATCCCAACTGTTGCCAGGTGCAAACTCACTACCATCCCCTGGAGACCGCGGGTCCTGAGAGCTGCAGTCAGACCGTCTTCACTTCTGATGTTGTTGGGAAGATGACTTATCCACAGGCACGCACATTTTATATCTCAAAGGGCAGAACATATGACCTAAGACGCAGAACGGGTGCAGGAAGGCCGTGTCCTTCTCACAAGTGCTGAAACTTTGTCCTAACAGGTCTTATAATTTAGCGAGATGCATGCACATAGAAACAAGGCTAAATTAAAGTAGGGGATGTCTAACGCAGAGTAATAAGCCGATTCTGTGTTGGCAGAGACTGACCTGATTTACTTAACTACTCCTGTACC\n"
     ]
    }
   ],
   "source": [
    "from collections import defaultdict, deque\n",
    "\n",
    "def build_de_bruijn_graph(gapped_patterns):\n",
    "    \"\"\"Constrói o grafo de de Bruijn para os padrões emparelhados.\"\"\"\n",
    "    graph = defaultdict(list)\n",
    "    for pair in gapped_patterns:\n",
    "        prefix = (pair[0][:-1], pair[1][:-1])\n",
    "        suffix = (pair[0][1:], pair[1][1:])\n",
    "        graph[prefix].append(suffix)\n",
    "    return graph\n",
    "\n",
    "def find_eulerian_path(graph):\n",
    "    \"\"\"Encontra um caminho Euleriano no grafo.\"\"\"\n",
    "    in_degree = defaultdict(int)\n",
    "    out_degree = defaultdict(int)\n",
    "    for node, neighbors in graph.items():\n",
    "        out_degree[node] += len(neighbors)\n",
    "        for neighbor in neighbors:\n",
    "            in_degree[neighbor] += 1\n",
    "    start_node = None\n",
    "    for node in set(in_degree.keys()).union(out_degree.keys()):\n",
    "        if out_degree[node] > in_degree[node]:\n",
    "            start_node = node\n",
    "            break\n",
    "    stack = [start_node]\n",
    "    path = []\n",
    "    while stack:\n",
    "        node = stack[-1]\n",
    "        if graph[node]:\n",
    "            stack.append(graph[node].pop())\n",
    "        else:\n",
    "            path.append(stack.pop())\n",
    "    return path[::-1]\n",
    "\n",
    "def StringSpelledByPatterns(patterns, k):\n",
    "    \"\"\"Reconstrói uma string a partir de uma lista de k-mers.\"\"\"\n",
    "    result = patterns[0]\n",
    "    for i in range(1, len(patterns)):\n",
    "        result += patterns[i][-1]\n",
    "    return result\n",
    "\n",
    "def StringSpelledByGappedPatterns(GappedPatterns, k, d):\n",
    "    \"\"\"Reconstrói uma string a partir de padrões com gap.\"\"\"\n",
    "    # Construir o grafo de de Bruijn\n",
    "    graph = build_de_bruijn_graph(GappedPatterns)\n",
    "    # Encontrar o caminho Euleriano\n",
    "    path = find_eulerian_path(graph)\n",
    "    # Separar os padrões iniciais e finais do caminho\n",
    "    FirstPatterns = [node[0] for node in path]\n",
    "    SecondPatterns = [node[1] for node in path]\n",
    "    # Reconstituir as strings prefix e suffix\n",
    "    PrefixString = StringSpelledByPatterns(FirstPatterns, k)\n",
    "    SuffixString = StringSpelledByPatterns(SecondPatterns, k)\n",
    "    # Verificar consistência entre PrefixString e SuffixString\n",
    "    for i in range(k + d, len(PrefixString)):\n",
    "        if PrefixString[i] != SuffixString[i - k - d]:\n",
    "            return \"There is no string spelled by the gapped patterns\"\n",
    "    # Concatenar o PrefixString com os últimos k + d símbolos de SuffixString\n",
    "    return PrefixString + SuffixString[-(k + d):]\n",
    "\n",
    "def parse_gapped_patterns(input_string):\n",
    "    \"\"\"Converte uma string de padrões emparelhados no formato 'GAGA|TTGA' para uma lista de tuplas.\"\"\"\n",
    "    pairs = input_string.strip().split()  # Dividir pelos espaços\n",
    "    gapped_patterns = [tuple(pair.split('|'))\n",
    "    for pair in pairs]  # Dividir pelo separador '|'\n",
    "    return gapped_patterns\n",
    "\n",
    "with open(\"dataset_30208_4.txt\", \"r\") as file_1:\n",
    "    linhas_1 = file_1.readlines()\n",
    "    Text = linhas_1[1].strip()\n",
    "\n",
    "k = 50\n",
    "d = 200\n",
    "\n",
    "GappedPatterns = parse_gapped_patterns(Text)\n",
    "print(StringSpelledByGappedPatterns(GappedPatterns, k, d))"
   ]
  }
 ],
 "metadata": {
  "kernelspec": {
   "display_name": "base",
   "language": "python",
   "name": "python3"
  },
  "language_info": {
   "codemirror_mode": {
    "name": "ipython",
    "version": 3
   },
   "file_extension": ".py",
   "mimetype": "text/x-python",
   "name": "python",
   "nbconvert_exporter": "python",
   "pygments_lexer": "ipython3",
   "version": "3.9.13"
  }
 },
 "nbformat": 4,
 "nbformat_minor": 2
}
