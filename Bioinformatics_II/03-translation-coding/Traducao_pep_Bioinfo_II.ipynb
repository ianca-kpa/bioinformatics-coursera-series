{
 "cells": [
  {
   "cell_type": "markdown",
   "metadata": {},
   "source": [
    "O problema a seguir pede que você encontre a tradução de uma sequência de RNA em uma sequência de aminoácidos.\n",
    "\n",
    "Problema de tradução de proteínas: traduzir uma sequência de RNA em uma sequência de aminoácidos.\n",
    "\n",
    "* Entrada : Um padrão de sequência de RNA e o array GeneticCode .\n",
    "* Saída : A tradução do Padrão em uma cadeia de aminoácidos Peptídeo .\n",
    "* Desafio de código: Resolva o problema de tradução de proteínas."
   ]
  },
  {
   "cell_type": "code",
   "execution_count": 29,
   "metadata": {},
   "outputs": [
    {
     "name": "stdout",
     "output_type": "stream",
     "text": [
      "PRTEIN\n",
      "PRTEIN\n",
      "PSTEIN\n",
      "PRTDIN\n"
     ]
    }
   ],
   "source": [
    "def traducao_pep(RNA_pattern, GeneticCode):\n",
    "    protein = \"\"\n",
    "    i = 0\n",
    "\n",
    "    while i < len(RNA_pattern):\n",
    "        codon = RNA_pattern[i:i+3]\n",
    "        amino_acid = GeneticCode[codon]\n",
    "        if amino_acid != \"STOP\":\n",
    "            protein += amino_acid\n",
    "            i += 3\n",
    "        else:\n",
    "            break\n",
    "    return protein\n",
    "\n",
    "\n",
    "GeneticCode = {\"UUU\": \"F\", \"UUC\": \"F\", \"UUA\": \"L\", \"UUG\": \"L\",\n",
    "               \"UCU\": \"S\", \"UCC\": \"S\", \"UCA\": \"S\", \"UCG\": \"S\",\n",
    "               \"UAU\": \"Y\", \"UAC\": \"Y\", \"UAA\": \"STOP\", \"UAG\": \"STOP\",\n",
    "               \"UGU\": \"C\", \"UGC\": \"C\", \"UGA\": \"STOP\", \"UGG\": \"W\",\n",
    "               \"CUU\": \"L\", \"CUC\": \"L\", \"CUA\": \"L\", \"CUG\": \"L\",\n",
    "               \"CCU\": \"P\", \"CCC\": \"P\", \"CCA\": \"P\", \"CCG\": \"P\",\n",
    "               \"CAU\": \"H\", \"CAC\": \"H\", \"CAA\": \"Q\", \"CAG\": \"Q\",\n",
    "               \"CGU\": \"R\", \"CGC\": \"R\", \"CGA\": \"R\", \"CGG\": \"R\",\n",
    "               \"AUU\": \"I\", \"AUC\": \"I\", \"AUA\": \"I\", \"AUG\": \"M\",\n",
    "               \"ACU\": \"T\", \"ACC\": \"T\", \"ACA\": \"T\", \"ACG\": \"T\",\n",
    "               \"AAU\": \"N\", \"AAC\": \"N\", \"AAA\": \"K\", \"AAG\": \"K\",\n",
    "               \"AGU\": \"S\", \"AGC\": \"S\", \"AGA\": \"R\", \"AGG\": \"R\",\n",
    "               \"GUU\": \"V\", \"GUC\": \"V\", \"GUA\": \"V\", \"GUG\": \"V\",\n",
    "               \"GCU\": \"A\", \"GCC\": \"A\", \"GCA\": \"A\", \"GCG\": \"A\",\n",
    "               \"GAU\": \"D\", \"GAC\": \"D\", \"GAA\": \"E\", \"GAG\": \"E\",\n",
    "               \"GGU\": \"G\", \"GGC\": \"G\", \"GGA\": \"G\", \"GGG\": \"G\"}\n",
    "\n",
    "# RNA_pattern = \"CCAAGUACAGAGAUUAAC\"\n",
    "\n",
    "print(traducao_pep('CCGAGGACCGAAAUCAAC', GeneticCode))\n",
    "print(traducao_pep('CCACGUACUGAAAUUAAC', GeneticCode))\n",
    "print(traducao_pep('CCAAGUACAGAGAUUAAC', GeneticCode))\n",
    "print(traducao_pep('CCAAGAACAGAUAUCAAU', GeneticCode))\n"
   ]
  }
 ],
 "metadata": {
  "kernelspec": {
   "display_name": "base",
   "language": "python",
   "name": "python3"
  },
  "language_info": {
   "codemirror_mode": {
    "name": "ipython",
    "version": 3
   },
   "file_extension": ".py",
   "mimetype": "text/x-python",
   "name": "python",
   "nbconvert_exporter": "python",
   "pygments_lexer": "ipython3",
   "version": "3.9.13"
  }
 },
 "nbformat": 4,
 "nbformat_minor": 2
}
