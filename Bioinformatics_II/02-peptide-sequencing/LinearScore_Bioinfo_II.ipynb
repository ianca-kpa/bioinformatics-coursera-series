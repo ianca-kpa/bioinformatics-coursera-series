{
 "cells": [
  {
   "cell_type": "markdown",
   "metadata": {},
   "source": [
    "Desafio de código: calcule a pontuação de um peptídeo linear em relação a um espectro.\n",
    "\n",
    "* Entrada: Uma sequência de aminoácidos 'Peptide' e uma coleção de inteiros 'Spectrum'.\n",
    "* Saída: A pontuação linear do 'Peptide' em relação ao 'Spectrum', LinearScore(Peptide, Spectrum)."
   ]
  },
  {
   "cell_type": "code",
   "execution_count": 1,
   "metadata": {},
   "outputs": [
    {
     "name": "stdout",
     "output_type": "stream",
     "text": [
      "LinearScore: 10\n"
     ]
    },
    {
     "ename": "",
     "evalue": "",
     "output_type": "error",
     "traceback": [
      "\u001b[1;31mThe Kernel crashed while executing code in the current cell or a previous cell. \n",
      "\u001b[1;31mPlease review the code in the cell(s) to identify a possible cause of the failure. \n",
      "\u001b[1;31mClick <a href='https://aka.ms/vscodeJupyterKernelCrash'>here</a> for more info. \n",
      "\u001b[1;31mView Jupyter <a href='command:jupyter.viewOutput'>log</a> for further details."
     ]
    }
   ],
   "source": [
    "def LinearSpectrum(Peptide, Alphabet, AminoAcidMass):\n",
    "    PrefixMass = [0] * (len(Peptide) + 1)\n",
    "    for i in range(1, len(Peptide) + 1):\n",
    "        for s in Alphabet:\n",
    "            if s == Peptide[i - 1]: \n",
    "                PrefixMass[i] = PrefixMass[i - 1] + AminoAcidMass[s]\n",
    "    \n",
    "    LinearSpectrum = [0]\n",
    "\n",
    "    for i in range(len(Peptide)):\n",
    "        for j in range(i + 1, len(Peptide) + 1):\n",
    "            LinearSpectrum.append(PrefixMass[j] - PrefixMass[i])\n",
    "\n",
    "    return sorted(LinearSpectrum)\n",
    "\n",
    "def LinearScore(Peptide, Spectrum, Alphabet, AminoAcidMass):\n",
    "    Spectrum_Teor = LinearSpectrum(Peptide, Alphabet, AminoAcidMass)\n",
    "    LinearScore_final_linear = 0\n",
    "    p1 = 0\n",
    "    p2 = 0\n",
    "    \n",
    "    while p1 < len(Spectrum_Teor) and p2 < len(Spectrum):\n",
    "        if Spectrum_Teor[p1] == Spectrum[p2]:\n",
    "            LinearScore_final_linear += 1\n",
    "            p1 += 1\n",
    "            p2 += 1\n",
    "        elif Spectrum_Teor[p1] < Spectrum[p2]:\n",
    "            p1 += 1\n",
    "        elif Spectrum_Teor[p1] > Spectrum[p2]:\n",
    "            p2 +=1\n",
    "    return LinearScore_final_linear\n",
    "\n",
    "with open(\"dataset_30249_1.txt\", \"r\") as file:\n",
    "    lines = file.readlines()\n",
    "    Peptide = lines[0].strip()  # Primeira linha contém o peptídeo\n",
    "    Spectrum = list(map(int, lines[1].strip().split()))  # Segunda linha contém o espectro\n",
    "    # print(Spectrum)\n",
    "    # print(Peptide)\n",
    "\n",
    "Alphabet = ['G', 'A', 'S', 'P', 'V', 'T', 'C', 'I', 'L', 'N', 'D', 'K', 'Q', 'E', 'M', 'H', 'F', 'R', 'Y', 'W'] \n",
    "AminoAcidMass = {'G': 57, 'A': 71, 'S': 87, 'P': 97,\n",
    "                 'V': 99, 'T': 101, 'C': 103, 'I': 113,\n",
    "                 'L': 113, 'N': 114, 'D': 115, 'K': 128,\n",
    "                 'Q': 128, 'E': 129, 'M': 131, 'H': 137,\n",
    "                 'F': 147, 'R': 156, 'Y': 163, 'W': 186}\n",
    "\n",
    "print(f'LinearScore: {LinearScore(Peptide, Spectrum, Alphabet, AminoAcidMass)}')"
   ]
  }
 ],
 "metadata": {
  "kernelspec": {
   "display_name": "base",
   "language": "python",
   "name": "python3"
  },
  "language_info": {
   "codemirror_mode": {
    "name": "ipython",
    "version": 3
   },
   "file_extension": ".py",
   "mimetype": "text/x-python",
   "name": "python",
   "nbconvert_exporter": "python",
   "pygments_lexer": "ipython3",
   "version": "3.9.13"
  }
 },
 "nbformat": 4,
 "nbformat_minor": 2
}
