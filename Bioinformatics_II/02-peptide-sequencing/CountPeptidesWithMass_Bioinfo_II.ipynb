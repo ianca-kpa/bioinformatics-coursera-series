{
 "cells": [
  {
   "cell_type": "markdown",
   "metadata": {},
   "source": [
    "#### CountPeptidesWithMass(m, AminoAcidMass)"
   ]
  },
  {
   "cell_type": "code",
   "execution_count": null,
   "metadata": {},
   "outputs": [],
   "source": [
    "# Function to count peptides with the given mass using dynamic programming\n",
    "def CountPeptidesWithMass(m, AminoAcidMass):\n",
    "    # Cria uma tabela para armazenar o número de peptídeos com massa específica\n",
    "    dp = [0] * (m + 1)\n",
    "    dp[0] = 1  # Há exatamente 1 forma de ter massa 0: nenhum peptídeo\n",
    "\n",
    "    # Itera pelas massas até alcançar m\n",
    "    for mass in range(1, m + 1):\n",
    "        for aa_mass in AminoAcidMass.values():\n",
    "            if mass >= aa_mass:\n",
    "                dp[mass] += dp[mass - aa_mass]\n",
    "\n",
    "    # Retorna o número de peptídeos que têm massa exata m\n",
    "    return dp[m]\n",
    "\n",
    "\n",
    "AminoAcidMass = {'G': 57, 'A': 71, 'S': 87, 'P': 97, 'V': 99, 'T': 101, 'C': 103, 'I/L': 113, 'N': 114, \n",
    "                   'D': 115, 'K/Q': 128, 'E': 129, 'M': 131,'H': 137, 'F': 147, 'R': 156, 'Y': 163, 'W': 186}\n",
    "m = 1024\n",
    "\n",
    "\n",
    "print(CountPeptidesWithMass(m, AminoAcidMass))"
   ]
  },
  {
   "cell_type": "markdown",
   "metadata": {},
   "source": [
    "### Outro exemplo:"
   ]
  },
  {
   "cell_type": "code",
   "execution_count": null,
   "metadata": {},
   "outputs": [],
   "source": [
    "def CountPeptidesWithMass_2(m, AminoAcidMass):\n",
    "  dp = [0] * (m + 1)\n",
    "  dp[0] = 1  # Há exatamente 1 forma de ter massa 0: nenhum peptídeo\n",
    "  \n",
    "  for peso in range(1, m + 1):\n",
    "    for peso_amino in AminoAcidMass.values():\n",
    "      if peso >= peso_amino:\n",
    "        dp[peso] += dp[peso - peso_amino]\n",
    "        \n",
    "  return dp[m]"
   ]
  }
 ],
 "metadata": {
  "language_info": {
   "name": "python"
  }
 },
 "nbformat": 4,
 "nbformat_minor": 2
}
