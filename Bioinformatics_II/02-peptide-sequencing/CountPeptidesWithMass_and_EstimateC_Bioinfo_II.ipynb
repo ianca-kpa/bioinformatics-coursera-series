{
 "cells": [
  {
   "cell_type": "code",
   "execution_count": 1,
   "metadata": {},
   "outputs": [
    {
     "name": "stdout",
     "output_type": "stream",
     "text": [
      "0.008522052023364899\n",
      "1.0278987554218242\n"
     ]
    }
   ],
   "source": [
    "def CountPeptidesWithMass(m, AminoAcidMass):\n",
    "    dp = [0] * (m + 1)\n",
    "    dp[0] = 1\n",
    "\n",
    "    for mass in range(1, m + 1):\n",
    "        for aa_mass in AminoAcidMass.values():\n",
    "            if mass >= aa_mass:\n",
    "                dp[mass] += dp[mass - aa_mass]\n",
    "\n",
    "    return dp[m]\n",
    "\n",
    "def estimateC(m1, m2, AminoAcidMass):\n",
    "    x1 = CountPeptidesWithMass(m1, AminoAcidMass)\n",
    "    x2 = CountPeptidesWithMass(m2, AminoAcidMass)\n",
    "\n",
    "    k = ((x2 ** (m1/m2)) / x1) ** (m2 / (m1 - m2))\n",
    "    c = (x1 / k) ** (1/m1)\n",
    "\n",
    "    return k, c\n",
    "\n",
    "\n",
    "AminoAcidMass = {'G': 57, 'A': 71, 'S': 87, 'P': 97, 'V': 99, 'T': 101, 'C': 103, 'I/L': 113, 'N': 114, \n",
    "                   'D': 115, 'K/Q': 128, 'E': 129, 'M': 131,'H': 137, 'F': 147, 'R': 156, 'Y': 163, 'W': 186}\n",
    "k, c = estimateC(1311, 1024, AminoAcidMass)\n",
    "print(k)\n",
    "print(c)"
   ]
  }
 ],
 "metadata": {
  "kernelspec": {
   "display_name": "base",
   "language": "python",
   "name": "python3"
  },
  "language_info": {
   "codemirror_mode": {
    "name": "ipython",
    "version": 3
   },
   "file_extension": ".py",
   "mimetype": "text/x-python",
   "name": "python",
   "nbconvert_exporter": "python",
   "pygments_lexer": "ipython3",
   "version": "3.9.13"
  }
 },
 "nbformat": 4,
 "nbformat_minor": 2
}
