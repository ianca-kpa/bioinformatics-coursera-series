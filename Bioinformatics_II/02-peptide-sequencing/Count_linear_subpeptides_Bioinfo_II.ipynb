{
 "cells": [
  {
   "cell_type": "code",
   "execution_count": null,
   "metadata": {},
   "outputs": [],
   "source": [
    "# Função para calcular o número de subpeptídeos de um peptídeo linear de comprimento n\n",
    "def count_linear_subpeptides(n):\n",
    "    # Para um peptídeo linear, o número de subpeptídeos inclui:\n",
    "    # - n (os aminoácidos individuais)\n",
    "    # - (n - 1) + (n - 2) + ... + 1 (todas as combinações consecutivas de aminoácidos)\n",
    "    # Isso é equivalente à soma dos primeiros n números naturais + 1 (para o peptídeo vazio)\n",
    "    # Fórmula: soma dos números naturais é (n * (n + 1)) / 2\n",
    "    return (n * (n + 1)) // 2 + 1  # Soma dos subpeptídeos + 1 para o vazio\n",
    "\n",
    "n = 39192  # Você pode alterar este valor para testar outros casos\n",
    "resultado = count_linear_subpeptides(n)\n",
    "print(f\"O número de subpeptídeos de um peptídeo linear de comprimento {n} é {resultado}.\")"
   ]
  }
 ],
 "metadata": {
  "language_info": {
   "name": "python"
  }
 },
 "nbformat": 4,
 "nbformat_minor": 2
}
