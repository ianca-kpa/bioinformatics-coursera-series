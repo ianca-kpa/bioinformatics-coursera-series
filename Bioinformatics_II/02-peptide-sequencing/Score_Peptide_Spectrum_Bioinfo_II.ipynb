{
 "cells": [
  {
   "cell_type": "markdown",
   "metadata": {},
   "source": [
    "* Uma massa falsa (false masses) está presente no espectro experimental, mas ausente do espectro teórico; \n",
    "* Uma massa ausente (missing masses) está presente no espectro teórico, mas ausente do espectro experimental."
   ]
  },
  {
   "cell_type": "code",
   "execution_count": 4,
   "metadata": {},
   "outputs": [],
   "source": [
    "Alphabet = ['G', 'A', 'S', 'P', 'V', 'T', 'C', 'I', 'L', 'N', 'D', 'K', 'Q', 'E', 'M', 'H', 'F', 'R', 'Y', 'W'] \n",
    "AminoAcidMass = {'G': 57, 'A': 71, 'S': 87, 'P': 97,\n",
    "                 'V': 99, 'T': 101, 'C': 103, 'I': 113,\n",
    "                 'L': 113, 'N': 114, 'D': 115, 'K': 128,\n",
    "                 'Q': 128, 'E': 129, 'M': 131, 'H': 137,\n",
    "                 'F': 147, 'R': 156, 'Y': 163, 'W': 186}"
   ]
  },
  {
   "cell_type": "markdown",
   "metadata": {},
   "source": [
    "Problema de pontuação de ciclopeptídeos: calcule a pontuação de um peptídeo cíclico em relação a um espectro.\n",
    "\n",
    "* Entrada: Uma sequência de aminoácidos 'Peptide' e uma coleção de inteiros Espectro .\n",
    "* Saída: A pontuação do 'Peptide' em relação ao Spectrum, Score(Peptide, Spectrum).\n",
    "* Desafio de código: Resolva o problema de pontuação do ciclopeptídeo.\n",
    "\n",
    "#### Score(Peptide, Spectrum):"
   ]
  },
  {
   "cell_type": "code",
   "execution_count": 5,
   "metadata": {},
   "outputs": [
    {
     "name": "stdout",
     "output_type": "stream",
     "text": [
      "CyclicScore: 8\n"
     ]
    },
    {
     "ename": "",
     "evalue": "",
     "output_type": "error",
     "traceback": [
      "\u001b[1;31mThe Kernel crashed while executing code in the current cell or a previous cell. \n",
      "\u001b[1;31mPlease review the code in the cell(s) to identify a possible cause of the failure. \n",
      "\u001b[1;31mClick <a href='https://aka.ms/vscodeJupyterKernelCrash'>here</a> for more info. \n",
      "\u001b[1;31mView Jupyter <a href='command:jupyter.viewOutput'>log</a> for further details."
     ]
    }
   ],
   "source": [
    "def CyclicSpectrum(Peptide, Alphabet, AminoAcidMass): # Comentários do código em Bioinfo_II_3\n",
    "    PrefixMass = [0] * (len(Peptide) + 1)\n",
    "\n",
    "    for i in range(1, len(Peptide) + 1):\n",
    "        for s in Alphabet:\n",
    "            if s == Peptide[i - 1]:\n",
    "                PrefixMass[i] = PrefixMass[i - 1] + AminoAcidMass[s]\n",
    "\n",
    "    peptideMass = PrefixMass[len(Peptide)]\n",
    "    CyclicSpectrum = [0]\n",
    "\n",
    "    for i in range(len(Peptide)):\n",
    "        for j in range(i + 1, len(Peptide) + 1):\n",
    "            CyclicSpectrum.append(PrefixMass[j] - PrefixMass[i])\n",
    "            if i > 0 and j < len(Peptide):\n",
    "                CyclicSpectrum.append(\n",
    "                    peptideMass - (PrefixMass[j] - PrefixMass[i]))\n",
    "\n",
    "    return sorted(CyclicSpectrum)\n",
    "\n",
    "def CyclicScore(Peptide, Spectrum, Alphabet, AminoAcidMass):\n",
    "    Spectrum_Teor = CyclicSpectrum(Peptide, Alphabet, AminoAcidMass)\n",
    "    Score_final_Cyclic = 0\n",
    "    p1 = 0\n",
    "    p2 = 0\n",
    "    \n",
    "    while p1 < len(Spectrum_Teor) and p2 < len(Spectrum):\n",
    "        if Spectrum_Teor[p1] == Spectrum[p2]:\n",
    "            Score_final_Cyclic += 1\n",
    "            p1 += 1\n",
    "            p2 += 1\n",
    "        elif Spectrum_Teor[p1] < Spectrum[p2]:\n",
    "            p1 += 1\n",
    "        elif Spectrum_Teor[p1] > Spectrum[p2]:\n",
    "            p2 +=1\n",
    "    return Score_final_Cyclic\n",
    "\n",
    "    # CHAT-GPT\n",
    "    # Spectrum_Pep = CyclicSpectrum(Peptide, Alphabet, AminoAcidMass)  # Teórico\n",
    "    # score = 0\n",
    "    # for mass in set(Spectrum_Pep):  # Considera apenas massas únicas\n",
    "    #     count_pep = Spectrum_Pep.count(mass)  # Contagem no espectro teórico\n",
    "    #     count_spec = Spectrum.count(mass)  # Contagem no espectro experimental\n",
    "    #     score += min(count_pep, count_spec)  # Soma da contagem mínima\n",
    "    # return score\n",
    "\n",
    "# with open(\"dataset_30244_3.txt\", \"r\") as file:\n",
    "#     lines = file.readlines()\n",
    "#     Peptide = lines[0].strip()  # Primeira linha contém o peptídeo\n",
    "#     Spectrum = list(map(int, lines[1].strip().split()))  # Segunda linha contém o espectro\n",
    "# #     # print(Spectrum)\n",
    "# #     # print(Peptide)\n",
    "\n",
    "Peptide = 'MAMA'\n",
    "Spectrum = '0 71 178 202 202 202 333 333 333 404 507 507'\n",
    "Spectrum = list(map(int, Spectrum.strip().split()))\n",
    "\n",
    "\n",
    "print(f'CyclicScore: {CyclicScore(Peptide, Spectrum, Alphabet, AminoAcidMass)}')"
   ]
  }
 ],
 "metadata": {
  "kernelspec": {
   "display_name": "base",
   "language": "python",
   "name": "python3"
  },
  "language_info": {
   "codemirror_mode": {
    "name": "ipython",
    "version": 3
   },
   "file_extension": ".py",
   "mimetype": "text/x-python",
   "name": "python",
   "nbconvert_exporter": "python",
   "pygments_lexer": "ipython3",
   "version": "3.9.13"
  }
 },
 "nbformat": 4,
 "nbformat_minor": 2
}
