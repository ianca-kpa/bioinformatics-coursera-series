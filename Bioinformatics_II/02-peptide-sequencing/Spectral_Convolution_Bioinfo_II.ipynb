{
 "cells": [
  {
   "cell_type": "markdown",
   "metadata": {},
   "source": [
    "Problema de convolução espectral: calcule a convolução de um espectro.\n",
    "\n",
    "* Entrada: Uma coleção de números inteiros Spectrum  em ordem crescente.\n",
    "* Saída: A lista de elementos na convolução de Spectrum. Se um elemento tem multiplicidade k , ele deve aparecer exatamente k vezes; você pode retornar os elementos em qualquer ordem.\n",
    "* Desafio de código: Resolva o problema de convolução espectral.\n",
    "\n",
    "Dica: a convolução que você retorna não deve conter zeros."
   ]
  },
  {
   "cell_type": "code",
   "execution_count": null,
   "metadata": {},
   "outputs": [
    {
     "name": "stdout",
     "output_type": "stream",
     "text": [
      "[12, 62, 74, 74, 74, 74, 86, 86, 148, 148, 148, 160, 160, 222, 222, 234, 234, 296, 308, 320, 382]\n"
     ]
    },
    {
     "ename": "",
     "evalue": "",
     "output_type": "error",
     "traceback": [
      "\u001b[1;31mThe Kernel crashed while executing code in the current cell or a previous cell. \n",
      "\u001b[1;31mPlease review the code in the cell(s) to identify a possible cause of the failure. \n",
      "\u001b[1;31mClick <a href='https://aka.ms/vscodeJupyterKernelCrash'>here</a> for more info. \n",
      "\u001b[1;31mView Jupyter <a href='command:jupyter.viewOutput'>log</a> for further details."
     ]
    }
   ],
   "source": [
    "import numpy as np\n",
    "from collections import Counter\n",
    "\n",
    "\n",
    "def Spectral_Convolution(Spectrum):\n",
    "    matriz_spec = np.zeros((len(Spectrum), len(Spectrum) - 1))\n",
    "\n",
    "    for i in range(1, len(Spectrum)):\n",
    "        for j in range(len(Spectrum) - 1):\n",
    "            if Spectrum[i] > Spectrum[j]:\n",
    "                matriz_spec[i][j] = Spectrum[i] - Spectrum[j]\n",
    "    return matriz_spec\n",
    "\n",
    "\n",
    "def format_ans(Spectrum):\n",
    "    matriz_spec = Spectral_Convolution(Spectrum)\n",
    "    result = []\n",
    "\n",
    "    for linha in matriz_spec:\n",
    "        for item in linha:\n",
    "            if item != 0:\n",
    "                result.append(int(item))\n",
    "    return sorted(result)\n",
    "\n",
    "\n",
    "# with open(\"dataset_30246_4.txt\", \"r\") as file:\n",
    "#     lines = file.readlines()\n",
    "#     Spectrum = list(map(int, lines[0].strip().split())) \n",
    "\n",
    "Spectrum = '0 86 160 234 308 320 382'\n",
    "Spectrum = list(map(int, Spectrum.strip().split()))\n",
    "\n",
    "# print(Spectral_Convolution(Spectrum))\n",
    "print(format_ans(Spectrum))\n"
   ]
  }
 ],
 "metadata": {
  "kernelspec": {
   "display_name": "base",
   "language": "python",
   "name": "python3"
  },
  "language_info": {
   "codemirror_mode": {
    "name": "ipython",
    "version": 3
   },
   "file_extension": ".py",
   "mimetype": "text/x-python",
   "name": "python",
   "nbconvert_exporter": "python",
   "pygments_lexer": "ipython3",
   "version": "3.9.13"
  }
 },
 "nbformat": 4,
 "nbformat_minor": 2
}
