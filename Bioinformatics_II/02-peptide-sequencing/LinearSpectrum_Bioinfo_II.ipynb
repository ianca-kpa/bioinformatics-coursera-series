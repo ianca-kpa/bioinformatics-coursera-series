{
 "cells": [
  {
   "cell_type": "markdown",
   "metadata": {},
   "source": [
    "Desafio de código: implementar LinearSpectrum.\n",
    "\n",
    "* Entrada: Uma cadeia de aminoácidos Peptídeo.\n",
    "* Saída: O espectro linear do peptídeo.\n",
    "\n",
    "```\n",
    "LinearSpectrum(Peptide, Alphabet, AminoAcidMass)\n",
    "    PrefixMass(0) ← 0\n",
    "    for i ← 1 to |Peptide|\n",
    "        for every symbol s in Alphabet\n",
    "            if s = i-th amino acid in Peptide\n",
    "                PrefixMass(i) ← PrefixMass(i − 1) + AminoAcidMass[s]\n",
    "    LinearSpectrum ← a list consisting of the single integer 0\n",
    "    for i ← 0 to |Peptide| − 1\n",
    "        for j ← i + 1 to |Peptide|\n",
    "            add PrefixMass(j) − PrefixMass(i) to LinearSpectrum\n",
    "    return sorted list LinearSpectrum \n",
    "```"
   ]
  },
  {
   "cell_type": "code",
   "execution_count": null,
   "metadata": {},
   "outputs": [],
   "source": [
    "def LinearSpectrum(Peptide, Alphabet, AminoAcidMass):\n",
    "    # Inicializa o vetor de massas prefixadas\n",
    "    PrefixMass = [0] * (len(Peptide) + 1)\n",
    "\n",
    "    # Calcula as massas prefixadas\n",
    "    for i in range(1, len(Peptide) + 1):\n",
    "        for s in Alphabet:\n",
    "            if s == Peptide[i - 1]:  # Comparando o símbolo com o i-ésimo aminoácido do peptídeo\n",
    "                PrefixMass[i] = PrefixMass[i - 1] + AminoAcidMass[s]\n",
    "\n",
    "    # Inicializa o espectro linear com o valor 0\n",
    "    LinearSpectrum = [0]\n",
    "\n",
    "    # Calcula as diferenças entre massas prefixadas para gerar o espectro\n",
    "    for i in range(len(Peptide)):\n",
    "        for j in range(i + 1, len(Peptide) + 1):\n",
    "            LinearSpectrum.append(PrefixMass[j] - PrefixMass[i])\n",
    "\n",
    "    # Retorna o espectro linear ordenado\n",
    "    return sorted(LinearSpectrum)\n",
    "\n",
    "# Peptide = 'ETC'\n",
    "Alphabet = ['G', 'A', 'S', 'P', 'V', 'T', 'C', 'I', 'L', 'N', 'D', 'K', 'Q', 'E', 'M', 'H', 'F', 'R', 'Y', 'W'] \n",
    "AminoAcidMass = {'G': 57, 'A': 71, 'S': 87, 'P': 97,\n",
    "                 'V': 99, 'T': 101, 'C': 103, 'I': 113,\n",
    "                 'L': 113, 'N': 114, 'D': 115, 'K': 128,\n",
    "                 'Q': 128, 'E': 129, 'M': 131, 'H': 137,\n",
    "                 'F': 147, 'R': 156, 'Y': 163, 'W': 186}\n",
    "\n",
    "linear = LinearSpectrum('LEADER', Alphabet, AminoAcidMass)\n",
    "print(LinearSpectrum('ETC', Alphabet, AminoAcidMass))\n",
    "print(LinearSpectrum('TCE', Alphabet, AminoAcidMass))\n",
    "print(LinearSpectrum('AQV', Alphabet, AminoAcidMass))\n",
    "print(LinearSpectrum('VQA', Alphabet, AminoAcidMass))\n",
    "print(LinearSpectrum('CET', Alphabet, AminoAcidMass))\n",
    "print(LinearSpectrum('CTV', Alphabet, AminoAcidMass))\n",
    "print(len(linear))"
   ]
  }
 ],
 "metadata": {
  "language_info": {
   "name": "python"
  }
 },
 "nbformat": 4,
 "nbformat_minor": 2
}
