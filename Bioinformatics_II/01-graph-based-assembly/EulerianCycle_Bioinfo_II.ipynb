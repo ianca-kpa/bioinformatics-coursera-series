{
 "cells": [
  {
   "cell_type": "markdown",
   "metadata": {},
   "source": [
    "**O que é um ciclo Euleriano?**\n",
    "* Um ciclo Euleriano é um caminho que começa e termina no mesmo nó de um grafo e passa por todas as arestas exatamente uma vez.\n",
    "* Imagine que você quer desenhar todas as conexões (arestas) de um grafo sem tirar o lápis do papel e sem repetir nenhuma linha.\n",
    "\n",
    "```\n",
    "EulerianCycle(Graph)\n",
    "    form a cycle Cycle by randomly walking in Graph (don't visit the same edge twice!)\n",
    "    while there are unexplored edges in Graph\n",
    "        select a node newStart in Cycle with still unexplored edges\n",
    "        form Cycle’ by traversing Cycle (starting at newStart) and then randomly walking \n",
    "        Cycle ← Cycle’\n",
    "    return Cycle\n",
    "```\n",
    "Code Challenge: Solve the Eulerian Cycle Problem.\n",
    "\n",
    "     Input: The adjacency list of an Eulerian directed graph.\n",
    "     Output: An Eulerian cycle in this graph.\n",
    "\n",
    "### EulerianCycle(Graph)"
   ]
  },
  {
   "cell_type": "code",
   "execution_count": null,
   "metadata": {},
   "outputs": [],
   "source": [
    "from collections import defaultdict\n",
    "\n",
    "def parse_adjacency_list(adj_list):\n",
    "    '''\n",
    "    A função pega uma lista com \"linhas de conexões\" e transforma em um dicionário.\n",
    "    Cada nó (chave) no dicionário tem uma lista de vizinhos (valores).\n",
    "    '''\n",
    "    graph = defaultdict(list)\n",
    "    for line in adj_list:\n",
    "        node, neighbors = line.split(\": \")\n",
    "        graph[int(node)] = list(map(int, neighbors.strip().split()))\n",
    "    return graph\n",
    "\n",
    "def EulerianCycle(graph):\n",
    "    \"\"\" Encontra um ciclo Euleriano em um grafo dirigido. \"\"\"\n",
    "    # Copiar o grafo para preservar as arestas originais\n",
    "    graph_copy = {node: edges[:] for node, edges in graph.items()}\n",
    "    # Escolher um nó inicial arbitrário\n",
    "    start_node = next(iter(graph))\n",
    "    current_path = [start_node]\n",
    "    cycle = []\n",
    "    \n",
    "    while current_path:\n",
    "        current_node = current_path[-1]\n",
    "        if graph_copy[current_node]:\n",
    "            # Escolher a próxima aresta\n",
    "            next_node = graph_copy[current_node].pop()\n",
    "            current_path.append(next_node)\n",
    "        else:\n",
    "            # Fechar o ciclo\n",
    "            cycle.append(current_path.pop())\n",
    "    \n",
    "    # O ciclo está invertido, então invertemos a ordem\n",
    "    return cycle[::-1]\n",
    "\n",
    "def format_output(cycle):\n",
    "    return \" \".join(map(str, cycle))\n",
    "\n",
    "# Ler a lista de adjacência de um arquivo\n",
    "input_file = \"dataset_30187_2.txt\"\n",
    "with open(input_file, 'r') as f:\n",
    "    adj_list = f.readlines()\n",
    "\n",
    "graph = parse_adjacency_list(adj_list)\n",
    "cycle = EulerianCycle(graph)\n",
    "formatted_cycle = format_output(cycle)\n",
    "\n",
    "print(formatted_cycle)"
   ]
  },
  {
   "cell_type": "markdown",
   "metadata": {},
   "source": [
    "##### A expressão {node: edges[:] for node, edges in graph.items()} cria um novo dicionário, seguindo esta lógica: #####\n",
    "\n",
    "1. Para cada par (node, edges) no graph.items():\n",
    "  * A chave no novo dicionário será node.\n",
    "  * O valor no novo dicionário será uma cópia da lista edges.\n",
    "2. Por que edges[:]?\n",
    "  * edges[:] faz uma cópia rasa (shallow copy) da lista edges. Isso significa que criamos uma nova lista com os mesmos elementos, mas sem alterar a lista original.\n",
    "\n",
    "3. Resumindo => ```graph_copy = {node: edges[:] for node, edges in graph.items()}```\n",
    "\n",
    "  * Cria uma cópia independente do grafo original.\n",
    "  * Usa compreensão de dicionário para processar cada nó (node) e sua lista de conexões (edges).\n",
    "  * Garante que mudanças na cópia (graph_copy) não afetem o grafo original (graph)."
   ]
  }
 ],
 "metadata": {
  "kernelspec": {
   "display_name": "base",
   "language": "python",
   "name": "python3"
  },
  "language_info": {
   "codemirror_mode": {
    "name": "ipython",
    "version": 3
   },
   "file_extension": ".py",
   "mimetype": "text/x-python",
   "name": "python",
   "nbconvert_exporter": "python",
   "pygments_lexer": "ipython3",
   "version": "3.9.13"
  }
 },
 "nbformat": 4,
 "nbformat_minor": 2
}
