{
 "cells": [
  {
   "cell_type": "markdown",
   "metadata": {},
   "source": [
    "String Soletrada por um Problema de Caminho do Genoma. \n",
    "Reconstrua uma string a partir de seu caminho do genoma.\n",
    "\n",
    "* Entrada: Um caminho de sequência de k -mers Padrão 1 , …, Padrão n tal que os últimos k - 1 símbolos do Padrão i são iguais aos primeiros k - 1 símbolos do Padrão i+1 para 1 ≤ i ≤ n- 1.\n",
    "* Saída: Uma string Texto de comprimento k + n - 1 tal que o i - ésimo k -mero em Texto é igual ao Padrão i (para 1 ≤ i ≤ n).\n",
    "\n",
    "\n",
    "Reconstruir o genoma a partir do seu caminho genômico é fácil: à medida que avançamos da esquerda para a direita, os 3-mers “soletram” TAATGCCATGGGATGTT, adicionando um novo símbolo ao genoma em cada novo 3-mer. \n",
    "\n",
    "#### PathToGenome(path) "
   ]
  },
  {
   "cell_type": "code",
   "execution_count": null,
   "metadata": {},
   "outputs": [],
   "source": [
    "def aspas_vir_str():\n",
    "    with open(\"dataset_30182_3.txt\", \"r\") as file_1:\n",
    "        linhas_1 = file_1.readlines()\n",
    "    Text = linhas_1[0].strip()\n",
    "    string_original = Text\n",
    "    palavras = string_original.split()\n",
    "    palavras_com_aspas_e_virgulas = ['\"' + palavra + '\",' for palavra in palavras]\n",
    "    string_final = ' '.join(palavras_com_aspas_e_virgulas)\n",
    "    return string_final\n",
    "\n",
    "def PathToGenome(path):\n",
    "  Genome_const = path[0] # Inicia o genoma com o primeiro 'path'.\n",
    "  for i in path[1:]:\n",
    "    Genome_const += i[-1] # Adiciona o último nucl de 'i' em Genoma_const\n",
    "  return Genome_const\n",
    "\n",
    "\n",
    "path = ['TAA', 'AAT', 'ATG', 'TGC', 'GCC', 'CCA', 'CAT', 'ATG', 'TGG', 'GGG', 'GGA', 'GAT', 'ATG', 'TGT', 'GTT']\n",
    "\n",
    "# print(aspas_vir_str())\n",
    "print(PathToGenome(path))"
   ]
  }
 ],
 "metadata": {
  "language_info": {
   "name": "python"
  }
 },
 "nbformat": 4,
 "nbformat_minor": 2
}
