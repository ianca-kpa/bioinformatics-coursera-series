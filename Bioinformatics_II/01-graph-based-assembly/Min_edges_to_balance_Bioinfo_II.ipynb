{
 "cells": [
  {
   "cell_type": "markdown",
   "metadata": {},
   "source": [
    "#### Min_edges_to_balance(graph)"
   ]
  },
  {
   "cell_type": "code",
   "execution_count": null,
   "metadata": {},
   "outputs": [],
   "source": [
    "from collections import defaultdict\n",
    "\n",
    "# Adjacency list of the graph\n",
    "graph = {\n",
    "    1: [2, 3, 5],\n",
    "    2: [1, 4],\n",
    "    3: [2, 5],\n",
    "    4: [1, 2, 5],\n",
    "    5: [3, 4]\n",
    "}\n",
    "\n",
    "# Calculate in-degrees and out-degrees\n",
    "def calculate_degrees(graph):\n",
    "    out_degree = defaultdict(int)\n",
    "    in_degree = defaultdict(int)\n",
    "\n",
    "    for node, neighbors in graph.items():\n",
    "        out_degree[node] = len(neighbors)\n",
    "        for neighbor in neighbors:\n",
    "            in_degree[neighbor] += 1\n",
    "\n",
    "    return in_degree, out_degree\n",
    "\n",
    "# Find the minimum number of edges to balance the graph\n",
    "def min_edges_to_balance(graph):\n",
    "    in_degree, out_degree = calculate_degrees(graph)\n",
    "    \n",
    "    imbalance = defaultdict(int)\n",
    "    for node in set(in_degree.keys()).union(out_degree.keys()):\n",
    "        imbalance[node] = out_degree[node] - in_degree[node]\n",
    "    \n",
    "    # Positive imbalance needs extra incoming edges\n",
    "    positive_imbalance = sum(v for v in imbalance.values() if v > 0)\n",
    "    return positive_imbalance\n",
    "\n",
    "# Calculate the result\n",
    "min_edges = min_edges_to_balance(graph)\n",
    "print(\"Minimum number of edges to add:\", min_edges)"
   ]
  }
 ],
 "metadata": {
  "language_info": {
   "name": "python"
  }
 },
 "nbformat": 4,
 "nbformat_minor": 2
}
