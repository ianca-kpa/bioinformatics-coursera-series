{
 "cells": [
  {
   "cell_type": "markdown",
   "metadata": {},
   "source": [
    "Em geral, dado um genoma Text, PathGraph k (Text) é o caminho que consiste em | ext| - k + 1 arestas, onde a i-ésima aresta deste caminho é rotulada pelo i-ésimo k-mero em Text e o i-ésimo nó do caminho é rotulado pelo i-ésimo (k - 1)-mero em Text. O gráfico de Bruijn DeBruijnk(Text) é formado pela colagem de nós rotulados de forma idêntica em PathGraph k (Text).\n",
    "\n",
    "* Gráfico de De Bruijn a partir de uma string Problema: Construa o gráfico de De Bruijn de uma string.\n",
    "\n",
    "* Entrada : Um inteiro k e uma string Text .\n",
    "* Saída : DeBruijn_k(Text).\n",
    "\n",
    "### DeBruijn_k(Text)"
   ]
  },
  {
   "cell_type": "code",
   "execution_count": null,
   "metadata": {},
   "outputs": [],
   "source": [
    "def DeBruijn_k(k, Text):\n",
    "    \"\"\"\n",
    "    Constrói o grafo de De Bruijn para um inteiro k e uma string text.\n",
    "    Parameters:\n",
    "    k (int): Comprimento dos k-mers.\n",
    "    text (str): Sequência de entrada.\n",
    "    Returns:\n",
    "    dict: Lista de adjacência representando o grafo de De Bruijn.\n",
    "    \"\"\"\n",
    "    adjacency_list = {}\n",
    "    # Gerar k-mers e construir a lista de adjacência\n",
    "    for i in range(len(Text) - k + 1):\n",
    "        kmer = Text[i:i+k]\n",
    "        prefix = kmer[:-1]  # Os primeiros k-1 símbolos\n",
    "        suffix = kmer[1:]  # Os últimos k-1 símbolos\n",
    "        \n",
    "        if prefix not in adjacency_list:\n",
    "            adjacency_list[prefix] = []\n",
    "        adjacency_list[prefix].append(suffix)\n",
    "    return adjacency_list\n",
    "\n",
    "def format_output(graph):\n",
    "    \"\"\"\n",
    "    Formata a saída do grafo de De Bruijn como uma string.\n",
    "    Parameters:\n",
    "    graph (dict): Lista de adjacência do grafo de De Bruijn.\n",
    "    Returns:\n",
    "    str: Representação formatada do grafo.\n",
    "    \"\"\"\n",
    "    result = []\n",
    "    for key in sorted(graph.keys()):\n",
    "        result.append(f\"{key}: {' '.join(graph[key])}\")\n",
    "    return \"\\n\".join(result)\n",
    "\n",
    "# with open(\"dataset_30183_6.txt\", \"r\") as file_1:\n",
    "#     linhas_1 = file_1.readlines()\n",
    "#     Text = linhas_1[1].strip()\n",
    "#     k = int(linhas_1[0].strip())\n",
    "\n",
    "print(format_output(DeBruijn_k(4, 'TAATGCCATGGGATGTT')))"
   ]
  }
 ],
 "metadata": {
  "language_info": {
   "name": "python"
  }
 },
 "nbformat": 4,
 "nbformat_minor": 2
}
