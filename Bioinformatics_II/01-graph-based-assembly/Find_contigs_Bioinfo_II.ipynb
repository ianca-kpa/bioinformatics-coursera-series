{
 "cells": [
  {
   "cell_type": "markdown",
   "metadata": {},
   "source": [
    "Problema de geração de contig: gerar os contigs a partir de uma coleção de leituras (com cobertura imperfeita).\n",
    "\n",
    "* Entrada: Uma coleção de padrões k-mers.\n",
    "* Saída: Todos os contigs em DeBruijn(Patterns)."
   ]
  },
  {
   "cell_type": "code",
   "execution_count": null,
   "metadata": {},
   "outputs": [],
   "source": [
    "from collections import defaultdict\n",
    "\n",
    "def build_debruijn_graph(patterns):\n",
    "    graph = defaultdict(list)\n",
    "    for pattern in patterns:\n",
    "        prefix = pattern[:-1]\n",
    "        suffix = pattern[1:]\n",
    "        graph[prefix].append(suffix)\n",
    "    return graph\n",
    "\n",
    "def is_1_in_1_out(node, graph, indegree, outdegree):\n",
    "    return indegree[node] == 1 and outdegree[node] == 1\n",
    "\n",
    "def calculate_degrees(graph):\n",
    "    indegree = defaultdict(int)\n",
    "    outdegree = defaultdict(int)\n",
    "    \n",
    "    for node in graph:\n",
    "        outdegree[node] = len(graph[node])\n",
    "        for neighbor in graph[node]:\n",
    "            indegree[neighbor] += 1\n",
    "            \n",
    "    return indegree, outdegree\n",
    "\n",
    "def find_contigs(graph):\n",
    "    contigs = []\n",
    "    indegree, outdegree = calculate_degrees(graph)\n",
    "    \n",
    "    for node in graph:\n",
    "        if not is_1_in_1_out(node, graph, indegree, outdegree) and outdegree[node] > 0:\n",
    "            for neighbor in graph[node]:\n",
    "                path = [node, neighbor]\n",
    "                while is_1_in_1_out(neighbor, graph, indegree, outdegree):\n",
    "                    next_node = graph[neighbor][0]\n",
    "                    path.append(next_node)\n",
    "                    neighbor = next_node\n",
    "                contigs.append(\"\".join([path[0]] + [p[-1] for p in path[1:]]))\n",
    "    return contigs\n",
    "\n",
    "# Entrada como string de k-mers separados por espaços\n",
    "with open(\"dataset_30189_5.txt\", \"r\") as file_1:\n",
    "    linhas_1 = file_1.readlines()\n",
    "    input_string = linhas_1[0].strip()\n",
    "\n",
    "# Converter a entrada em uma lista de k-mers\n",
    "patterns = input_string.split()\n",
    "\n",
    "# Construir o grafo de De Bruijn\n",
    "graph = build_debruijn_graph(patterns)\n",
    "\n",
    "# Encontrar os contigs\n",
    "contigs = find_contigs(graph)\n",
    "\n",
    "# Exibir os contigs\n",
    "for contig in contigs:\n",
    "    print(contig)"
   ]
  }
 ],
 "metadata": {
  "language_info": {
   "name": "python"
  }
 },
 "nbformat": 4,
 "nbformat_minor": 2
}
