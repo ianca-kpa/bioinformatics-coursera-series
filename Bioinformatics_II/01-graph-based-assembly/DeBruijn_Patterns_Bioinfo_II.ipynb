{
 "cells": [
  {
   "cell_type": "markdown",
   "metadata": {},
   "source": [
    "DeBruijn Graph from k-mers Problem: Construct the de Bruijn graph from a set of k-mers.\n",
    "\n",
    "* Input: A collection of k-mers Patterns.\n",
    "* Output: The adjacency list of the de Bruijn graph DeBruijn(Patterns).\n",
    "* Code Challenge: Solve the de Bruijn Graph from k-mers Problem.\n",
    "\n",
    "### DeBruijn(Patterns)"
   ]
  },
  {
   "cell_type": "code",
   "execution_count": null,
   "metadata": {},
   "outputs": [],
   "source": [
    "def DeBruijn(Patterns):\n",
    "    adjacency_list = {}\n",
    "    for pattern in Patterns:\n",
    "        prefix = pattern[:-1]  # Os primeiros símbolos\n",
    "        suffix = pattern[1:]  # Os últimos símbolos\n",
    "        \n",
    "        if prefix not in adjacency_list:\n",
    "            adjacency_list[prefix] = []\n",
    "        adjacency_list[prefix].append(suffix)\n",
    "    return adjacency_list\n",
    "\n",
    "def format_output(graph):\n",
    "    result = []\n",
    "    for key in sorted(graph.keys()):\n",
    "        result.append(f\"{key}: {' '.join(graph[key])}\")\n",
    "    return \"\\n\".join(result)\n",
    "\n",
    "# def aspas_vir_str():\n",
    "#     with open(\"dataset_30184_8.txt\", \"r\") as file_1:\n",
    "#         linhas_1 = file_1.readlines()\n",
    "#     Text = linhas_1[0].strip()\n",
    "#     string_original = Text\n",
    "#     palavras = string_original.split()\n",
    "#     palavras_com_aspas_e_virgulas = ['\"' + palavra + '\",' for palavra in palavras]\n",
    "#     string_final = ' '.join(palavras_com_aspas_e_virgulas)\n",
    "#     return string_final\n",
    "# print(aspas_vir_str())\n",
    "\n",
    "Patterns = ['GAGG', 'CAGG', 'GGGG', 'GGGA', 'CAGG', 'AGGG', 'GGAG',]\n",
    "resultado = DeBruijn(Patterns)\n",
    "print(format_output(resultado))"
   ]
  }
 ],
 "metadata": {
  "language_info": {
   "name": "python"
  }
 },
 "nbformat": 4,
 "nbformat_minor": 2
}
