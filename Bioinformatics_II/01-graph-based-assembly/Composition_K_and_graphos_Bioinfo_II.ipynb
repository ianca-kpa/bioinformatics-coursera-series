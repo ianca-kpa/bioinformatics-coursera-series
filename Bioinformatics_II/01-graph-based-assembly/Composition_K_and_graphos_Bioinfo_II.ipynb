{
 "cells": [
  {
   "cell_type": "markdown",
   "metadata": {},
   "source": [
    "### Grafo euleriano:\n",
    "- é possível visitar todas as arestas, porém passando em cada aresta apenas uma vez;\n",
    "- o vértice origem e o vértice destino são os mesmos (forma-se um ciclo eureliano);\n",
    "- *Caminho euleriano*: caminho que inclui cada aresta do grafo exatamente uma vez;\n",
    "- *Ciclo eureliano*: ciclo que inclui cada aresta do grafo exatamente uma única vez;\n",
    "- *Grafo semi-euleriano*: é possível visitar todas as arestas passando em cada aresta apenas uma vez; o vértice destino é diferente do vértice origem. Neste caso, um é o ponto de partida e o outro é o ponto de chegada;\n",
    "\n",
    "### Grafo Hamiltoniano:\n",
    "- é possível visitar todos os vértices, porém passando em cada vértice apenas uma vez;\n",
    "-  o vértice origem e o vértice destino são os mesmos (forma-se um ciclo hamiltoniano);\n",
    "- *Caminho hamiltoniano*: caminho que inclui cada vértice do grafo exatamente uma vez;\n",
    "- *Ciclo hamiltoniano*: ciclo que inclui cada vértice do grafo exatamente uma única vez, repetindo apenas o vértice de partida;"
   ]
  },
  {
   "cell_type": "markdown",
   "metadata": {},
   "source": [
    "Reconstruindo strings a partir de k -mers\n",
    "* Agora estamos prontos para definir um problema computacional modelando a montagem do genoma. Dada uma string Text, sua composição k-mer Compositionk(Text) é a coleção de todas as substrings k-mer de Text (incluindo k-mers repetidos). Por exemplo,\n",
    "\n",
    "\n",
    "```Composition3(TATGGGGTGC) = {ATG, GGG, GGG, GGT, GTG, TAT, TGC, TGG}.```\n",
    "\n",
    "Observe que listamos k -mers em ordem lexicográfica (ou seja, como eles apareceriam em um dicionário) em vez de na ordem de sua aparição em TATGGGGTGC. Fizemos isso porque a ordem correta das leituras é desconhecida quando elas são geradas.\n",
    "\n",
    "* Problema de composição de strings: Gere a composição k-mer de uma string.\n",
    "\n",
    "- Entrada: An integer k and a string Text.\n",
    "- Saída: Compositionk(Text).\n",
    "\n",
    "#### Composition_K(Text, k)"
   ]
  },
  {
   "cell_type": "code",
   "execution_count": null,
   "metadata": {},
   "outputs": [],
   "source": [
    "def aspas_vir_str():\n",
    "    with open(\"dataset_30153_3.txt\", \"r\") as file_1:\n",
    "        linhas_1 = file_1.readlines()\n",
    "    Text = linhas_1[1].strip()\n",
    "    string_original = Text\n",
    "    palavras = string_original.split()\n",
    "    palavras_com_aspas_e_virgulas = ['\"' + palavra + '\",' for palavra in palavras]\n",
    "    string_final = ' '.join(palavras_com_aspas_e_virgulas)\n",
    "    return string_final\n",
    "\n",
    "def Composition_K(Text, k):\n",
    "    k_mers = []\n",
    "    for i in range(len(Text) - k + 1):\n",
    "        k_mer = Text[i:i + k]\n",
    "        k_mers.append(k_mer)\n",
    "    return k_mers\n",
    "\n",
    "\n",
    "Text = 'TAATGCCATGGGATGTT'\n",
    "k = 3\n",
    "\n",
    "# print(aspas_vir_str())\n",
    "print(Composition_K(Text, 2))\n",
    "print(Composition_K(Text,k))\n"
   ]
  }
 ],
 "metadata": {
  "kernelspec": {
   "display_name": "base",
   "language": "python",
   "name": "python3"
  },
  "language_info": {
   "codemirror_mode": {
    "name": "ipython",
    "version": 3
   },
   "file_extension": ".py",
   "mimetype": "text/x-python",
   "name": "python",
   "nbconvert_exporter": "python",
   "pygments_lexer": "ipython3",
   "version": "3.9.13"
  }
 },
 "nbformat": 4,
 "nbformat_minor": 2
}
