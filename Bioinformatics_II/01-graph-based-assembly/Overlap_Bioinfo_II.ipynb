{
 "cells": [
  {
   "cell_type": "markdown",
   "metadata": {},
   "source": [
    "### Overlap Graph Problem\n",
    "\n",
    "**Descrição do Problema**: Dado uma coleção de k-mers, o objetivo é construir um **grafo de sobreposição** no formato de uma **lista de adjacência**.\n",
    "\n",
    "**Definição de Sobreposição**\n",
    "* No grafo de sobreposição:\n",
    "- Existe uma aresta dirigida de um nó Pattern_i para Pattern_j se:\n",
    "  - Os últimos k-1 símbolos de Pattern_i forem iguais aos primeiros k-1 símbolos de Pattern_j.\n",
    "\n",
    "**Entrada**\n",
    "- Uma lista de k-mers separados por espaço.\n",
    "\n",
    "**Saída**\n",
    "- O grafo de sobreposição no formato de lista de adjacência, onde:\n",
    "  - Para cada Pattern_i, os Pattern_j que têm sobreposição com Pattern_i são listados como seus vizinhos.\n",
    "\n",
    "### Overlap(patterns)"
   ]
  },
  {
   "cell_type": "code",
   "execution_count": null,
   "metadata": {},
   "outputs": [],
   "source": [
    "def Overlap(patterns):\n",
    "    kmers = patterns.split()\n",
    "    prefix = {kmer: kmer[:-1] for kmer in kmers}\n",
    "    suffix = {kmer: kmer[1:] for kmer in kmers}\n",
    "\n",
    "    adjacency = {kmer: [] for kmer in kmers}\n",
    "    for kmer in kmers:\n",
    "        for key, value in prefix.items():\n",
    "            if suffix[kmer] == value:\n",
    "                adjacency[kmer].append(key)\n",
    "    \n",
    "    # Remove all the keys in adjacency if its value is empty list\n",
    "    adjacency = {key: value for key, value in adjacency.items() if value}\n",
    "    # print('\\n'.join(f'{kmer}: {\" \".join(adj)}' for kmer, adj in adjacency.items()))\n",
    "    return adjacency"
   ]
  },
  {
   "cell_type": "markdown",
   "metadata": {},
   "source": [
    "##### Exemplo da IA:"
   ]
  },
  {
   "cell_type": "code",
   "execution_count": null,
   "metadata": {},
   "outputs": [],
   "source": [
    "def overlap_graph(patterns):\n",
    "    \"\"\"\n",
    "    Constrói o grafo de sobreposição a partir de uma coleção de k-mers.\n",
    "    Parameters:\n",
    "    patterns: Lista de strings representando os k-mers.\n",
    "    Returns:\n",
    "    adj_list: Um dicionário representando a lista de adjacência do grafo.\n",
    "    \"\"\"\n",
    "    adj_list = {}  # Dicionário para armazenar a lista de adjacência\n",
    "\n",
    "    # Iterar sobre todos os pares de k-mers\n",
    "    for pattern1 in patterns:\n",
    "        suffix = pattern1[1:]  # Últimos k-1 símbolos de pattern1\n",
    "        for pattern2 in patterns:\n",
    "            prefix = pattern2[:-1]  # Primeiros k-1 símbolos de pattern2\n",
    "            if suffix == prefix:  # Condição de sobreposição\n",
    "                # Adicionar pattern2 como vizinho de pattern1\n",
    "                if pattern1 not in adj_list:\n",
    "                    adj_list[pattern1] = []\n",
    "                adj_list[pattern1].append(pattern2)\n",
    "    \n",
    "    return adj_list\n",
    "\n",
    "# Exemplo de entrada\n",
    "with open(\"dataset_30182_10.txt\", \"r\") as file_1:\n",
    "    linhas_1 = file_1.readlines()\n",
    "    Text = linhas_1[0].strip()\n",
    "    string_original = Text\n",
    "\n",
    "patterns = string_original.split()\n",
    "# print(patterns)\n",
    "# # Resolver o problema\n",
    "result = overlap_graph(patterns)\n",
    "\n",
    "# # Imprimir a lista de adjacência em formato solicitado\n",
    "for key in result.keys():  # Ordena as chaves para saída organizada\n",
    "    print(f\"{key}: {' '.join(result[key])}\")"
   ]
  }
 ],
 "metadata": {
  "language_info": {
   "name": "python"
  }
 },
 "nbformat": 4,
 "nbformat_minor": 2
}
