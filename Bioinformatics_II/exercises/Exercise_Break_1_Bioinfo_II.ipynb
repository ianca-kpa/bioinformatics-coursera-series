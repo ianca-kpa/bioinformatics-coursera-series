{
 "cells": [
  {
   "cell_type": "markdown",
   "metadata": {},
   "source": [
    "Exercise Break: Generate the (3,2)-mer composition of TAATGCCATGGGATGTT in lexicographic order. Include repeats, and return your answer as a list on a single line.  As a hint to help you with formatting, your answer should begin \"(AAT|CAT) (ATG|ATG)...\""
   ]
  },
  {
   "cell_type": "code",
   "execution_count": null,
   "metadata": {},
   "outputs": [],
   "source": [
    "def paired_composition(text, k, d):\n",
    "    \"\"\"Gera a (k,d)-mer composition de uma sequência.\"\"\"\n",
    "    paired_kmers = []\n",
    "    n = len(text)\n",
    "    \n",
    "    # Percorre a sequência para gerar (k,d)-mers\n",
    "    for i in range(n - 2 * k - d + 1):\n",
    "        pattern1 = text[i:i+k]\n",
    "        pattern2 = text[i+k+d:i+2*k+d]\n",
    "        paired_kmers.append((pattern1, pattern2))\n",
    "    # Ordenar lexicograficamente baseado na concatenação dos pares\n",
    "    paired_kmers.sort(key=lambda x: x[0] + x[1])\n",
    "    return paired_kmers\n",
    "\n",
    "# Exemplo: sequência e parâmetros\n",
    "sequence = \"TAATGCCATGGGATGTT\"\n",
    "k = 3  # Tamanho do k-mer\n",
    "d = 2  # Distância\n",
    "\n",
    "result = paired_composition(sequence, k, d)\n",
    "\n",
    "print(\" \".join(f\"({pair[0]}|{pair[1]})\" for pair in result))"
   ]
  }
 ],
 "metadata": {
  "language_info": {
   "name": "python"
  }
 },
 "nbformat": 4,
 "nbformat_minor": 2
}
