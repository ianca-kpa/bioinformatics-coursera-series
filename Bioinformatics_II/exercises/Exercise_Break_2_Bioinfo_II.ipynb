{
 "cells": [
  {
   "cell_type": "markdown",
   "metadata": {},
   "source": [
    "Intervalo para exercício: Quantas sequências de DNA de comprimento 30 são transcritas e traduzidas em Tirocidina B1? (Não inclua o códon de parada.)\n",
    "\n",
    "Lembre-se de que a sequência de aminoácidos da Tirocidina B1 é 'Val-Lys-Leu-Phe-Pro-Trp-Phe-Asn-Gln-Tyr'."
   ]
  },
  {
   "cell_type": "code",
   "execution_count": null,
   "metadata": {},
   "outputs": [],
   "source": [
    "def TranslatePossibilities(triple_letter_sequence):\n",
    "    # Passo 1: Quebra a sequência em partes de 3 letras\n",
    "    triple_letter_list = triple_letter_sequence.split('-')\n",
    "    # Passo 2: Converte cada parte de 3 letras para 1 letra\n",
    "    single_letter_list = [Abreviation[aa] for aa in triple_letter_list]\n",
    "    # Passo 3: Junta as letras em uma string\n",
    "    single_letter_sequence = ''.join(single_letter_list)\n",
    "\n",
    "    # Calcular possibilidades de tradução\n",
    "    p = 1\n",
    "    for peptide in single_letter_sequence:\n",
    "        codons = []\n",
    "        for codon, aa in GeneticCode.items():\n",
    "            if aa == peptide:\n",
    "                codons.append(codon)\n",
    "        if len(codons) > 1:\n",
    "            p *= len(codons)\n",
    "    return p\n",
    "\n",
    "\n",
    "GeneticCode = {\"UUU\": \"F\", \"UUC\": \"F\", \"UUA\": \"L\", \"UUG\": \"L\",\n",
    "               \"UCU\": \"S\", \"UCC\": \"S\", \"UCA\": \"S\", \"UCG\": \"S\",\n",
    "               \"UAU\": \"Y\", \"UAC\": \"Y\", \"UAA\": \"STOP\", \"UAG\": \"STOP\",\n",
    "               \"UGU\": \"C\", \"UGC\": \"C\", \"UGA\": \"STOP\", \"UGG\": \"W\",\n",
    "               \"CUU\": \"L\", \"CUC\": \"L\", \"CUA\": \"L\", \"CUG\": \"L\",\n",
    "               \"CCU\": \"P\", \"CCC\": \"P\", \"CCA\": \"P\", \"CCG\": \"P\",\n",
    "               \"CAU\": \"H\", \"CAC\": \"H\", \"CAA\": \"Q\", \"CAG\": \"Q\",\n",
    "               \"CGU\": \"R\", \"CGC\": \"R\", \"CGA\": \"R\", \"CGG\": \"R\",\n",
    "               \"AUU\": \"I\", \"AUC\": \"I\", \"AUA\": \"I\", \"AUG\": \"M\",\n",
    "               \"ACU\": \"T\", \"ACC\": \"T\", \"ACA\": \"T\", \"ACG\": \"T\",\n",
    "               \"AAU\": \"N\", \"AAC\": \"N\", \"AAA\": \"K\", \"AAG\": \"K\",\n",
    "               \"AGU\": \"S\", \"AGC\": \"S\", \"AGA\": \"R\", \"AGG\": \"R\",\n",
    "               \"GUU\": \"V\", \"GUC\": \"V\", \"GUA\": \"V\", \"GUG\": \"V\",\n",
    "               \"GCU\": \"A\", \"GCC\": \"A\", \"GCA\": \"A\", \"GCG\": \"A\",\n",
    "               \"GAU\": \"D\", \"GAC\": \"D\", \"GAA\": \"E\", \"GAG\": \"E\",\n",
    "               \"GGU\": \"G\", \"GGC\": \"G\", \"GGA\": \"G\", \"GGG\": \"G\"}\n",
    "\n",
    "Abreviation = {'Val': 'V',\n",
    "               'Lys': 'K',\n",
    "               'Leu': 'L',\n",
    "               'Phe': 'F',\n",
    "               'Pro': 'P',\n",
    "               'Trp': 'W',\n",
    "               'Asn': 'N',\n",
    "               'Gln': 'Q',\n",
    "               'Tyr': 'Y'\n",
    "               }\n",
    "\n",
    "triple_letter_sequence = 'Val-Lys-Leu-Phe-Pro-Trp-Phe-Asn-Gln-Tyr'\n",
    "\n",
    "print(TranslatePossibilities(triple_letter_sequence))"
   ]
  }
 ],
 "metadata": {
  "language_info": {
   "name": "python"
  }
 },
 "nbformat": 4,
 "nbformat_minor": 2
}
