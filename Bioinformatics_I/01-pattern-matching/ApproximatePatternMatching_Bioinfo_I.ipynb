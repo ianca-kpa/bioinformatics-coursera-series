{
 "cells": [
  {
   "cell_type": "markdown",
   "metadata": {},
   "source": [
    "### ApproximatePatternMatching(Text, Pattern, d)\n",
    "Dizemos que um k-mer 'Pattern' aparece como uma substring de 'Text' com no máximo 'd' de incompatibilidades se houver alguma substring k-mer 'Pattern' de 'Text' tendo 'd' ou menos incompatibilidades com 'Pattern'; aquilo é, 'HammingDistance(Pattern, Pattern')' ≤ 'd'. \n",
    "\n",
    "Nossa observação de que uma caixa de DNA pode aparecer com pequenas variações leva à seguinte generalização do Problema de Correspondência de Padrões.\n",
    "\n",
    "* Problema de correspondência de padrões aproximados: Encontre todas as ocorrências aproximadas de um Pattern em uma string.\n",
    "* Entrada: Strings 'Pattern' e 'Text' junto com um inteiro 'd'.\n",
    "* Saída: Todas as posições iniciais onde 'Pattern' aparece como uma substring de 'Text' com no máximo 'd' de incompatibilidades."
   ]
  },
  {
   "cell_type": "code",
   "execution_count": null,
   "metadata": {},
   "outputs": [],
   "source": [
    "def HammingDistance(p, q):\n",
    "    if len(p) != len(q):\n",
    "        print(\"Variáveis com tamanhos diferentes!\")\n",
    "    distancia = 0\n",
    "    for i in range(len(p)):\n",
    "        if p[i] != q[i]:\n",
    "            distancia += 1\n",
    "    return distancia\n",
    "\n",
    "def ApproximatePatternMatching(Text, Pattern, d):\n",
    "    positions = []  # initializing list of positions\n",
    "    for i in range(len(Text) - len(Pattern) + 1):\n",
    "        if HammingDistance(Text[i:i+len(Pattern)], Pattern) <= d:\n",
    "            positions.append(i)\n",
    "    return positions\n",
    "\n",
    "with open('dataset_30278_4.txt', 'r') as file:\n",
    "    linhas = file.readlines()\n",
    "\n",
    "# Atribuindo as variáveis\n",
    "Pattern = linhas[0].strip()  # Primeira linha\n",
    "Text = linhas[1].strip()    # Segunda linha\n",
    "d = int(linhas[2].strip())  # Terceira linha\n",
    "\n",
    "print(ApproximatePatternMatching(Text, Pattern, d))"
   ]
  },
  {
   "cell_type": "markdown",
   "metadata": {},
   "source": [
    "Considerações:\n",
    "\n",
    "* A expressão range(len(Text) - len(Pattern) + 1) é usada para determinar todas as possíveis posições iniciais em 'Text' onde o 'Pattern' (padrão) pode ser comparado. \n",
    "* O motivo de subtrair len(Pattern) de len(Text) é garantir que o padrão só seja comparado dentro dos limites do texto.\n",
    "* O +1 é adicionado para garantir que o último possível segmento do texto, com comprimento igual ao padrão, seja considerado. Isso ocorre porque o índice de Python é baseado em zero.\n",
    "\n",
    "##### Exemplo:\n",
    "\n",
    "  - Text: \"AAGCCTAG\"\n",
    "  - Pattern: \"GCC\"\n",
    "  - d: 1\n",
    "\n",
    "Passo a Passo:\n",
    "\n",
    "1. Comprimento do Text: len(Text) = 8\n",
    "2. Comprimento do Pattern: len(Pattern) = 3\n",
    "3. A expressão len(Text) - len(Pattern) + 1 se torna: 8 − 3 + 1 = 6\n",
    "4. Portanto, range(6) gera os índices 0, 1, 2, 3, 4, 5. Estes são os pontos de partida possíveis para extrair substrings de comprimento 3 (o comprimento do Pattern) do Text.\n",
    "\n",
    "4.1. Substrings Comparadas:\n",
    "\n",
    "* Para i = 0: Substring Text[0:3] = \"AAG\"\n",
    "* Para i = 1: Substring Text[1:4] = \"AGC\"\n",
    "* Para i = 2: Substring Text[2:5] = \"GCC\"\n",
    "* Para i = 3: Substring Text[3:6] = \"CCT\"\n",
    "* Para i = 4: Substring Text[4:7] = \"CTA\"\n",
    "* Para i = 5: Substring Text[5:8] = \"TAG\"\n",
    "\n",
    "Essas são todas as substrings do Text com o mesmo comprimento do Pattern."
   ]
  }
 ],
 "metadata": {
  "language_info": {
   "name": "python"
  }
 },
 "nbformat": 4,
 "nbformat_minor": 2
}
