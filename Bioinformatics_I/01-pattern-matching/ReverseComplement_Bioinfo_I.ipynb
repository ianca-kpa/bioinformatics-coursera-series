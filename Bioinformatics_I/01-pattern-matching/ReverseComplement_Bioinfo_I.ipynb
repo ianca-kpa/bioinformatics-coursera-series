{
 "cells": [
  {
   "cell_type": "markdown",
   "metadata": {},
   "source": [
    "### ReverseComplement(Pattern)\n",
    "A principal função é encontrar o padrão complementar. Para isso são necessárias algumas etapas:\n",
    "1. Construir a versão reversa do padrão;\n",
    "2. Criar um dicionário com os nucleotídeos complementares; e uma varíavel para receber os novos valores;\n",
    "3. Realizar as duas coisas em conjunto."
   ]
  },
  {
   "cell_type": "code",
   "execution_count": 1,
   "metadata": {},
   "outputs": [
    {
     "name": "stdout",
     "output_type": "stream",
     "text": [
      "GACACAA\n"
     ]
    }
   ],
   "source": [
    "def Reverse(Pattern):\n",
    "    return Pattern[::-1] # Retorna uma lista com as letras começando do índice -1 (último)\n",
    "  \n",
    "def Complement(Pattern):\n",
    "    string = ''\n",
    "    dict = {'A':'T','T':'A','G':'C','C':'G'}\n",
    "    for char in Pattern:\n",
    "        string = string + dict[char]\n",
    "    return string\n",
    "\n",
    "def ReverseComplement(Pattern):   \n",
    "    Pattern = Reverse(Pattern) # reverse all letters in a string\n",
    "    Pattern = Complement(Pattern) # complement each letter in a string\n",
    "    return Pattern\n",
    " \n",
    "print(ReverseComplement(\"TTGTGTC\"))"
   ]
  }
 ],
 "metadata": {
  "kernelspec": {
   "display_name": "base",
   "language": "python",
   "name": "python3"
  },
  "language_info": {
   "codemirror_mode": {
    "name": "ipython",
    "version": 3
   },
   "file_extension": ".py",
   "mimetype": "text/x-python",
   "name": "python",
   "nbconvert_exporter": "python",
   "pygments_lexer": "ipython3",
   "version": "3.9.13"
  }
 },
 "nbformat": 4,
 "nbformat_minor": 2
}
