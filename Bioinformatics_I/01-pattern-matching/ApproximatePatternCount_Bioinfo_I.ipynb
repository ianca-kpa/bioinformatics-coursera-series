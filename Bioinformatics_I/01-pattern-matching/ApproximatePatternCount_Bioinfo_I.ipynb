{
 "cells": [
  {
   "cell_type": "markdown",
   "metadata": {},
   "source": [
    "### ApproximatePatternCount(Pattern, Text, d)\n",
    "\n",
    "Nosso objetivo agora é modificar nosso algoritmo anterior para o problema de palavras frequentes a fim de encontrar caixas de DnaA identificando k-mers frequentes, possivelmente com incompatibilidades. \n",
    "\n",
    "Dadas as cadeias de caracteres de entrada Text e Pattern, bem como um número inteiro d, estendemos a definição de PatternCount para a função ApproximatePatternCount(Pattern, Text, d). \n",
    "- Essa função calcula o número de ocorrências de Pattern em Text com no máximo d incompatibilidades. \n",
    "\n",
    "Por exemplo: \n",
    "* ApproximatePatternCount(AAAAA, AACAAGCATAAACATTAAAGAGAG, 1) = 4 \n",
    "\n",
    "Porque AAAAA aparece quatro vezes nessa cadeia com no máximo uma incompatibilidade: AACAA, ATAAA, AAACA e AAAGA. \n",
    "Observe que duas dessas ocorrências se sobrepõem."
   ]
  },
  {
   "cell_type": "code",
   "execution_count": null,
   "metadata": {},
   "outputs": [],
   "source": [
    "def HammingDistance(p, q):\n",
    "    if len(p) != len(q):\n",
    "        print(\"Variáveis com tamanhos diferentes!\")\n",
    "    distancia = 0\n",
    "    for i in range(len(p)):\n",
    "        if p[i] != q[i]:\n",
    "            distancia += 1\n",
    "    return distancia\n",
    "\n",
    "def ApproximatePatternCount(Pattern, Text, d):\n",
    "    count = 0\n",
    "    for i in range(len(Text) - len(Pattern) + 1):\n",
    "        if HammingDistance(Text[i:i+len(Pattern)], Pattern) <= d:\n",
    "            count += 1\n",
    "        else:\n",
    "            count = count\n",
    "    return count\n",
    "\n",
    "\n",
    "'''### DO NOT MODIFY THE CODE BELOW THIS LINE ###\n",
    "import sys\n",
    "lines = sys.stdin.read().splitlines()\n",
    "print(ApproximatePatternCount(lines[0],lines[1],int(lines[2])))'''\n",
    "\n",
    "print(ApproximatePatternCount('TGT', 'CGTGACAGTGTATGGGGCATCTTT', 1))"
   ]
  },
  {
   "cell_type": "markdown",
   "metadata": {},
   "source": [
    "### Exemplo 1.1: ApproximatePatternCount_1(Pattern, Text, d)"
   ]
  },
  {
   "cell_type": "code",
   "execution_count": null,
   "metadata": {},
   "outputs": [],
   "source": [
    "def HammingDistance_2(p, q):\n",
    "    if len(p) != len(q):\n",
    "        print(\"Variáveis com tamanhos diferentes!\")\n",
    "    distancia = 0\n",
    "    for i in range(len(p)):\n",
    "        if p[i] != q[i]:\n",
    "            distancia += 1\n",
    "    return distancia\n",
    "\n",
    "def ApproximatePatternCount_2(Pattern, Text, d):\n",
    "    count = 0\n",
    "    for i in range(len(Text) - len(Pattern) + 1):\n",
    "        if HammingDistance_2(Text[i:i+len(Pattern)], Pattern) <= d:\n",
    "            count += 1\n",
    "        else:\n",
    "            count = count\n",
    "    return count\n",
    "\n",
    "with open(\"dataset_30278_6.txt\", \"r\") as file_1:\n",
    "    linhas_1 = file_1.readlines()\n",
    "\n",
    "Pattern_1 = linhas_1[0].strip()\n",
    "Text_1 = linhas_1[1].strip()\n",
    "d_1 = int(linhas_1[2].strip())\n",
    "\n",
    "print(ApproximatePatternCount_2(Pattern_1, Text_1, d_1))"
   ]
  }
 ],
 "metadata": {
  "language_info": {
   "name": "python"
  }
 },
 "nbformat": 4,
 "nbformat_minor": 2
}
