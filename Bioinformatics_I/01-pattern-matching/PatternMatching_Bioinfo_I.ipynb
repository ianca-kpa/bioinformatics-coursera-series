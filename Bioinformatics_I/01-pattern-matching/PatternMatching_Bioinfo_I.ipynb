{
 "cells": [
  {
   "cell_type": "markdown",
   "metadata": {},
   "source": [
    "### PatternMatching(Pattern, Genome)\n",
    "* Problema de correspondência de padrões: Encontre todas as ocorrências de um padrão em uma string.\n",
    "* Entrada: Strings 'Pattern' e 'Genome'.\n",
    "* Saída: Todas as posições iniciais em 'Genome' onde 'Pattern' aparece como uma substring."
   ]
  },
  {
   "cell_type": "code",
   "execution_count": null,
   "metadata": {},
   "outputs": [],
   "source": [
    "def PatternMatching(Pattern, Genome):\n",
    "    positions = [] #create a list called positions   \n",
    "    Pattern_length = len(Pattern)  #create a variable that is the length of the pattern. E.G., “2”\n",
    "    Genome_length = len(Genome) #create a variable that is the length of the genome  E.G., “10”\n",
    "\n",
    "    for i in range(Genome_length - Pattern_length + 1): #setting up range to search for pattern\n",
    "        if Genome[i:i + Pattern_length] == Pattern:  #E.G., if the positions of 0 up to but not including (0 + 2) = the pattern we're looking for,\n",
    "            positions.append(i)   #then add the position \"0\" to the list we created called positions\n",
    "    \n",
    "    return positions    #return the positions list that show all the starting positions of the pattern in the genome\n",
    "\n",
    "# print(PatternMatching(\"ATAT\",\"GATATATGCATATACTT\"))\n",
    "\n",
    "Pattern_1 = \"CTTGATCAT\"\n",
    "Pattern_2 = \"ATGATCAAG\"\n",
    "file = open(\"Vibrio_cholerae.txt\", \"r\") # 'r'= open a file for reading mode\n",
    "Genome = file.read()\n",
    "\n",
    "print(PatternMatching(Pattern_1, Genome))\n",
    "print('_____________________')\n",
    "print(PatternMatching(Pattern_2, Genome))\n",
    "\n",
    "file.close()"
   ]
  },
  {
   "cell_type": "markdown",
   "metadata": {},
   "source": [
    "Sintaxe Básica de open - python\n",
    "\n",
    "file_object = open(file_path, mode)\n",
    "\n",
    "* Parâmetros\n",
    "* file_path:\n",
    "\n",
    "O caminho do arquivo que você quer abrir (relativo ou absoluto).\n",
    "Exemplo: \"meuarquivo.txt\" ou \"C:/documentos/meuarquivo.txt\"\n",
    "\n",
    "* mode:\n",
    "\n",
    "Indica como você quer abrir o arquivo:\n",
    "\"r\": Modo de leitura (padrão).\n",
    "\"w\": Modo de escrita (sobrescreve o arquivo se já existir).\n",
    "\"a\": Modo de anexação (adiciona ao final do arquivo).\n",
    "\"x\": Cria um novo arquivo e gera erro se o arquivo já existir.\n",
    "\"b\": Modo binário (usado para arquivos como imagens ou PDFs).\n",
    "\"t\": Modo texto (padrão, usado para arquivos de texto).\n",
    "Exemplo: \"rb\" abre em leitura binária.\n"
   ]
  },
  {
   "cell_type": "markdown",
   "metadata": {},
   "source": [
    "### Exemplo 1.1: PatternMatching(Pattern, Genome)"
   ]
  },
  {
   "cell_type": "code",
   "execution_count": null,
   "metadata": {},
   "outputs": [],
   "source": [
    "def PatternMatching_3(Pattern, Genome):\n",
    "    positions = []\n",
    "    for pos in range(len(Genome)-len(Pattern)+1):\n",
    "        if Pattern == Genome[pos:pos+len(Pattern)]:\n",
    "            positions.append(pos)\n",
    "    return positions\n",
    "\n",
    "print(PatternMatching_3(\"ACGTG\",\"TAAACGTGAGAGAAACGTGCTGATTACACTTGTTCGTGTGGTAT\"))"
   ]
  }
 ],
 "metadata": {
  "language_info": {
   "name": "python"
  }
 },
 "nbformat": 4,
 "nbformat_minor": 2
}
