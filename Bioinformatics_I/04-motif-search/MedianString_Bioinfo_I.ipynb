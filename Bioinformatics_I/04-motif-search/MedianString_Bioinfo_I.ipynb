{
 "cells": [
  {
   "cell_type": "markdown",
   "metadata": {},
   "source": [
    "We now give the pseudocode for a brute force solution to the Median String Problem.\n",
    "\n",
    "```\n",
    "MedianString(Dna, k)\n",
    "    distance ← ∞\n",
    "    Patterns ← AllStrings(k)\n",
    "    for i ← 0 to |Patterns|\n",
    "        Pattern ← Patterns[i]\n",
    "        if distance > DistanceBetweenPatternAndStrings(Pattern, Dna)\n",
    "            distance ← DistanceBetweenPatternAndStrings(Pattern, Dna)\n",
    "            Median ← Pattern\n",
    "    return Median\n",
    "```\n",
    "\n",
    "#### Exemplo sem usar o pseudocodigo:"
   ]
  },
  {
   "cell_type": "code",
   "execution_count": 1,
   "metadata": {},
   "outputs": [
    {
     "name": "stdout",
     "output_type": "stream",
     "text": [
      "GTAGGAA\n"
     ]
    }
   ],
   "source": [
    "def hamming_distance(p, q):\n",
    "    list1 = list(p) \n",
    "    list2 = list(q)\n",
    "    count = 0 \n",
    "    for i in range(len(list1)):\n",
    "        if list1[i] != list2[i]:\n",
    "            count += 1\n",
    "    return count\n",
    "\n",
    "def Dist(Pattern, Text):\n",
    "    \"\"\"\n",
    "    Calculate the minimum Hamming distance between a given pattern and text.\n",
    "    Parameters:\n",
    "    * Pattern (str): The pattern to match.\n",
    "    * Text (str): The text to search the pattern in.\n",
    "    Returns:\n",
    "    * int: The minimum Hamming distance between the pattern and text.\n",
    "    \"\"\"\n",
    "    # Initialize a list to store the Hamming distances at each position\n",
    "    Dist = []\n",
    "    # Iterate through the text, calculating the Hamming distance of substrings of the same length as the pattern\n",
    "    for i in range(len(Text) - len(Pattern) + 1):\n",
    "        # Append the calculated Hamming distance to the list\n",
    "        Dist.append(hamming_distance(Pattern, Text[i:i+len(Pattern)]))\n",
    "    # Return the minimum value in the list, which is the minimum Hamming distance\n",
    "    return min(Dist)\n",
    "\n",
    "def Dist2(k, Dna):\n",
    "    \"\"\"\n",
    "    Calculate the minimum sum of distances between each k-mer and all other sequences in the given list of DNA sequences,\n",
    "    and return the k-mer with the smallest distance sum.\n",
    "    Parameters:\n",
    "    * k (int) -- The length of the k-mer.\n",
    "    * Dna (list) -- A list of DNA sequences.\n",
    "    Returns: \n",
    "    * key (str) -- The k-mer with the smallest distance sum.\n",
    "    \"\"\"\n",
    "    # Initialize a dictionary to store the sum of distances for each k-mer\n",
    "    dist2 = {}\n",
    "    # Iterate through each DNA sequence\n",
    "    for i in range(len(Dna)):\n",
    "        # Iterate through all possible k-mers in the current DNA sequence\n",
    "        for j in range(len(Dna[i]) - k + 1):\n",
    "            # Extract the current k-mer\n",
    "            Pattern = Dna[i][j:j+k]\n",
    "            # Initialize the distance sum to 0\n",
    "            dist = 0\n",
    "            # Iterate through all DNA sequences, calculate the distance between the current k-mer and each sequence,\n",
    "            # and add it to the distance sum\n",
    "            for l in range(len(Dna)):\n",
    "                dist += Dist(Pattern, Dna[l])\n",
    "            # Add the current k-mer and its distance sum to the dictionary\n",
    "            dist2[Pattern] = dist\n",
    "    # Find the minimum distance sum in the dictionary\n",
    "    Min = min(dist2.values())\n",
    "    # Iterate through all k-mers in the dictionary to find the one with the smallest distance sum\n",
    "    for key in dist2.keys():\n",
    "        if dist2[key] == Min:\n",
    "            # Return the k-mer with the smallest distance sum\n",
    "            return key\n",
    "\n",
    "\n",
    "Dna = [\"CTCGATGAGTAGGAAAGTAGTTTCACTGGGCGAACCACCCCGGCGCTAATCCTAGTGCCC\",\n",
    "       \"GCAATCCTACCCGAGGCCACATATCAGTAGGAACTAGAACCACCACGGGTGGCTAGTTTC\",\n",
    "       \"GGTGTTGAACCACGGGGTTAGTTTCATCTATTGTAGGAATCGGCTTCAAATCCTACACAG\"]\n",
    "k = 7\n",
    "\n",
    "print(Dist2(k, Dna))"
   ]
  }
 ],
 "metadata": {
  "kernelspec": {
   "display_name": "base",
   "language": "python",
   "name": "python3"
  },
  "language_info": {
   "codemirror_mode": {
    "name": "ipython",
    "version": 3
   },
   "file_extension": ".py",
   "mimetype": "text/x-python",
   "name": "python",
   "nbconvert_exporter": "python",
   "pygments_lexer": "ipython3",
   "version": "3.9.13"
  }
 },
 "nbformat": 4,
 "nbformat_minor": 2
}
