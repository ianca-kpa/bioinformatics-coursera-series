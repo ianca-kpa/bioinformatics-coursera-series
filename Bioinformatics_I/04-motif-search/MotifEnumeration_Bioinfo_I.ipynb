{
 "cells": [
  {
   "cell_type": "markdown",
   "metadata": {},
   "source": [
    "### MotifEnumeration(Dna, k, d)\n",
    "* A brute force algorithm for motif finding:\n",
    "Given a collection of strings Dna and an integer d, a k-mer is a (k,d)-motif if it appears in every string from Dna with at most d mismatches. For example, the implanted 15-mer in the strings above represents a (15,4)-motif.\n",
    "\n",
    "Implanted Motif Problem: Find all (k, d)-motifs in a collection of strings.\n",
    "\n",
    "- Input: A collection of strings Dna, and integers k and d.\n",
    "- Output: All (k, d)-motifs in Dna."
   ]
  },
  {
   "cell_type": "code",
   "execution_count": 1,
   "metadata": {},
   "outputs": [
    {
     "name": "stdout",
     "output_type": "stream",
     "text": [
      "{'CGGCAA'}\n"
     ]
    }
   ],
   "source": [
    "def HammingDistance(p, q):\n",
    "    list1 = list(p) # Converte as strings em listas\n",
    "    list2 = list(q) # Converte as strings em listas\n",
    "    count = 0 # contador de diferenças\n",
    "    for i in range(len(list1)):\n",
    "        if list1[i] != list2[i]:\n",
    "            count += 1\n",
    "    return count\n",
    "\n",
    "def suffix(pattern):\n",
    "    suffix_pattern = pattern[1:]\n",
    "    return suffix_pattern\n",
    "\n",
    "def first_symbol(pattern):\n",
    "    first_symbol = pattern[0]\n",
    "    return first_symbol\n",
    "\n",
    "def Neighbors(pattern, d):\n",
    "    nucleotides = ['A', 'T', 'G', 'C']\n",
    "    if d == 0:\n",
    "        return pattern\n",
    "    elif len(pattern) == 1:\n",
    "        return nucleotides\n",
    "    neighborhood = []\n",
    "    suffix_Neighbors = Neighbors(suffix(pattern), d)\n",
    "    for string_text in suffix_Neighbors:\n",
    "        if HammingDistance(suffix(pattern), string_text) < d:\n",
    "            for nucleotide in nucleotides:\n",
    "                neighbor = nucleotide + string_text\n",
    "                neighborhood.append(neighbor)\n",
    "        else:\n",
    "            neighbor = first_symbol(pattern) + string_text\n",
    "            neighborhood.append(neighbor)           \n",
    "    return neighborhood\n",
    "\n",
    "def MotifEnumeration(Dna, k, d):\n",
    "    \"\"\"Encontra todos os k-mers comuns em Dna com até d mismatches.\"\"\"\n",
    "    Patterns = set()  # Para armazenar os padrões encontrados\n",
    "    # Itera sobre cada k-mer da primeira string\n",
    "    for i in range(len(Dna[0]) - k + 1):\n",
    "        Pattern = Dna[0][i:i+k]\n",
    "        neighborhood = Neighbors(Pattern, d)  # Gera vizinhos com até d mismatches\n",
    "        # Imprime os vizinhos gerados\n",
    "        # print(f\"Pattern: {Pattern}, Neighbors: {neighborhood}\")\n",
    "        # Verifica cada vizinho gerado\n",
    "        for neighbor in neighborhood:\n",
    "            appears_in_all = True                 # Supõe inicialmente que o vizinho aparece em todas as strings\n",
    "            for dna in Dna:                       # Para cada string no conjunto Dna\n",
    "                found = False                     # Inicializa como não encontrado na string atual\n",
    "                for j in range(len(dna) - k + 1): # Percorre todos os k-mers dessa string\n",
    "                    kmer = dna[j:j+k]             # Extrai o k-mer atual\n",
    "                    if HammingDistance(neighbor, kmer) <= d:  # Verifica similaridade\n",
    "                        found = True              # Marca como encontrado\n",
    "                        break                     # Para de buscar na string atual\n",
    "                if not found:                     # Se o vizinho não foi encontrado nesta string\n",
    "                    appears_in_all = False        # Marca que ele não aparece em todas\n",
    "                    break                         # Para de verificar as outras strings\n",
    "            if appears_in_all:                    # Se o vizinho aparece em todas as strings\n",
    "                Patterns.add(neighbor)            # Adiciona ao conjunto de padrões\n",
    "    return Patterns\n",
    "\n",
    "Dna = [\"AAGGTGGCAAGCCCGTCTCTGCGAT\",\n",
    "       \"TCACGGGCAAGTCACTAGGGGCCAC\",\n",
    "       \"GCAGGCTCTCGGCGATTTAAACCCG\",\n",
    "       \"ATACTCTGTGTGCGCGGCAAACTTG\",\n",
    "       \"TCTCAAGGCTTGGCGAAGGCGGCGA\",\n",
    "       \"CATGAATAGGTAGCGTGTTCGGCCA\"]\n",
    "k = 6\n",
    "d = 1\n",
    "\n",
    "print(MotifEnumeration(Dna, k, d))"
   ]
  }
 ],
 "metadata": {
  "kernelspec": {
   "display_name": "base",
   "language": "python",
   "name": "python3"
  },
  "language_info": {
   "codemirror_mode": {
    "name": "ipython",
    "version": 3
   },
   "file_extension": ".py",
   "mimetype": "text/x-python",
   "name": "python",
   "nbconvert_exporter": "python",
   "pygments_lexer": "ipython3",
   "version": "3.9.13"
  }
 },
 "nbformat": 4,
 "nbformat_minor": 2
}
