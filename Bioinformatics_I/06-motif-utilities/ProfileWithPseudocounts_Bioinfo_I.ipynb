{
 "cells": [
  {
   "cell_type": "markdown",
   "metadata": {},
   "source": [
    "### ProfileWithPseudocounts(Motifs)\n",
    "Agora que você escreveu uma função 'CountWithPseudocounts(Motifs)', escreva uma função 'ProfileWithPseudocounts(Motifs)'que pega uma lista de strings 'Motifs' como entrada e retorna a matriz de perfil de 'Motifs' com pseudocounts como um dicionário de listas. Certifique-se de usar 'CountWithPseudocounts(Motifs)' como uma sub-rotina!"
   ]
  },
  {
   "cell_type": "code",
   "execution_count": null,
   "metadata": {},
   "outputs": [],
   "source": [
    "def CountWithPseudocounts(Motifs):\n",
    "    k = len(Motifs[0])\n",
    "    count = {}\n",
    "    for nt in \"ACGT\":\n",
    "        count[nt] = [1] * k\n",
    "    for motif in Motifs:\n",
    "        for index, nucleotideo in enumerate(motif):\n",
    "            count[nucleotideo][index] += 1\n",
    "    return count\n",
    "\n",
    "def ProfileWithPseudocounts(Motifs):\n",
    "    t = len(Motifs) + 4\n",
    "    # A soma de 4 é necessária porque a função anterior 'CountWithPseudocounts' aplica pseudocontagens\n",
    "    # (adiciona 1 a cada nucleotídeo em cada posição, o que significa 4 contagens extras,\n",
    "    # uma para cada nucleotídeo 'A', 'C', 'G', e 'T')\n",
    "    profile = {'A': [], 'C': [], 'G': [], 'T': []}\n",
    "    count = CountWithPseudocounts(Motifs)\n",
    "    for base in \"ACGT\":\n",
    "        for count_at_position in count[base]:\n",
    "            frequency = count_at_position / t\n",
    "            profile[base].append(frequency)\n",
    "    return profile\n",
    "\n",
    "\n",
    "Motifs = ['AACGTA',\n",
    "          'CCCGTT',\n",
    "          'CACCTT',\n",
    "          'GGATTA',\n",
    "          'TTCCGG']\n",
    "\n",
    "print(ProfileWithPseudocounts(Motifs))"
   ]
  }
 ],
 "metadata": {
  "language_info": {
   "name": "python"
  }
 },
 "nbformat": 4,
 "nbformat_minor": 2
}
