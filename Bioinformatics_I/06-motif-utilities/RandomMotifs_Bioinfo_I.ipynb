{
 "cells": [
  {
   "cell_type": "markdown",
   "metadata": {},
   "source": [
    "### RandomMotifs(Dna, k, t)\n",
    "Escreva uma função 'RandomMotifs(Dna, k, t)' que usa 'random.randint' para escolher um k-mer aleatório de cada um dos 't' diferentes strings 'Dna', e retorna uma lista de 't' strings. \n"
   ]
  },
  {
   "cell_type": "code",
   "execution_count": null,
   "metadata": {},
   "outputs": [],
   "source": [
    "import random\n",
    "\n",
    "def RandomMotifs(Dna, k, t):\n",
    "    random_motifs = []\n",
    "    t = len(Dna)\n",
    "    for i in range(t):\n",
    "        ran_num = random.randint(0, len(Dna[0]) - k)\n",
    "        random_motifs.append(Dna[i][ran_num:ran_num+k])\n",
    "    return random_motifs\n",
    "\n",
    "\n",
    "k = 3\n",
    "t = 5\n",
    "Dna = ['TTACCTTAAC',\n",
    "       'GATGTCTGTC',\n",
    "       'ACGGCGTTAG',\n",
    "       'CCCTAACGAG',\n",
    "       'CGTCAGAGGT']\n",
    "\n",
    "print(RandomMotifs(Dna, k, t))"
   ]
  }
 ],
 "metadata": {
  "language_info": {
   "name": "python"
  }
 },
 "nbformat": 4,
 "nbformat_minor": 2
}
