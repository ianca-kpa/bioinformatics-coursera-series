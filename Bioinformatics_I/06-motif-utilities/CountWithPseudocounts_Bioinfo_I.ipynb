{
 "cells": [
  {
   "cell_type": "markdown",
   "metadata": {},
   "source": [
    "### CountWithPseudocounts(Motifs)\n",
    "A Regra de Sucessão de Laplace adiciona 1 a cada elemento de 'Count(Motifs)'.\n",
    "Escreva uma função 'CountWithPseudocounts(Motifs)' que pega uma lista de strings 'Motifs' como entrada e retorna a matriz de contagem de 'Motifs' com pseudocounts como um dicionário de listas.\n",
    "\n",
    "* A Regra de Sucessão de Laplace (ou Regra de Laplace) é uma abordagem probabilística para lidar com eventos que podem ou não ter ocorrido, adicionando uma \"pseudocontagem\" ou contagem fictícia. Ela é usada para calcular probabilidades de eventos em situações onde não há evidências suficientes ou quando você deseja evitar probabilidades de zero."
   ]
  },
  {
   "cell_type": "code",
   "execution_count": null,
   "metadata": {},
   "outputs": [],
   "source": [
    "def CountWithPseudocounts(Motifs):\n",
    "    # Tamanho dos motivos (número de nucleotídeos por motivo)\n",
    "    k = len(Motifs[0])\n",
    "    # Inicializa o dicionário 'count' para armazenar as contagens de cada nucleotídeo em cada posição\n",
    "    count = {}\n",
    "    # Para cada nucleotídeo ('A', 'C', 'G', 'T'), cria uma lista de comprimento 'k' com valor inicial 1 (pseudocontagem)\n",
    "    for nt in \"ACGT\":\n",
    "        count[nt] = [1] * k\n",
    "    # Itera por cada motivo na lista de motivos\n",
    "    for motif in Motifs:\n",
    "        # Para cada nucleotídeo no motivo, atualiza a contagem na posição correta\n",
    "        for index, nucleotideo in enumerate(motif):\n",
    "            # Incrementa a contagem do nucleotídeo na posição 'index'\n",
    "            count[nucleotideo][index] += 1\n",
    "    return count\n",
    "\n",
    "Motifs = ['AACGTA',\n",
    "          'CCCGTT',\n",
    "          'CACCTT',\n",
    "          'GGATTA',\n",
    "          'TTCCGG']\n",
    "\n",
    "print(CountWithPseudocounts(Motifs))"
   ]
  }
 ],
 "metadata": {
  "kernelspec": {
   "display_name": "base",
   "language": "python",
   "name": "python3"
  },
  "language_info": {
   "codemirror_mode": {
    "name": "ipython",
    "version": 3
   },
   "file_extension": ".py",
   "mimetype": "text/x-python",
   "name": "python",
   "nbconvert_exporter": "python",
   "pygments_lexer": "ipython3",
   "version": "3.9.13"
  }
 },
 "nbformat": 4,
 "nbformat_minor": 2
}
