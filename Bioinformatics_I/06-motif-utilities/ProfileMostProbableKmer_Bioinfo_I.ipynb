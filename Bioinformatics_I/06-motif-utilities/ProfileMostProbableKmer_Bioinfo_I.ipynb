{
 "cells": [
  {
   "cell_type": "markdown",
   "metadata": {},
   "source": [
    "### ProfileMostProbableKmer(text, k, profile)\n",
    "\n",
    "Dada uma matriz de perfil 'Profile', podemos computar a probabilidade de cada k-mer em uma string 'Text' e encontrar um k-mer mais provável do 'Profile' no 'Text', ou seja, um k-mer que tenha a maior probabilidade de ter sido gerado pelo 'Profile' entre todos os k-mers no 'Text'. \n",
    "\n",
    "Para a matriz de perfil NF-κB, “ACGGGGGATTACC” é o 12-mer mais provável do Profile em “ggtACGGGGATTACCt”. De fato, todos os outros 12-meros nessa string têm probabilidade 0. Em geral, se houver vários k-meres mais prováveis do perfil no texto, selecionaremos o primeiro k-mer que ocorrer no texto.\n",
    "\n",
    "* Problema do k-mer mais provável do perfil: encontrar um k-mer mais provável do perfil em uma string.\n",
    "* Entrada: Uma string 'Text', um número inteiro 'k' e uma matriz 'Profile' de 4 x 'k'.\n",
    "* Saída: Um k-mer mais provável do perfil em 'Text'.\n",
    "\n",
    "ProfileMostProbableKmer(text, k, profile): Encontra o k-mer (subsequência de comprimento k) mais provável em uma sequência de DNA (text) com base em um perfil de probabilidades (profile)."
   ]
  },
  {
   "cell_type": "code",
   "execution_count": null,
   "metadata": {},
   "outputs": [],
   "source": [
    "def Pr(Text, Profile):\n",
    "    p = 1\n",
    "    for i in range(len(Text)):\n",
    "      for j in \"ACGT\":\n",
    "        if Text[i] == j:\n",
    "          p *= Profile[Text[i]][i]\n",
    "    return p\n",
    "\n",
    "def ProfileMostProbableKmer(text, k, profile):\n",
    "    most_probable_kmer = ''\n",
    "    max_probability = -1.0 #  inicializar max_probability com um valor negativo, como -1.0, \n",
    "                           # é garantir que qualquer probabilidade calculada seja maior do que o valor inicial. \n",
    "    for i in range(len(text) - k + 1):\n",
    "        kmer = text[i:i+k]\n",
    "        probability = 1.0 # inicia em 1 por causa das multiplicações que irão ocorrer\n",
    "        # Calcular a probabilidade do k-mer com base no perfil\n",
    "        for j in range(k):\n",
    "            probability *= profile[kmer[j]][j]\n",
    "        # Verifica se a probabilidade calculada é maior que a maior já encontrada\n",
    "        if probability > max_probability:\n",
    "            max_probability = probability\n",
    "            most_probable_kmer = kmer\n",
    "    \n",
    "    return most_probable_kmer\n",
    "  \n",
    "text = \"ACCTGTTTATTGCCTAAGTTCCGAACAAACCCAATATAGCCCGAGGGCCT\"\n",
    "k = 4\n",
    "\n",
    "Profile = {\n",
    "    'A': [0.2, 0.4, 0.3, 0.1],\n",
    "    'C': [0.3, 0.3, 0.5, 0.2],\n",
    "    'G': [0.3, 0.2, 0.2, 0.7],\n",
    "    'T': [0.2, 0.1, 0.0, 0.0]\n",
    "}\n",
    "\n",
    "print(ProfileMostProbableKmer(text, k, Profile))"
   ]
  }
 ],
 "metadata": {
  "language_info": {
   "name": "python"
  }
 },
 "nbformat": 4,
 "nbformat_minor": 2
}
