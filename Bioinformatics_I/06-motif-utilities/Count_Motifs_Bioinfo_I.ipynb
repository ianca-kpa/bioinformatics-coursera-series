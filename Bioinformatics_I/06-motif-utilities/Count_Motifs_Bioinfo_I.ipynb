{
 "cells": [
  {
   "cell_type": "markdown",
   "metadata": {},
   "source": [
    "### Scoring Motifs/Count(Motifs)\n",
    "\n",
    "Ao variar a escolha de k-mers em cada sequência, podemos construir um grande número de matrizes de motivos diferentes a partir de uma determinada amostra de sequências de DNA. Nosso objetivo é selecionar k-mers resultando na matriz de motivos mais “conservada”, ou seja, a matriz com mais letras maiúsculas (e, portanto, o menor número de letras minúsculas). Deixando de lado a questão de como selecionamos esses k-mers, primeiro nos concentraremos em como pontuar as matrizes de motivos resultantes, definindo 'Score(Motifs)' como o número de letras impopulares (minúsculas) na matriz de motivos 'Motifs' (veja a figura atualizada abaixo). Nosso objetivo é encontrar uma coleção de k-mers que minimize essa pontuação."
   ]
  },
  {
   "cell_type": "code",
   "execution_count": null,
   "metadata": {},
   "outputs": [],
   "source": [
    "def Count(Motifs):\n",
    "    count = {}\n",
    "    k = len(Motifs[0])\n",
    "    for symbol in \"ACGT\":\n",
    "        count[symbol] = []\n",
    "        for j in range(k):\n",
    "            count[symbol].append(0)\n",
    "    t = len(Motifs)\n",
    "    for i in range(t):\n",
    "        for j in range(k):\n",
    "            symbol = Motifs[i][j]\n",
    "            count[symbol][j] += 1\n",
    "    return count\n",
    "\n",
    "Motifs = [\n",
    "    \"ATGCA\",\n",
    "    \"ATCCA\",\n",
    "    \"ATGAA\",\n",
    "    \"ATGGA\"]\n",
    "\n",
    "print(Count(Motifs))"
   ]
  },
  {
   "cell_type": "markdown",
   "metadata": {},
   "source": [
    "#### Exemplo modificado:"
   ]
  },
  {
   "cell_type": "code",
   "execution_count": null,
   "metadata": {},
   "outputs": [],
   "source": [
    "# Motifs é uma lista de strings, onde cada string representa uma sequência de DNA.\n",
    "def Count_2(Motifs):\n",
    "    count_2 = {}\n",
    "    for nt in \"ACGT\":\n",
    "        # Para cada base (nt), count_2[nt] é inicializado como uma lista de zeros com comprimento igual ao comprimento das sequências de DNA em Motifs.\n",
    "        count_2[nt] = [0]*len(Motifs[0])\n",
    "        # Essa lista será usada para contar a ocorrência da base em cada posição.\n",
    "    for motif in Motifs:\n",
    "        # index: Armazena o índice atual da iteração (primeiro valor da tupla retornada por enumerate()).\n",
    "        for index, let in enumerate(motif):\n",
    "            # let: Armazena o valor do item atual da iteração (segundo valor da tupla).\n",
    "            count_2[let][index] += 1\n",
    "    return count_2\n",
    "\n",
    "\n",
    "Motifs = [\n",
    "    \"ATGCA\",\n",
    "    \"ATCCA\",\n",
    "    \"ATGAA\",\n",
    "    \"ATGGA\"\n",
    "]\n",
    "\n",
    "resultado = Count_2(Motifs)\n",
    "print(resultado)"
   ]
  },
  {
   "cell_type": "markdown",
   "metadata": {},
   "source": [
    "A função enumerate() é uma função embutida do Python que permite iterar sobre uma sequência (como uma lista ou string) e, ao mesmo tempo, rastrear o índice dos elementos.\n",
    "\n",
    "A sintaxe básica de enumerate() é: enumerate(iterable, start=0)\n",
    "\n",
    "Quando você usa enumerate() em um loop for, ele retorna uma tupla para cada item do iterável. Esta tupla contém:\n",
    "\n",
    "* O índice do item.\n",
    "* O valor do item."
   ]
  }
 ],
 "metadata": {
  "language_info": {
   "name": "python"
  }
 },
 "nbformat": 4,
 "nbformat_minor": 2
}
