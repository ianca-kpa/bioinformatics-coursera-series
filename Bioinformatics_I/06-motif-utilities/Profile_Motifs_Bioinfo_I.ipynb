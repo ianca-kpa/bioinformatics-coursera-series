{
 "cells": [
  {
   "cell_type": "markdown",
   "metadata": {},
   "source": [
    "### Profile(Motifs)\n",
    "Isso resulta em uma matriz de perfil 'Profile(Motifs)' para a qual o elemento '(i, j)' é a frequência do 'i'-enésimo nucleotídeo na 'j'-enésima coluna da matriz de padrões (ou seja, o número de ocorrências do 'i'-enésimo nucleotídeo dividido por 't', o número de nucleotídeos na coluna). Observe que os elementos de qualquer coluna da matriz de perfil somam 1.\n",
    "\n",
    "* Probabilidade de A/T/C/G ocorrer"
   ]
  },
  {
   "cell_type": "code",
   "execution_count": null,
   "metadata": {},
   "outputs": [],
   "source": [
    "def Count(Motifs):\n",
    "    count = {}\n",
    "    for nt in \"ACGT\":\n",
    "        count[nt] = [0]*len(Motifs[0])\n",
    "    for motif in Motifs:\n",
    "        for index, let in enumerate(motif):\n",
    "            count[let][index] += 1\n",
    "    return count\n",
    "\n",
    "# Calcula a probabilidade do nucleotídeo ocorrer na posição em questão.\n",
    "def Profile(Motifs):\n",
    "    # Número de sequências\n",
    "    t = len(Motifs)\n",
    "    # Comprimento de cada sequência / usamos a primeira sequência como referência.\n",
    "    k = len(Motifs[0])\n",
    "    # Inicializa o dicionário de perfil com listas de zeros para cada nucleotídeo, tendo em consideração o tamanho de 'k'.\n",
    "    profile = {nt: [0] * k for nt in \"ACGT\"}\n",
    "    # print(profile)\n",
    "    # Calcula a contagem de nucleotídeos em cada posição\n",
    "    for motif in Motifs:\n",
    "        for index, let in enumerate(motif):\n",
    "            profile[let][index] += 1\n",
    "    # Converte contagens em frequências\n",
    "    for nt in profile:\n",
    "        profile[nt] = [count / t for count in profile[nt]]\n",
    "# Esta expressão cria uma nova lista onde cada elemento é o resultado de 'count/t'\n",
    "# onde 'count' é um elemento da lista original 'profile[nt]'\n",
    "    return profile\n",
    "\n",
    "\n",
    "Motifs = [\"AACGTA\",\n",
    "          \"CCCGTT\",\n",
    "          \"CACCTT\",\n",
    "          \"GGATTA\",\n",
    "          \"TTCCGG\"\n",
    "          ]\n",
    "\n",
    "print(Profile(Motifs))"
   ]
  },
  {
   "cell_type": "markdown",
   "metadata": {},
   "source": [
    "#### Exemplo modificado:"
   ]
  },
  {
   "cell_type": "code",
   "execution_count": null,
   "metadata": {},
   "outputs": [],
   "source": [
    "def Count_2(Motifs):\n",
    "    # Inicializa um dicionário para armazenar as contagens de cada nucleotídeo\n",
    "    count_2 = {'A': [], 'C': [], 'G': [], 'T': []}\n",
    "    # Inicializa cada lista no dicionário com zeros, de acordo com o comprimento das sequências\n",
    "    for i in range(len(Motifs[0])):\n",
    "        count_2['A'].append(0)\n",
    "        count_2['C'].append(0)\n",
    "        count_2['G'].append(0)\n",
    "        count_2['T'].append(0)\n",
    "    # Conta a ocorrência de cada nucleotídeo em cada posição\n",
    "    for motif in Motifs:\n",
    "        for index, nucleotide in enumerate(motif):\n",
    "            count_2[nucleotide][index] += 1\n",
    "    return count_2\n",
    "\n",
    "\n",
    "def Profile_2(Motifs):\n",
    "    # Obtém a contagem de cada nucleotídeo em cada posição\n",
    "    count_2 = Count_2(Motifs)\n",
    "    # Número total de sequências\n",
    "    num_sequences = len(Motifs)\n",
    "    # Converte a contagem para perfil de frequência\n",
    "    profile_2 = {'A': [], 'C': [], 'G': [], 'T': []}\n",
    "    for nucleotide in 'ACGT':\n",
    "        for count_2_at_position in count_2[nucleotide]:\n",
    "            # Calcula a frequência dividindo a contagem pelo número total de sequências\n",
    "            frequency = count_2_at_position / num_sequences\n",
    "            profile_2[nucleotide].append(frequency)\n",
    "    return profile_2\n",
    "\n",
    "\n",
    "Motifs = [\n",
    "    \"AACGTA\",\n",
    "    \"CCCGTT\",\n",
    "    \"CACCTT\",\n",
    "    \"GGATTA\",\n",
    "    \"TTCCGG\"\n",
    "]\n",
    "\n",
    "# Calcula o perfil de frequência\n",
    "resultado = Profile_2(Motifs)\n",
    "print(resultado)"
   ]
  }
 ],
 "metadata": {
  "language_info": {
   "name": "python"
  }
 },
 "nbformat": 4,
 "nbformat_minor": 2
}
