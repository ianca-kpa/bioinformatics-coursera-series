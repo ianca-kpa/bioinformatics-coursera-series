{
 "cells": [
  {
   "cell_type": "markdown",
   "metadata": {},
   "source": [
    "### FrequentWordsWithMismatches(Text, k, d)\n",
    "\n",
    "Code Challenge: Solve the Frequent Words with Mismatches Problem.\n",
    "\n",
    "* Input: A string Text as well as integers 'k' and 'd'. (You may assume 'k' ≤ 12 and 'd' ≤ 3.)\n",
    "* Output: All most frequent k-mers with up to 'd' mismatches in Text.\n",
    "\n",
    "Pseudocode:\n",
    "\n",
    "```\n",
    "FrequentWordsWithMismatches(Text, k, d)\n",
    "    Patterns ← an array of strings of length 0\n",
    "    freqMap ← empty map\n",
    "    n ← |Text|\n",
    "    for i ← 0 to n - k\n",
    "        Pattern ← Text(i, k)\n",
    "        neighborhood ← Neighbors(Pattern, d)\n",
    "        for j ← 0 to |neighborhood| - 1\n",
    "            neighbor ← neighborhood[j]\n",
    "            if freqMap[neighbor] doesn't exist\n",
    "                freqMap[neighbor] ← 1\n",
    "            else\n",
    "                freqMap[neighbor] ← freqMap[neighbor] + 1\n",
    "    m ← MaxMap(freqMap)\n",
    "    for every key Pattern in freqMap\n",
    "        if freqMap[Pattern] = m\n",
    "            append Pattern to Patterns\n",
    "    return Patterns\n",
    "```"
   ]
  },
  {
   "cell_type": "code",
   "execution_count": 1,
   "metadata": {},
   "outputs": [
    {
     "name": "stdout",
     "output_type": "stream",
     "text": [
      "['CTTTA']\n"
     ]
    }
   ],
   "source": [
    "def generate_neighbors(pattern, d):\n",
    "    if d == 0:\n",
    "        return [pattern]  \n",
    "    neighbors = set()\n",
    "    for i in range(len(pattern)):\n",
    "        for nucleotide in 'ACGT':\n",
    "            if nucleotide != pattern[i]:\n",
    "                new_pattern = pattern[:i] + nucleotide + pattern[i+1:]\n",
    "                neighbors.update(generate_neighbors(new_pattern, d - 1))\n",
    "    return list(neighbors)\n",
    "\n",
    "def FrequentWordsWithMismatches(Text, k, d):\n",
    "    freq = {}\n",
    "    Patterns = []\n",
    "    n = len(Text)\n",
    "    for i in range(n - k + 1):\n",
    "        Pattern = Text[i:i+k]\n",
    "        neighborhood = generate_neighbors(Pattern, d)\n",
    "        for approx_pattern in neighborhood:\n",
    "            if approx_pattern in freq:\n",
    "                freq[approx_pattern] += 1\n",
    "            else:\n",
    "                freq[approx_pattern] = 1\n",
    "        m = max(freq.values())\n",
    "    for Pattern, count in freq.items():\n",
    "        if count == m:\n",
    "            Patterns.append(Pattern)\n",
    "    return Patterns\n",
    "\n",
    "print(FrequentWordsWithMismatches('CTCTTAGGATGAATGAATGACTTACTTACTCTCTCTCTTACTTAATGACGTTCTCTATGACGTTCTTACTTATAGGATGACGTTCTCTTAGGTAGGATGACTTACTCTTAGGCTTACGTTTAGGCTCTATGACTCTTAGGTAGGTAGGCGTTTAGGCGTTCTCTTAGGCGTTTAGGATGACTCTATGACTTATAGGATGAATGACTTACTTACTCTCTTAATGACTTACTTATAGGCTTATAGGCGTTCTCTCGTTATGATAGGCTCTCTTACGTTCGTTTAGGCTCTCTTACGTTCGTTATGACTTACTCTTAGGCGTTCTTACGTTCGTTATGATAGG', 5, 2))"
   ]
  }
 ],
 "metadata": {
  "kernelspec": {
   "display_name": "base",
   "language": "python",
   "name": "python3"
  },
  "language_info": {
   "codemirror_mode": {
    "name": "ipython",
    "version": 3
   },
   "file_extension": ".py",
   "mimetype": "text/x-python",
   "name": "python",
   "nbconvert_exporter": "python",
   "pygments_lexer": "ipython3",
   "version": "3.9.13"
  }
 },
 "nbformat": 4,
 "nbformat_minor": 2
}
