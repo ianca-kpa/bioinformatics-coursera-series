{
 "cells": [
  {
   "cell_type": "markdown",
   "metadata": {},
   "source": [
    "### FrequentWords(Text, k)\n",
    "Para saber as palavras mais frequentes para um k-mer definido, podemos usar os dois exemplos abaixo:"
   ]
  },
  {
   "cell_type": "code",
   "execution_count": 2,
   "metadata": {},
   "outputs": [
    {
     "name": "stdout",
     "output_type": "stream",
     "text": [
      "(['CTCGATG', 'TCGATGA', 'CGATGAG', 'GATGAGT', 'ATGAGTA', 'TGAGTAG', 'GAGTAGG', 'AGTAGGA', 'GTAGGAA', 'TAGGAAA', 'AGGAAAG', 'GGAAAGT', 'GAAAGTA', 'AAAGTAG', 'AAGTAGT', 'AGTAGTT', 'GTAGTTT', 'TAGTTTC', 'AGTTTCA', 'GTTTCAC', 'TTTCACT', 'TTCACTG', 'TCACTGG', 'CACTGGG', 'ACTGGGC', 'CTGGGCG', 'TGGGCGA', 'GGGCGAA', 'GGCGAAC', 'GCGAACC', 'CGAACCA', 'GAACCAC', 'AACCACC', 'ACCACCC', 'CCACCCC', 'CACCCCG', 'ACCCCGG', 'CCCCGGC', 'CCCGGCG', 'CCGGCGC', 'CGGCGCT', 'GGCGCTA', 'GCGCTAA', 'CGCTAAT', 'GCTAATC', 'CTAATCC', 'TAATCCT', 'AATCCTA', 'ATCCTAG', 'TCCTAGT', 'CCTAGTG', 'CTAGTGC', 'TAGTGCC', 'AGTGCCC'], 1)\n",
      "(['GCAATCC', 'CAATCCT', 'AATCCTA', 'ATCCTAC', 'TCCTACC', 'CCTACCC', 'CTACCCG', 'TACCCGA', 'ACCCGAG', 'CCCGAGG', 'CCGAGGC', 'CGAGGCC', 'GAGGCCA', 'AGGCCAC', 'GGCCACA', 'GCCACAT', 'CCACATA', 'CACATAT', 'ACATATC', 'CATATCA', 'ATATCAG', 'TATCAGT', 'ATCAGTA', 'TCAGTAG', 'CAGTAGG', 'AGTAGGA', 'GTAGGAA', 'TAGGAAC', 'AGGAACT', 'GGAACTA', 'GAACTAG', 'AACTAGA', 'ACTAGAA', 'CTAGAAC', 'TAGAACC', 'AGAACCA', 'GAACCAC', 'AACCACC', 'ACCACCA', 'CCACCAC', 'CACCACG', 'ACCACGG', 'CCACGGG', 'CACGGGT', 'ACGGGTG', 'CGGGTGG', 'GGGTGGC', 'GGTGGCT', 'GTGGCTA', 'TGGCTAG', 'GGCTAGT', 'GCTAGTT', 'CTAGTTT', 'TAGTTTC'], 1)\n",
      "(['GGTGTTG', 'GTGTTGA', 'TGTTGAA', 'GTTGAAC', 'TTGAACC', 'TGAACCA', 'GAACCAC', 'AACCACG', 'ACCACGG', 'CCACGGG', 'CACGGGG', 'ACGGGGT', 'CGGGGTT', 'GGGGTTA', 'GGGTTAG', 'GGTTAGT', 'GTTAGTT', 'TTAGTTT', 'TAGTTTC', 'AGTTTCA', 'GTTTCAT', 'TTTCATC', 'TTCATCT', 'TCATCTA', 'CATCTAT', 'ATCTATT', 'TCTATTG', 'CTATTGT', 'TATTGTA', 'ATTGTAG', 'TTGTAGG', 'TGTAGGA', 'GTAGGAA', 'TAGGAAT', 'AGGAATC', 'GGAATCG', 'GAATCGG', 'AATCGGC', 'ATCGGCT', 'TCGGCTT', 'CGGCTTC', 'GGCTTCA', 'GCTTCAA', 'CTTCAAA', 'TTCAAAT', 'TCAAATC', 'CAAATCC', 'AAATCCT', 'AATCCTA', 'ATCCTAC', 'TCCTACA', 'CCTACAC', 'CTACACA', 'TACACAG'], 1)\n"
     ]
    }
   ],
   "source": [
    "# Input:  A string 'Text' and an integer 'k'\n",
    "# Output: A list containing all most frequent k-mers in 'Text'\n",
    "def FrequencyMap(Text, k):\n",
    "  freq = {}\n",
    "  for i in range(len(Text)-k+1): #e.g., for a certain index in the range of 0 to (14-3+1 = 12)\n",
    "    Pattern = Text[i:i+k]\n",
    "    if Pattern not in freq:\n",
    "        freq[Pattern] = 1\n",
    "    else:\n",
    "        freq[Pattern] += 1  \n",
    "  return freq\n",
    "\n",
    "def FrequentWords(Text, k):\n",
    "  words = []\n",
    "  freq = FrequencyMap(Text, k)\n",
    "  m = 0\n",
    "  for key in freq:\n",
    "    if freq[key] > m:     # Para saber os maximos!\n",
    "      words = [key]\n",
    "      m = freq[key]\n",
    "    elif freq[key] == m:\n",
    "      words.append(key)\n",
    "  return words, m\n",
    "\n",
    "\n",
    "freq_1 = FrequentWords('CTCGATGAGTAGGAAAGTAGTTTCACTGGGCGAACCACCCCGGCGCTAATCCTAGTGCCC',7)\n",
    "freq_2 = FrequentWords('GCAATCCTACCCGAGGCCACATATCAGTAGGAACTAGAACCACCACGGGTGGCTAGTTTC',7)\n",
    "freq_3 = FrequentWords('GGTGTTGAACCACGGGGTTAGTTTCATCTATTGTAGGAATCGGCTTCAAATCCTACACAG',7)\n",
    "\n",
    "print(freq_1)\n",
    "print(freq_2)\n",
    "print(freq_3)\n",
    "# print(FrequentWords(\"TAAACGTGAGAGAAACGTGCTGATTACACTTGTTCGTGTGTGGTAT\", 3))"
   ]
  },
  {
   "cell_type": "markdown",
   "metadata": {},
   "source": [
    "### Modificado usando a função max(variavel.values()): FrequentWords(Text, k)"
   ]
  },
  {
   "cell_type": "code",
   "execution_count": 3,
   "metadata": {},
   "outputs": [
    {
     "name": "stdout",
     "output_type": "stream",
     "text": [
      "['CTCGATG', 'TCGATGA', 'CGATGAG', 'GATGAGT', 'ATGAGTA', 'TGAGTAG', 'GAGTAGG', 'AGTAGGA', 'GTAGGAA', 'TAGGAAA', 'AGGAAAG', 'GGAAAGT', 'GAAAGTA', 'AAAGTAG', 'AAGTAGT', 'AGTAGTT', 'GTAGTTT', 'TAGTTTC', 'AGTTTCA', 'GTTTCAC', 'TTTCACT', 'TTCACTG', 'TCACTGG', 'CACTGGG', 'ACTGGGC', 'CTGGGCG', 'TGGGCGA', 'GGGCGAA', 'GGCGAAC', 'GCGAACC', 'CGAACCA', 'GAACCAC', 'AACCACC', 'ACCACCC', 'CCACCCC', 'CACCCCG', 'ACCCCGG', 'CCCCGGC', 'CCCGGCG', 'CCGGCGC', 'CGGCGCT', 'GGCGCTA', 'GCGCTAA', 'CGCTAAT', 'GCTAATC', 'CTAATCC', 'TAATCCT', 'AATCCTA', 'ATCCTAG', 'TCCTAGT', 'CCTAGTG', 'CTAGTGC', 'TAGTGCC', 'AGTGCCC']\n"
     ]
    }
   ],
   "source": [
    "def FrequentWords_2(Text, k):\n",
    "    words = []\n",
    "    freq = FrequencyMap(Text, k)\n",
    "    m = max(freq.values())\n",
    "    for key in freq:\n",
    "        if freq[key] == m:\n",
    "            words.append(key)\n",
    "    return words\n",
    "\n",
    "freq_1 = FrequentWords_2('CTCGATGAGTAGGAAAGTAGTTTCACTGGGCGAACCACCCCGGCGCTAATCCTAGTGCCC',7)\n",
    "\n",
    "print(freq_1)"
   ]
  }
 ],
 "metadata": {
  "kernelspec": {
   "display_name": "base",
   "language": "python",
   "name": "python3"
  },
  "language_info": {
   "codemirror_mode": {
    "name": "ipython",
    "version": 3
   },
   "file_extension": ".py",
   "mimetype": "text/x-python",
   "name": "python",
   "nbconvert_exporter": "python",
   "pygments_lexer": "ipython3",
   "version": "3.9.13"
  }
 },
 "nbformat": 4,
 "nbformat_minor": 2
}
