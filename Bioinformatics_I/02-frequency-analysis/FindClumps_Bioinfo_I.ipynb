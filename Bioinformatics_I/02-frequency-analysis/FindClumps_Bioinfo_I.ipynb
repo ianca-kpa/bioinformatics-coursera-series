{
 "cells": [
  {
   "cell_type": "markdown",
   "metadata": {},
   "source": [
    "### FindClumps(Text, k, L, t)\n",
    "\n",
    "O Problema de Localização de Agrupamentos é um problema mais complexo do que o que encontramos até agora, e escrever uma função que o resolva do zero seria difícil. No entanto, é aqui que a modularidade na escrita de programas é tão útil. Já temos uma função 'FrequencyTable' que produzirá uma tabela de frequência para uma determinada janela de uma sequência de caracteres de comprimento  'L'. \n",
    "\n",
    "Se a aplicarmos a uma determinada janela, então simplesmente precisamos verificar se há alguma chave de sequência de caracteres na tabela cujos valores sejam pelo menos iguais a  't'. Acrescentaremos quaisquer chaves que ainda não tenhamos visto em alguma outra janela de  texto  a uma lista crescente de sequências de caracteres. No final, essa lista de sequências de caracteres conterá os (L,t)-agrupamentos de  texto. Isso é tratado pela seguinte função 'FindClumps'."
   ]
  },
  {
   "cell_type": "code",
   "execution_count": null,
   "metadata": {},
   "outputs": [],
   "source": [
    "#Pseudocode\n",
    "'''FindClumps(Text, k, L, t)\n",
    "    Patterns ← an array of strings of length 0\n",
    "    n ← |Text|\n",
    "    for every integer i between 0 and n − L\n",
    "        Window ← Text(i, L)\n",
    "        freqMap ← FrequencyTable(Window, k)\n",
    "        for every key s in freqMap\n",
    "            if freqMap[s] ≥ t\n",
    "                append s to Patterns\n",
    "    remove duplicates from Patterns\n",
    "    return Patterns'''\n",
    "    \n",
    "def FrequencyMap(Text, k):\n",
    "  freq = {}\n",
    "  for i in range(len(Text)-k+1):\n",
    "    Pattern = Text[i:i+k]\n",
    "    if Pattern not in freq:\n",
    "        freq[Pattern] = 1\n",
    "    else:\n",
    "        freq[Pattern] += 1  \n",
    "  return freq\n",
    "    \n",
    "def FindClumps(Text, k, L, t):\n",
    "    Patterns = []\n",
    "    for i in range(len(Text)-k+1):\n",
    "        Window = Text[i:i + L]\n",
    "        freqMap = FrequencyMap(Window, k)\n",
    "        for kmer in freqMap:\n",
    "            if freqMap[kmer] >= t and kmer not in Patterns:\n",
    "                Patterns.append(kmer)\n",
    "    return Patterns\n",
    "\n",
    "# with open('E_coli.txt', 'r') as file:\n",
    "#     Text = file.read().strip() \n",
    "#     k = 9\n",
    "#     L = 500\n",
    "#     t = 3\n",
    "#     print(FindClumps(Text, k, L, t))"
   ]
  },
  {
   "cell_type": "markdown",
   "metadata": {},
   "source": [
    "### FindClumpsOptimized(Text, k, L, t)"
   ]
  },
  {
   "cell_type": "code",
   "execution_count": 1,
   "metadata": {},
   "outputs": [
    {
     "name": "stdout",
     "output_type": "stream",
     "text": [
      "1\n"
     ]
    }
   ],
   "source": [
    "from collections import defaultdict\n",
    "\n",
    "def FrequencyMapSliding(Text, k):\n",
    "    \"\"\"Calcula o mapa de frequência para o primeiro intervalo e atualiza de forma incremental.\"\"\"\n",
    "    freq = defaultdict(int)  # Usa defaultdict para inicializar valores como 0\n",
    "    for i in range(len(Text) - k + 1):\n",
    "        kmer = Text[i:i+k]\n",
    "        freq[kmer] += 1\n",
    "    return freq\n",
    "\n",
    "def FindClumpsOptimized(Text, k, L, t):\n",
    "    \"\"\"Encontra clumps de forma otimizada usando uma janela deslizante.\"\"\"\n",
    "    Patterns = set()\n",
    "    freqMap = defaultdict(int)\n",
    "    \n",
    "    # Inicializa o mapa de frequência para a primeira janela de comprimento L\n",
    "    window = Text[:L]\n",
    "    for i in range(L - k + 1):\n",
    "        kmer = window[i:i+k]\n",
    "        freqMap[kmer] += 1\n",
    "    \n",
    "    # Verifica se algum k-mer já atende ao critério\n",
    "    for kmer, count in freqMap.items():\n",
    "        if count >= t:\n",
    "            Patterns.add(kmer)\n",
    "    \n",
    "    # Desliza a janela ao longo do texto\n",
    "    for i in range(1, len(Text) - L + 1):\n",
    "        # Remove o primeiro k-mer da janela anterior\n",
    "        first_kmer = Text[i-1:i-1+k]\n",
    "        freqMap[first_kmer] -= 1\n",
    "        if freqMap[first_kmer] == 0:\n",
    "            del freqMap[first_kmer]\n",
    "        \n",
    "        # Adiciona o novo k-mer da janela atual\n",
    "        new_kmer = Text[i+L-k:i+L]\n",
    "        freqMap[new_kmer] += 1\n",
    "        \n",
    "        # Verifica se o novo k-mer atende ao critério\n",
    "        if freqMap[new_kmer] >= t:\n",
    "            Patterns.add(new_kmer)\n",
    "    \n",
    "    return list(Patterns)\n",
    "\n",
    "# Leitura do arquivo\n",
    "with open('Salmonella_enterica.txt', 'r') as file:\n",
    "    Text = file.read().strip()\n",
    "    k = 9\n",
    "    L = 500\n",
    "    t = 3\n",
    "    resultado = FindClumpsOptimized(Text, k, L, t)\n",
    "    print(len(resultado))"
   ]
  }
 ],
 "metadata": {
  "kernelspec": {
   "display_name": "base",
   "language": "python",
   "name": "python3"
  },
  "language_info": {
   "codemirror_mode": {
    "name": "ipython",
    "version": 3
   },
   "file_extension": ".py",
   "mimetype": "text/x-python",
   "name": "python",
   "nbconvert_exporter": "python",
   "pygments_lexer": "ipython3",
   "version": "3.9.13"
  }
 },
 "nbformat": 4,
 "nbformat_minor": 2
}
