{
 "cells": [
  {
   "cell_type": "markdown",
   "metadata": {},
   "source": [
    "### FrequencyMap(Text, k)\n",
    "Para encontrar os k-mers mais frequentes em uma string 'Text', criamos um mapeamento, como no exemplo abaixo, para Text = \"CGATATATCCATAG\" e k = 3, onde mapeamos cada k-mer que aparece em  'Text' ao seu número de ocorrências em  'Text'. \n",
    "\n",
    "Chamamos essa estrutura de mapa de frequência (frequency map); uma vez que construímos um mapa de frequência para  'Text' e 'k', seremos capazes de encontrar a palavra mais frequente encontrando o k-mer cujo número de ocorrências atinge o máximo."
   ]
  },
  {
   "cell_type": "code",
   "execution_count": 1,
   "metadata": {},
   "outputs": [
    {
     "name": "stdout",
     "output_type": "stream",
     "text": [
      "{'CGA': 1, 'GAT': 1, 'ATA': 3, 'TAT': 2, 'ATC': 1, 'TCC': 1, 'CCA': 1, 'CAT': 1, 'TAG': 1}\n"
     ]
    }
   ],
   "source": [
    "def FrequencyMap(Text, k):\n",
    "    freq = {}       #start with a blank dictionary named “freq”\n",
    "\n",
    "    for i in range(len(Text)-k+1):  #for a certain index in the range of 0 to (14-3+1 = 12)\n",
    "        Pattern = Text[i:i+k] #defining a variable, e.g., index 0 up to but not including index (0+3=3) so first Pattern = CGA\n",
    "        freq[Pattern] = 0  #adding a new key to the dictionary “freq”, and setting its value to zero\n",
    "\n",
    "    for i in range(len(Text)-k+1):  #for a certain index in the range of 0 to (14-3+1 = 12)\n",
    "        Pattern = Text[i:i+k] #defining a variable, e.g., index 0 up to but not including index (0+3=3) so first Pattern = CGA\n",
    "        freq[Pattern] += 1 #e.g., in the dictionary “freq,” for key CGA, increase the value of CGA by one\n",
    "    return freq \n",
    "  \n",
    "print(FrequencyMap('CGATATATCCATAG',3)) "
   ]
  }
 ],
 "metadata": {
  "kernelspec": {
   "display_name": "base",
   "language": "python",
   "name": "python3"
  },
  "language_info": {
   "codemirror_mode": {
    "name": "ipython",
    "version": 3
   },
   "file_extension": ".py",
   "mimetype": "text/x-python",
   "name": "python",
   "nbconvert_exporter": "python",
   "pygments_lexer": "ipython3",
   "version": "3.9.13"
  }
 },
 "nbformat": 4,
 "nbformat_minor": 2
}
