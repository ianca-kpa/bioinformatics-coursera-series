{
 "cells": [
  {
   "cell_type": "markdown",
   "metadata": {},
   "source": [
    "### MaximumSkew(Genome)\n",
    "\n",
    "* Problema de distorção máxima: Encontre uma posição em um genoma onde o diagrama de distorção atinja um máximo.\n",
    "* Entrada: Uma sequência de DNA = 'Genome'.\n",
    "* Saída: Todos os inteiros 'i' mizando 'Skew[i]' entre todos os valores de i (from 0 to len(Genome))."
   ]
  },
  {
   "cell_type": "code",
   "execution_count": 1,
   "metadata": {},
   "outputs": [
    {
     "name": "stdout",
     "output_type": "stream",
     "text": [
      "[1]\n"
     ]
    }
   ],
   "source": [
    "def SkewArray(Genome):\n",
    "    Skew = {}\n",
    "    Skew = [0]  # Initialize the skew array with the first element as 0\n",
    "    for i in range(len(Genome)):\n",
    "        if Genome[i] == \"G\":\n",
    "            Skew.append(Skew[-1] + 1)  # Skew[i+1] = Skew[i] + 1\n",
    "        elif Genome[i] == \"C\":\n",
    "            Skew.append(Skew[-1] - 1)  # Skew[i+1] = Skew[i] -\n",
    "        else:\n",
    "            Skew.append(Skew[-1])  # Skew[i+1] = Skew[i]\n",
    "    return Skew\n",
    "\n",
    "def MaximumSkew(Genome):\n",
    "    positions = []  # output variable\n",
    "    Skew_2 = SkewArray(Genome)  # Call the SkewArray function to calculate skew\n",
    "    MaximumSkew_1 = max(Skew_2)  # Find the maximum skew value in the list\n",
    "    for i in range(len(Skew_2)):  # Iterate through the skew list\n",
    "        if Skew_2[i] == MaximumSkew_1:  # Check if current skew equals maximum\n",
    "            positions.append(i)  # Add the position to the results\n",
    "    return positions\n",
    "\n",
    "\n",
    "print(MaximumSkew(\"GCATACACTTCCCAGTAGGTACTG\"))"
   ]
  }
 ],
 "metadata": {
  "kernelspec": {
   "display_name": "base",
   "language": "python",
   "name": "python3"
  },
  "language_info": {
   "codemirror_mode": {
    "name": "ipython",
    "version": 3
   },
   "file_extension": ".py",
   "mimetype": "text/x-python",
   "name": "python",
   "nbconvert_exporter": "python",
   "pygments_lexer": "ipython3",
   "version": "3.9.13"
  }
 },
 "nbformat": 4,
 "nbformat_minor": 2
}
