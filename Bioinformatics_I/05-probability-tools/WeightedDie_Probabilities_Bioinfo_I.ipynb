{
 "cells": [
  {
   "cell_type": "markdown",
   "metadata": {},
   "source": [
    "### WeightedDie(Probabilities)\n",
    "Agora precisamos simular o lançamento de um dado para que \"ccgG\" tem probabilidade 4/80, \"cgGC\" tem probabilidade 8/80, e assim por diante. Faremos isso gerando um número aleatóriopentre 0 e 1. Sepestá entre 0 e 4/80, então corresponde a \"ccgG\". Sepestá entre 4/80 e 4/80 + 8/80, então corresponde a \"cgGC\", etc.\n",
    "\n",
    "Como podemos gerar um número aleatório entre 0 e 1? Além da função randint, o módulo random do Python também inclui uma função chamadauniforme(a, b)que gera um número de ponto flutuante aleatório (ou seja, um decimal) entreumeb. Podemos, portanto, gerar o nosso número aleatório desejadopchamandoaleatório.'uniform(a, b)'.\n",
    "\n",
    "Generalize essa ideia escrevendo uma função 'WeightedDie(Probabilities)'. Esta função pega um dicionário 'Probabilities' cujas chaves são k-mers e cujos valores são as probabilidades desses k-mers. A função deve retornar uma chave k-mer escolhida aleatoriamente com relação aos valores em 'Probabilities'.\n",
    "\n",
    "* A função 'WeightedDie' (Matriz ponderada) seleciona um elemento de forma probabilística, com base nas probabilidades associadas a cada item. Neste caso, o objetivo é escolher um k-mer (nucleotídeo) de acordo com as probabilidades fornecidas no dicionário 'Probabilities'."
   ]
  },
  {
   "cell_type": "code",
   "execution_count": null,
   "metadata": {},
   "outputs": [],
   "source": [
    "import random\n",
    "\n",
    "def WeightedDie(Probabilities):\n",
    "    # Gera um número aleatório entre 0 e 1\n",
    "    random_value = random.uniform(0, 1)\n",
    "    cumulative_probability = 0.0\n",
    "    # Itera sobre cada k-mer e sua probabilidade\n",
    "    for kmer, probability in Probabilities.items():\n",
    "        cumulative_probability += probability\n",
    "        # Verifica se o valor aleatório cai dentro do intervalo acumulado\n",
    "        if random_value < cumulative_probability:\n",
    "            return kmer\n",
    "    return None  # Apenas uma garantia, não deve ser alcançado se as probabilidades somam 1\n",
    "\n",
    "Probabilities = {'A': 0.25, 'C': 0.25, 'G': 0.25, 'T': 0.25}\n",
    "\n",
    "print(WeightedDie(Probabilities))"
   ]
  }
 ],
 "metadata": {
  "language_info": {
   "name": "python"
  }
 },
 "nbformat": 4,
 "nbformat_minor": 2
}
