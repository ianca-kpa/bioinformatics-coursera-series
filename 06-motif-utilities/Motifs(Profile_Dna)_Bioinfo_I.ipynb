{
 "cells": [
  {
   "cell_type": "markdown",
   "metadata": {},
   "source": [
    "### Motifs(Profile, Dna)\n",
    "Escreva uma função 'Motifs(Profile, Dna)' que leva uma matriz 'Profile' correspondendo a uma lista de strings' DNA' como entrada e retorna uma lista de 'Profile' k-mers mais prováveis ​​em cada sequência de 'DNA'.\n",
    "\n",
    "* A função 'Motifs(Profile, Dna)' encontra o k-mer mais provável em cada sequência de DNA, baseado nas probabilidades do perfil fornecido."
   ]
  },
  {
   "cell_type": "code",
   "execution_count": 1,
   "metadata": {},
   "outputs": [
    {
     "name": "stdout",
     "output_type": "stream",
     "text": [
      "['ATGAGCTTTACGG']\n"
     ]
    }
   ],
   "source": [
    "# def Pr(Text, Profile):\n",
    "#     # Inicializa a probabilidade como 1\n",
    "#     prob = 1\n",
    "#     # Percorre cada nucleotídeo no k-mer e multiplica as probabilidades baseadas no perfil\n",
    "#     for i in range(len(Text)):\n",
    "#         for j in \"ACGT\":\n",
    "#             if Text[i] == j:\n",
    "#                 prob *= Profile[Text[i]][i]\n",
    "#     # Retorna a probabilidade total do k-mer\n",
    "#     return prob\n",
    "\n",
    "def ProfileMostProbablePattern(Text, k, profile):\n",
    "    # Inicializa a maior probabilidade com um valor inválido para garantir que será atualizado\n",
    "    max_prob = -1\n",
    "    # Armazena o k-mer mais provável\n",
    "    most_probable_part = \"\"\n",
    "    # Percorre todos os k-mers possíveis na sequência de DNA\n",
    "    for i in range(len(Text) - k + 1):\n",
    "        # Extrai o k-mer atual\n",
    "        pattern = Text[i:i+k]\n",
    "        # Inicializa a probabilidade do k-mer como 1 (neutra para multiplicação)\n",
    "        prob = 1\n",
    "        # Calcula a probabilidade do k-mer com base no perfil\n",
    "        for j in range(k):\n",
    "            prob *= profile[pattern[j]][j]\n",
    "        # Atualiza o k-mer mais provável se a probabilidade calculada for maior\n",
    "        if prob > max_prob:\n",
    "            max_prob = prob\n",
    "            most_probable_part = pattern\n",
    "    # Retorna o k-mer mais provável\n",
    "    return most_probable_part\n",
    "\n",
    "def Motifs(Profile, Dna):\n",
    "    # Define o comprimento do k-mer com base no número de posições no perfil do nucleotídeo 'A'\n",
    "    k = len(Profile[\"A\"])\n",
    "    # Lista para armazenar os k-mers mais prováveis para cada sequência de DNA\n",
    "    most_probable_part_kmers = []\n",
    "    # Itera sobre cada sequência de DNA\n",
    "    for text in Dna:\n",
    "        # Encontra o k-mer mais provável na sequência de DNA, dado o perfil\n",
    "        most_probable_part = ProfileMostProbablePattern(text, k, Profile)\n",
    "        # Adiciona o k-mer mais provável à lista\n",
    "        most_probable_part_kmers.append(most_probable_part)\n",
    "    # Retorna a lista de k-mers mais prováveis para cada sequência de DNA\n",
    "    return most_probable_part_kmers\n",
    "\n",
    "\n",
    "Profile = {'A': [0.303, 0.171, 0.276, 0.421, 0.237, 0.289, 0.250, 0.184, 0.211, 0.329, 0.171, 0.171, 0.289],\n",
    "           'C': [0.276, 0.250, 0.197, 0.237, 0.211, 0.224, 0.171, 0.250, 0.224, 0.224, 0.355, 0.224, 0.276], \n",
    "           'G': [0.237, 0.289, 0.250, 0.145, 0.329, 0.211, 0.276, 0.289, 0.316, 0.263, 0.316, 0.316, 0.276],\n",
    "           'T': [0.184, 0.289, 0.276, 0.197, 0.224, 0.276, 0.303, 0.276, 0.250, 0.184, 0.158, 0.289, 0.158]}\n",
    "\n",
    "Dna = ['GGGGTGCTATAGGCACTTTTCACAATTCACCGAAGTTTCTTACTGGCACTAGTCAAGACAATACGAAAAAAACGATCGTAGTTACCTTGTTTGCGAACACACGCAGGATAGAACGTGATCTGCCAGCGGTCCAATTTGTAGAGACGGGATCAACACAGCCCAGGTAACGCCAATTGTAAATACTTCATACGTTCAAATCATCGGCCAGATGGTCGAGGGGTGTACCGGTTGGGAGATTATCTATCGCTACAGCCCCGACCATATCCGTTTAATGTATATGAAATAGAATAAGCGCTGGCATTCGAGCGCATGCTAGTTTTTTAAATGGAGGTCGAACACGCCCTGCTAACCATAGCCCGTTTGGTGATTTGGCAGCGCCTTCCTGCTTCGCTACCCCCGAGGCCAGAATCTGATATGCGTATAGAACCTTAGTGCTCAGACAAGTCCGATAACATGGTTGCCTCACCGGGTATCATCATGCCAAATTTAGAGCACGGATCCGGTCCAAGCAAATGTGGGCTAGCACCAATCTCAATGACGACATTGTTATGTGCCGGGCGGCGCCGTAGACCATATATGAGACAAGATACCGCGAGGTGTAGTTAAACTCTGAACGTTCCGTCTCCTCGTCACGCTCTGCGTTCTGGTGCCGGTGGCTCGCGTTTCGCGCCCGCCACCATGAGGGTTCCGACTTGCGATCGTCTGTTGACAACTGTTTACCTAGTAATAGGGAATACCTCCGCAGACTGCTTTACCCAATTTGAGGACGAACTAGAACTATCGCTAGGGAGGTGGGAAAAAGGGGTTGCACTCAAGACTTGCCAGAGCCTTGTGGCTTCGCTAACTAGAGGCACCCTTTAGAATGAGGACTGCCGCGCTAGTACGCCATTTTCTAATACTGTTTCTCAAGGTTTTCATACATGGGGAATGAGCTTTACGGCTAACTTATAACCTATACCAAGTTCTGGCCCCGCTAATGCGCATGAGACAAACATGCCTT']\n",
    "k = 13\n",
    "\n",
    "print(Motifs(Profile, Dna))"
   ]
  }
 ],
 "metadata": {
  "kernelspec": {
   "display_name": "base",
   "language": "python",
   "name": "python3"
  },
  "language_info": {
   "codemirror_mode": {
    "name": "ipython",
    "version": 3
   },
   "file_extension": ".py",
   "mimetype": "text/x-python",
   "name": "python",
   "nbconvert_exporter": "python",
   "pygments_lexer": "ipython3",
   "version": "3.9.13"
  }
 },
 "nbformat": 4,
 "nbformat_minor": 2
}
