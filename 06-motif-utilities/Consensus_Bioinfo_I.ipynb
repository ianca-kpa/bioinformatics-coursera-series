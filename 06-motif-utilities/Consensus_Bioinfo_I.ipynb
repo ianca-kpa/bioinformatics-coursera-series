{
 "cells": [
  {
   "cell_type": "markdown",
   "metadata": {},
   "source": [
    "### Consensus(Motifs)\n",
    "Finalmente, podemos formar uma sequência de consenso, denotada 'Consensus(Motifs)', dos nucleotídeos mais populares em cada coluna da matriz de padrões (os empates são quebrados arbitrariamente). Se selecionarmos 'Motifs' corretamente a partir da coleção de regiões a montante, então 'Consensus(Motifs)' fornece um motivo regulatório candidato para essas regiões."
   ]
  },
  {
   "cell_type": "code",
   "execution_count": null,
   "metadata": {},
   "outputs": [],
   "source": [
    "def Count(Motifs):\n",
    "    count = {}\n",
    "    for nt in \"ACGT\":\n",
    "        count[nt] = [0]*len(Motifs[0])\n",
    "    for motif in Motifs:\n",
    "        for index, let in enumerate(motif):\n",
    "            count[let][index] += 1\n",
    "    return count\n",
    "\n",
    "def Consensus(Motifs):\n",
    "    k = len(Motifs[0])\n",
    "    count = Count(Motifs)\n",
    "    consensus = \"\"\n",
    "    for j in range(k):\n",
    "        m = 0\n",
    "        frequentSymbol = \"\"\n",
    "        for symbol in \"ACGT\":\n",
    "            if count[symbol][j] > m:\n",
    "                m = count[symbol][j]\n",
    "                frequentSymbol = symbol\n",
    "        consensus += frequentSymbol\n",
    "    return consensus\n",
    "\n",
    "Motifs = [\n",
    "    \"AACGTA\",\n",
    "    \"CCCGTT\",\n",
    "    \"CACCTT\",\n",
    "    \"GGATTA\",\n",
    "    \"TTCCGG\"\n",
    "]\n",
    "\n",
    "print(Consensus(Motifs))"
   ]
  }
 ],
 "metadata": {
  "language_info": {
   "name": "python"
  }
 },
 "nbformat": 4,
 "nbformat_minor": 2
}
