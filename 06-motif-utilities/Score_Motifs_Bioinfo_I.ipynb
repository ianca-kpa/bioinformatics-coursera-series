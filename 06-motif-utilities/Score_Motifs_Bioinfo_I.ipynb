{
 "cells": [
  {
   "cell_type": "markdown",
   "metadata": {},
   "source": [
    "### Score(Motifs)\n",
    "Finalmente, podemos calcular 'Score(Motifs)' construindo primeiro 'Consensus(Motifs)' e então somando o número de símbolos na 'j'-ésima coluna de 'Motifs' que não correspondem ao símbolo na posição 'j' da string de consenso."
   ]
  },
  {
   "cell_type": "code",
   "execution_count": null,
   "metadata": {},
   "outputs": [],
   "source": [
    "def Consensus(Motifs):\n",
    "    k = len(Motifs[0])\n",
    "    count = Count(Motifs)\n",
    "    consensus = \"\"\n",
    "    for j in range(k):\n",
    "        m = 0\n",
    "        frequentSymbol = \"\"\n",
    "        for symbol in \"ACGT\":\n",
    "            if count[symbol][j] > m:\n",
    "                m = count[symbol][j]\n",
    "                frequentSymbol = symbol\n",
    "        consensus += frequentSymbol\n",
    "    return consensus\n",
    "\n",
    "def Count(Motifs):\n",
    "    count = {}\n",
    "    for nt in \"ACGT\":\n",
    "        count[nt] = [0]*len(Motifs[0])\n",
    "    for motif in Motifs:\n",
    "        for index, let in enumerate(motif):\n",
    "            count[let][index] += 1\n",
    "    return count\n",
    "\n",
    "def Score(Motifs):  # Explicação abaixo\n",
    "    # Obtém a sequência consenso dos padrões\n",
    "    consensus = Consensus(Motifs)\n",
    "    score = 0\n",
    "\n",
    "    # Percorre cada padrão e cada posição no padrão\n",
    "    for motif in Motifs:\n",
    "        for j in range(len(Motifs[0])):\n",
    "            # Se o nucleotídeo na posição 'j' do padrão 'i' não é igual ao consenso, aumenta o score\n",
    "            if motif[j] != consensus[j]:\n",
    "                score += 1\n",
    "    return score\n",
    "\n",
    "Motifs = [\n",
    "    \"AACGTA\",\n",
    "    \"CCCGTT\",\n",
    "    \"CACCTT\",\n",
    "    \"GGATTA\",\n",
    "    \"TTCCGG\"\n",
    "]\n",
    "\n",
    "print(Score(Motifs))"
   ]
  },
  {
   "cell_type": "markdown",
   "metadata": {},
   "source": [
    "A função Score(Motifs) mede o quão distantes estão os padrões fornecidos de uma sequência consenso gerada a partir deles. Quanto maior o número de nucleotídeos que diferem da sequência consenso, maior será o score. Um score menor indica que os padrões estão mais próximos da sequência consenso, o que geralmente significa que eles compartilham um padrão comum.\n",
    "\n",
    "A função começa chamando a função Consensus(Motifs) para obter a sequência consenso dos padrões. A sequência consenso é composta pelos nucleotídeos mais frequentes em cada posição ao longo dos padrões.\n",
    "\n",
    "Entendendo Cada Linha:\n",
    "1. for motif in Motifs:\n",
    "* Este é um loop que itera sobre cada sequência (motif) na lista de sequências Motifs.\n",
    "* motif: Representa uma única sequência de DNA em cada iteração do loop. Por exemplo, se Motifs for [\"AACGTA\", \"CCCGTT\", \"CACCTT\"], então motif assumirá o valor \"AACGTA\" na primeira iteração, \"CCCGTT\" na segunda, e assim por diante.\n",
    "\n",
    "2. for j in range(k):\n",
    "* Este é um loop aninhado que itera sobre cada posição na sequência de DNA (motif).\n",
    "* range(k): Gera uma sequência de números de 0 até k-1, onde k é o comprimento de cada sequência de DNA (número de posições ou colunas nas sequências). Em nosso caso, k = len(Motifs[0]).\n",
    "* j: Representa o índice atual na sequência de DNA (motif), variando de 0 até k-1.\n",
    "\n",
    "3. if motif[j] != consensus[j]:\n",
    "* Esta linha verifica se o nucleotídeo na posição j da sequência atual (motif) não é igual ao nucleotídeo na mesma posição j da sequência de consenso (consensus).\n",
    "* motif[j]: A base (nucleotídeo) na posição j da sequência motif.\n",
    "* consensus[j]: A base (nucleotídeo) na posição j da sequência de consenso.\n",
    "* Se a condição motif[j] != consensus[j] for True, significa que o nucleotídeo na posição j em motif é diferente do nucleotídeo de consenso na mesma posição.\n",
    "* Quando a condição motif[j] != consensus[j] é verdadeira, o código incrementa o valor de score em 1."
   ]
  }
 ],
 "metadata": {
  "language_info": {
   "name": "python"
  }
 },
 "nbformat": 4,
 "nbformat_minor": 2
}
