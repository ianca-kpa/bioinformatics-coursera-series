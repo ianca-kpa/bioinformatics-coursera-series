{
 "cells": [
  {
   "cell_type": "markdown",
   "metadata": {},
   "source": [
    "# BIOINFO 1 - Curso"
   ]
  },
  {
   "cell_type": "markdown",
   "metadata": {},
   "source": [
    "Como podemos ter uma sequência genômica padrão se mutações são introduzidas em cada replicação?\n",
    "\n",
    "Uma assistente de ensino na primeira sessão da nossa aula do Coursera, Robin Betz (que agora é uma estudante de pós-graduação em biofísica na Universidade de Stanford) respondeu a várias perguntas no fórum de discussão do Coursera. A resposta a seguir (junto com algumas outras) é motivada por uma de suas postagens.\n",
    "\n",
    "Mutações são a força motriz da evolução em todos os domínios da vida, e nenhuma célula é imune a elas. Além disso, mutações que surgem em uma criança, mas não estão presentes em nenhum dos pais, podem levar a uma doença. Em média, os humanos adquirem cerca de 100 novas mutações (chamadas variantes de nucleotídeo único ou SNVs ) por genoma a cada geração. Curiosamente, o número de SNVs em um recém-nascido aumenta com a idade do pai, mas não da mãe!\n",
    "\n",
    "Além disso, suas células continuam a sofrer mutações depois que você nasce, e uma mutação ruim pode causar câncer. No entanto, a taxa de mutação é baixa o suficiente para que um único “genoma” possa fornecer um esboço decente de quem você é como indivíduo.\n",
    "\n",
    "Embora os genomas possam sofrer mutação durante a replicação, a célula tem uma série de mecanismos de revisão (um dos quais é o reparo de incompatibilidade ) porque está sob pressão evolutiva para manter um genoma funcional. Por essa razão, há apenas cerca de 100 mutações após cada replicação em um genoma humano com aproximadamente 3 bilhões de nucleotídeos.\n",
    "\n",
    "O mecanismo de reparo de incompatibilidade é um pouco complicado, mas basicamente as células podem colar um grupo metil, -CH 3 , no DNA para marcá-lo de várias maneiras. Quando uma citosina não metilada é desaminada, ela se transforma em uracila ( U ), que não é uma base válida no DNA. A célula reconhece essa incompatibilidade como resultado de danos de desaminação, e a enzima uracila-DNA glicosilase corta a uracila e a substitui por uma citosina, restaurando o par G / C original . Se uma citosina metilada for desaminada, ela se transforma em uma timina ( T ) e resulta em um par de bases T / G. A célula pode capturar essas incompatibilidades T / G e usar outra enzima, timina-DNA glicosilase , para restaurar a citosina e o par G / C original .\n",
    "\n",
    "Embora a célula possa frequentemente capturar esses erros, alguns passarão de qualquer maneira. Portanto, há variação dentro da população como resultado do acúmulo de variações não letais. Por exemplo, em média, cerca de 0,1% das bases diferem entre quaisquer dois humanos.\n",
    "\n",
    "Se um evento de desaminação ocorrer durante a replicação celular (por exemplo, uma cópia de DNA tem um G / C enquanto a outra recebe um A / T ), a mutação só será preservada se não for letal para a célula. Mutações não letais se acumulam, o que faz com que nossos genomas mudem entre diferentes tipos de células ao longo de nossa vida. A esperança dos bioinformáticos é que futuras reduções de custo e avanços na tecnologia nos permitam identificar como diferentes tipos de células em seu corpo diferem geneticamente."
   ]
  },
  {
   "cell_type": "markdown",
   "metadata": {},
   "source": [
    "### PatternCount(Text, Pattern)\n",
    "Mensagens escondidas na Origem de 'Replicação'.\n",
    "* Em geral, o 'k-mer' final de uma sequência de comprimento 'n' começa na posição 'n-k'; por exemplo, o '3-mer' final de \"GACCATACTG\", que tem comprimento 10, começa na posição 10 - 3 = 7. Esta observação implica que a janela deve deslizar entre a posição 0 e a posição 'len(Text)-len(Pattern)'.\n",
    "\n",
    "Um k-mer é simplesmente uma subsequência contínua de 𝑘 nucleotídeos (ou aminoácidos) dentro de uma sequência maior. \n",
    "O valor de k representa o comprimento da subsequência.\n",
    "\n",
    "##### Uso de k-mers em Bioinformática\n",
    "Os k-mers têm várias aplicações em bioinformática, incluindo:\n",
    "\n",
    "* Busca de Padrões (Motifs): Os algoritmos de busca de motivos, como o que você está trabalhando, usam k-mers para encontrar padrões conservados em sequências de DNA. Um motivo é uma subsequência com significado biológico (como um sítio de ligação de proteína), e k-mers são usados para representar essas subsequências candidatas.\n",
    "\n",
    "* Análise de Similaridade: A comparação de k-mers entre sequências permite medir a similaridade entre duas sequências. Quanto mais k-mers em comum duas sequências têm, mais semelhantes elas são.\n",
    "\n",
    "* Montagem de Genomas: Em métodos de montagem de genomas, como os algoritmos de De Bruijn, as sequências são divididas em k-mers para reconstruir genomas a partir de leituras curtas.\n",
    "\n",
    "* Análise de Frequências: Contar a frequência de k-mers em uma sequência pode fornecer informações sobre a composição e a estrutura do genoma."
   ]
  },
  {
   "cell_type": "code",
   "execution_count": 1,
   "metadata": {},
   "outputs": [
    {
     "name": "stdout",
     "output_type": "stream",
     "text": [
      "2\n"
     ]
    }
   ],
   "source": [
    "def PatternCount(Text, Pattern):\n",
    "    count = 0\n",
    "    for i in range(len(Text)-len(Pattern)+1):\n",
    "        if Text[i:i+len(Pattern)] == Pattern:\n",
    "            count = count+1\n",
    "    return count\n",
    "\n",
    "# Text = \"GACCATACTG\" # Sequência a ser avaliada\n",
    "# Pattern = \"ATA\" # Padrão\n",
    "# count = 0\n",
    "\n",
    "# print(PatternCount(Text, Pattern))\n",
    "print(PatternCount('TACGCATTACAAAGCACA', 'AA'))\n"
   ]
  },
  {
   "cell_type": "markdown",
   "metadata": {},
   "source": [
    "\n",
    "O que é slicing (i:j) em Python?\n",
    "\n",
    "O slicing é usado para pegar uma parte de uma sequência, como strings, listas ou tuplas. A sintaxe básica é:\n",
    "\n",
    "python -> sequencia[início:fim]\n",
    "* início (i): O índice do primeiro elemento que será incluído no slice.\n",
    "* fim (j): O índice onde o slice termina (não inclui o elemento de posição j).\n",
    "\n",
    "Se você omitir início ou fim, ele usa valores padrão:\n",
    "* início → Começa no 0.\n",
    "* fim → Vai até o final da sequência."
   ]
  }
 ],
 "metadata": {
  "kernelspec": {
   "display_name": "base",
   "language": "python",
   "name": "python3"
  },
  "language_info": {
   "codemirror_mode": {
    "name": "ipython",
    "version": 3
   },
   "file_extension": ".py",
   "mimetype": "text/x-python",
   "name": "python",
   "nbconvert_exporter": "python",
   "pygments_lexer": "ipython3",
   "version": "3.9.13"
  }
 },
 "nbformat": 4,
 "nbformat_minor": 2
}
