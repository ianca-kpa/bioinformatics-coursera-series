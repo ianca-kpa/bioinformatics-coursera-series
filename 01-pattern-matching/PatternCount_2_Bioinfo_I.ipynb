{
 "cells": [
  {
   "cell_type": "markdown",
   "metadata": {},
   "source": [
    "### Buscando dois padrões / PatternCount_2(Text, Pattern)"
   ]
  },
  {
   "cell_type": "code",
   "execution_count": null,
   "metadata": {},
   "outputs": [],
   "source": [
    "# On the following line, create a variable called 'count' that is equal to the number of times that 'Pattern' occurs in Text.\n",
    "def PatternCount_2(Text, Pattern):\n",
    "    count = 0\n",
    "    for i in range(len(Text)-len(Pattern)+1):\n",
    "        if Text[i:i+len(Pattern)] == Pattern:\n",
    "            count = count + 1\n",
    "    return count \n",
    "\n",
    "Pattern_1 = \"ACCAC\"\n",
    "Pattern_2 = \"TACCA\"\n",
    "\n",
    "# oriC region from T. petrophila\n",
    "Text = \"AACTCTATACCTCCTTTTTGTCGAATTTGTGTGATTTATAGAGAAAATCTTATTAACTGAAACTAAAATGGTAGGTTTGGTGGTAGGTTTTGTGTACATTTTGTAGTATCTGATTTTTAATTACATACCGTATATTGTATTAAATTGACGAACAATTGCATGGAATTGAATATATGCAAAACAAACCTACCACCAAACTCTGTATTGACCATTTTAGGACAACTTCAGGGTGGTAGGTTTCTGAAGCTCTCATCAATAGACTATTTTAGTCTTTACAAACAATATTACCGTTCAGATTCAAGATTCTACAACGCTGTTTTAATGGGCGTTGCAGAAAACTTACCACCTAAAATCCAGTATCCAAGCCGATTTCAGAGAAACCTACCACTTACCTACCACTTACCTACCACCCGGGTGGTAAGTTGCAGACATTATTAAAAACCTCATCAGAAGCTTGTTCAAAAATTTCAATACTCGAAACCTACCACCTGCGTCCCCTATTATTTACTACTACTAATAATAGCAGTATAATTGATCTGA\"\n",
    "\n",
    "count_1 = PatternCount_2(Text, Pattern_1)\n",
    "count_2 = PatternCount_2(Text, Pattern_2)\n",
    "total = count_1 + count_2\n",
    "\n",
    "print(f'Count_1 = {count_1} e Count_2 = {count_2}')\n",
    "print(f'O total é = {total}')"
   ]
  }
 ],
 "metadata": {
  "language_info": {
   "name": "python"
  }
 },
 "nbformat": 4,
 "nbformat_minor": 2
}
