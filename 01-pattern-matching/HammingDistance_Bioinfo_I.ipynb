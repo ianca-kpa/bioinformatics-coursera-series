{
 "cells": [
  {
   "cell_type": "markdown",
   "metadata": {},
   "source": [
    "### HammingDistance(p, q)\n",
    "Dizemos que a posição 'i' em k-mers 'p' e 'q' é uma incompatibilidade se os símbolos na posição 'i' das duas strings não são as mesmas. \n",
    "\n",
    "O número total de incompatibilidades entre strings 'p' e 'q' é chamada de distância de Hamming entre essas strings.\n",
    "\n",
    "* Problema de Distância de Hamming: Calcule a distância de Hamming entre duas strings.\n",
    "* Entrada: Duas strings de comprimento igual.\n",
    "* Saída: A distância de Hamming entre essas strings."
   ]
  },
  {
   "cell_type": "code",
   "execution_count": null,
   "metadata": {},
   "outputs": [],
   "source": [
    "# Input:  Two strings p and q\n",
    "# Output: An integer value representing the Hamming Distance between p and q.\n",
    "def HammingDistance(p, q):\n",
    "    if len(p) != len(q):\n",
    "        print(\"Variáveis com tamanhos diferentes!\")\n",
    "    else:\n",
    "        distancia = 0\n",
    "        for i in range(len(p)):\n",
    "            if p[i] != q[i]:\n",
    "                distancia += 1\n",
    "        return distancia\n",
    "\n",
    "print(HammingDistance('CAGAAAGGAAGGTCCCCATACACCGACGCACCAGTTTA',\n",
    "                      'CACGCCGTATGCATAAACGAGCCGCACGAACCAGAGAG'))"
   ]
  },
  {
   "cell_type": "markdown",
   "metadata": {},
   "source": [
    "Considerações:\n",
    "\n",
    "* A distância de Hamming entre duas strings ou vetores de comprimento igual é o número de posições nas quais os símbolos correspondentes são diferentes.\n",
    "* Em outras palavras, ela mede o número mínimo de substituições necessárias para mudar uma string na outra, ou equivalentemente, o número mínimo de erros que poderiam ter transformado uma string na outra. \n",
    "* Em um contexto mais geral, a distância de Hamming é uma das várias métricas de string para medir a distância de edição entre duas sequências. "
   ]
  }
 ],
 "metadata": {
  "language_info": {
   "name": "python"
  }
 },
 "nbformat": 4,
 "nbformat_minor": 2
}
