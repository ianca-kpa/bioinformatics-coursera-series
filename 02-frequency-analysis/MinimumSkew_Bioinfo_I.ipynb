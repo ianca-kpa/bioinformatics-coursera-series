{
 "cells": [
  {
   "cell_type": "markdown",
   "metadata": {},
   "source": [
    "### MinimumSkew(Genome)\n",
    "Acabamos de desenvolver uma visão para um novo algoritmo para localizar ori : ele deve ser encontrado onde a matriz de inclinação atinge um mínimo.\n",
    "\n",
    "* Problema de distorção mínima: Encontre uma posição em um genoma onde o diagrama de distorção atinja um mínimo.\n",
    "* Entrada: Uma sequência de DNA = 'Genome'.\n",
    "* Saída: Todos os inteiros 'i' mizando 'Skew[i]' entre todos os valores de i (from 0 to len(Genome))."
   ]
  },
  {
   "cell_type": "code",
   "execution_count": null,
   "metadata": {},
   "outputs": [],
   "source": [
    "def SkewArray(Genome):\n",
    "    # Skew = {}\n",
    "    Skew = [0]  # Initialize the skew array with the first element as 0\n",
    "    for i in range(len(Genome)):\n",
    "        if Genome[i] == \"G\":\n",
    "            Skew.append(Skew[-1] + 1)  # Skew[i+1] = Skew[i] + 1\n",
    "        elif Genome[i] == \"C\":\n",
    "            Skew.append(Skew[-1] - 1)  # Skew[i+1] = Skew[i] -\n",
    "        else:\n",
    "            Skew.append(Skew[-1])  # Skew[i+1] = Skew[i]\n",
    "    return Skew\n",
    "\n",
    "def MinimumSkew(Genome):\n",
    "    positions = []  # output variable\n",
    "    Skew_2 = SkewArray(Genome)  # Call the SkewArray function to calculate skew\n",
    "    MinimumSkew_1 = min(Skew_2)  # Find the minimum skew value in the list\n",
    "    for i in range(len(Skew_2)):  # Iterate through the skew list\n",
    "        if Skew_2[i] == MinimumSkew_1:  # Check if current skew equals minimum\n",
    "            positions.append(i)  # Add the position to the results\n",
    "    return positions\n",
    "\n",
    "with open('E_coli.txt', 'r') as file:\n",
    "    Genome = file.read().strip()\n",
    "    print(MinimumSkew(Genome))"
   ]
  },
  {
   "cell_type": "markdown",
   "metadata": {},
   "source": [
    "### MinimumSkew_2(Genome)"
   ]
  },
  {
   "cell_type": "code",
   "execution_count": null,
   "metadata": {},
   "outputs": [],
   "source": [
    "# def SkewArray(Genome):\n",
    "#     Skew = {}\n",
    "#     Skew = [0]  # Initialize the skew array with the first element as 0\n",
    "#     for i in range(len(Genome)):\n",
    "#         if Genome[i] == \"G\":\n",
    "#             Skew.append(Skew[-1] + 1)  # Skew[i+1] = Skew[i] + 1\n",
    "#         elif Genome[i] == \"C\":\n",
    "#             Skew.append(Skew[-1] - 1)  # Skew[i+1] = Skew[i] - 1\n",
    "#         else:\n",
    "#             Skew.append(Skew[-1])  # Skew[i+1] = Skew[i]\n",
    "#     return Skew\n",
    "\n",
    "def MinimumSkew_2(Genome):\n",
    "    positions = []  # output variable\n",
    "    Skew_2 = SkewArray(Genome)  # Call the SkewArray function to calculate skew\n",
    "    indice = 0\n",
    "    for i in range(len(Skew_2)):\n",
    "        # Para saber os minimos! (Usando o exemplo 3 como referencia)\n",
    "        if Skew_2[i] < indice:\n",
    "            # é redefinido para uma nova lista contendo apenas a posição atual i (porque encontramos um novo mínimo).\n",
    "            positions = [i]\n",
    "            # é atualizado para o novo valor mínimo de \"skew\" encontrado (Skew_2[i])\n",
    "            indice = Skew_2[i]\n",
    "        elif Skew_2[i] == indice:\n",
    "            # A posição 'i' é adicionada à lista 'positions' porque é uma outra posição onde o \"skew\" atinge o valor mínimo.\n",
    "            positions.append(i)\n",
    "    return positions\n",
    "\n",
    "\n",
    "print(MinimumSkew_2(\"CATTCCAGTACTTCGATGATGGGCGTGAAGA\"))"
   ]
  }
 ],
 "metadata": {
  "language_info": {
   "name": "python"
  }
 },
 "nbformat": 4,
 "nbformat_minor": 2
}
