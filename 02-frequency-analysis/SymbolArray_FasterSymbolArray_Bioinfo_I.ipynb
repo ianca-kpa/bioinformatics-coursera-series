{
 "cells": [
  {
   "cell_type": "markdown",
   "metadata": {},
   "source": [
    "### SymbolArray(Genome, symbol)\n",
    "From an inefficient to an efficient algorithm"
   ]
  },
  {
   "cell_type": "code",
   "execution_count": 1,
   "metadata": {},
   "outputs": [
    {
     "name": "stdout",
     "output_type": "stream",
     "text": [
      "{0: 6, 1: 6, 2: 7, 3: 8, 4: 8, 5: 7, 6: 7, 7: 7, 8: 7, 9: 7, 10: 7, 11: 6, 12: 6, 13: 5, 14: 5, 15: 5, 16: 4, 17: 4, 18: 3, 19: 4, 20: 4, 21: 4, 22: 4, 23: 5, 24: 5, 25: 6, 26: 5, 27: 4, 28: 4, 29: 4, 30: 5, 31: 5, 32: 4, 33: 5, 34: 5, 35: 5, 36: 6, 37: 6, 38: 7, 39: 7, 40: 7, 41: 8, 42: 8, 43: 8, 44: 8, 45: 8, 46: 8, 47: 7, 48: 7}\n"
     ]
    }
   ],
   "source": [
    "''' Manteremos um registro do número total de ocorrências de 'C' que encontramos\n",
    "em cada janela de 'ExtendedGenome' usando uma matriz de símbolos (array). '''\n",
    "def PatternCount(symbol, ExtendedGenome):\n",
    "    count = 0\n",
    "    for i in range(len(ExtendedGenome)):\n",
    "        if ExtendedGenome[i:i+(len(symbol))] == symbol:\n",
    "            count += 1\n",
    "    return count\n",
    "\n",
    "def SymbolArray(Genome, symbol):\n",
    "    array = {}\n",
    "    n = len(Genome)\n",
    "    ExtendedGenome = Genome + Genome[0:n//2]\n",
    "    for i in range(n):\n",
    "      \"\"\" O eu-ésimo elemento da matriz de símbolos (array) é igual ao número de ocorrências do símbolo \n",
    "      na janela de comprimento 'len(Genome)//2' começando na posição i de 'ExtendedGenome' \"\"\"\n",
    "      array[i] = PatternCount(symbol, ExtendedGenome[i:i+(n//2)])\n",
    "    return array\n",
    "\n",
    "\n",
    "Genome = 'ATAGCATCAACGCTGCGCTGATTTGCCGTGGCGAGAAAATGTCGATCGC'\n",
    "symbol = 'C'\n",
    "print((SymbolArray(Genome, symbol)))"
   ]
  },
  {
   "cell_type": "markdown",
   "metadata": {},
   "source": [
    "### Fornecido na aula: FasterSymbolArray(Genome, symbol)"
   ]
  },
  {
   "cell_type": "code",
   "execution_count": null,
   "metadata": {},
   "outputs": [],
   "source": [
    "# Input:  Strings Text and Pattern\n",
    "# Output: The number of times Pattern appears in Text\n",
    "# HINT:   This code should be identical to when you last implemented PatternCount\n",
    "\n",
    "# def PatternCount(Pattern, Text):\n",
    "#     count = 0 # output variable\n",
    "#     for i in range(len(Text)-len(Pattern)+1):\n",
    "#         if Text[i:i+len(Pattern)] == Pattern:\n",
    "#             count += 1\n",
    "#     return count\n",
    "\n",
    "# Input:  Strings Genome and symbol\n",
    "# Output: FasterSymbolArray(Genome, symbol)\n",
    "def FasterSymbolArray(Genome, symbol):\n",
    "    array = {}\n",
    "    n = len(Genome)\n",
    "    ExtendedGenome = Genome + Genome[0:n//2]\n",
    "\n",
    "    # look at the first half of Genome to compute first array value\n",
    "    array[0] = PatternCount(symbol, Genome[0:n//2])\n",
    "\n",
    "    for i in range(1, n):\n",
    "        # start by setting the current array value equal to the previous array value\n",
    "        array[i] = array[i-1]\n",
    "\n",
    "        # the current array value can differ from the previous array value by at most 1\n",
    "        if ExtendedGenome[i-1] == symbol:\n",
    "            array[i] = array[i]-1\n",
    "        if ExtendedGenome[i+(n//2)-1] == symbol:\n",
    "            array[i] = array[i]+1\n",
    "    return array\n",
    "\n",
    "\n",
    "# ### DO NOT MODIFY THE CODE BELOW THIS LINE ###\n",
    "# import sys\n",
    "# lines = sys.stdin.read().splitlines()\n",
    "# print(FasterSymbolArray(lines[0],lines[1]))"
   ]
  },
  {
   "cell_type": "markdown",
   "metadata": {},
   "source": [
    "### modificações feitas por um aluno: FasterSymbolArray_2(Genome, symbol)"
   ]
  },
  {
   "cell_type": "code",
   "execution_count": null,
   "metadata": {},
   "outputs": [],
   "source": [
    "def FasterSymbolArray(Genome, symbol):\n",
    "   array = {}\n",
    "   n = len(Genome)\n",
    "   ExtendedGenome = Genome + Genome[0:n // 2]\n",
    "\n",
    "   array[0] = PatternCount(symbol, Genome[0:n // 2])\n",
    "\n",
    "   for i in range(1, n):\n",
    "       count = array[i - 1]\n",
    "       # Check the symbol leaving the window\n",
    "       if ExtendedGenome[i - 1: (i-1)+ len(symbol)] == symbol:\n",
    "           count -= 1\n",
    "       # Check the symbol entering the window\n",
    "       if ExtendedGenome[i + (n // 2) - len(symbol) : i + (n//2)] == symbol:\n",
    "           count += 1\n",
    "       array[i] = count\n",
    "   return array\n",
    "\n",
    "# def PatternCount(symbol, Genome):\n",
    "#     count = 0\n",
    "#     for i in range(len(Genome) - len(symbol) + 1):\n",
    "#         if symbol == Genome[i:i + len(symbol)]:\n",
    "#             count += 1\n",
    "#     return count"
   ]
  }
 ],
 "metadata": {
  "kernelspec": {
   "display_name": "base",
   "language": "python",
   "name": "python3"
  },
  "language_info": {
   "codemirror_mode": {
    "name": "ipython",
    "version": 3
   },
   "file_extension": ".py",
   "mimetype": "text/x-python",
   "name": "python",
   "nbconvert_exporter": "python",
   "pygments_lexer": "ipython3",
   "version": "3.9.13"
  }
 },
 "nbformat": 4,
 "nbformat_minor": 2
}
