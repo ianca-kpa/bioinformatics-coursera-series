{
 "cells": [
  {
   "cell_type": "markdown",
   "metadata": {},
   "source": [
    "### SkewArray(Genome)\n",
    "Dada uma string 'Genome', podemos formar sua matriz 'skew' definindo-a 'Skew[0]' como igual a 0 e, em seguida, percorrendo o genoma. Na posição 'i' de 'Genome': \n",
    "* se encontrarmos 'A' ou 'T', definimos Skew[i+1] igual a Skew[i]; \n",
    "* Se encontrarmos um 'G', definimos Skew[i+1] igual a Skew[i]+1; \n",
    "* Se encontrarmos um 'C', definimos  Skew[i+1] igual a Skew[i]-1. \n",
    "\n",
    "Vamos seguir a direção 5' → 3' do DNA e caminhar ao longo do cromossomo de ter  para ori  (ao longo de uma meia fita reversa), então continuar de ori  para ter  (ao longo de uma meia fita frontal). Na figura do exemplo da aula, vemos que a assimetria está diminuindo ao longo da meia fita reversa e aumentando ao longo da meia fita frontal. Assim, a assimetria deve atingir um mínimo na posição onde a meia fita reversa termina e a meia fita frontal começa, que é exatamente a localização de ori !"
   ]
  },
  {
   "cell_type": "code",
   "execution_count": null,
   "metadata": {},
   "outputs": [
    {
     "name": "stdout",
     "output_type": "stream",
     "text": [
      "[0, 1, 1, 2, 1, 0, 0, -1, -2, -1, -2, -1, -1, -1, -1]\n",
      "___________________________________________\n"
     ]
    }
   ],
   "source": [
    "def SkewArray(Genome):\n",
    "    Skew = [0]  # Initialize the skew array with the first element as 0\n",
    "    for i in range(len(Genome)):\n",
    "        if Genome[i] == \"G\":\n",
    "            Skew.append(Skew[-1] + 1)  # Skew[i+1] = Skew[i] + 1\n",
    "        elif Genome[i] == \"C\":\n",
    "            Skew.append(Skew[-1] - 1)  # Skew[i+1] = Skew[i] - 1\n",
    "        else:\n",
    "            Skew.append(Skew[-1])  # Skew[i+1] = Skew[i]\n",
    "    return Skew\n",
    "\n",
    "\n",
    "print(SkewArray('GAGCCACCGCGATA'))\n",
    "print('___________________________________________')"
   ]
  }
 ],
 "metadata": {
  "kernelspec": {
   "display_name": "base",
   "language": "python",
   "name": "python3"
  },
  "language_info": {
   "codemirror_mode": {
    "name": "ipython",
    "version": 3
   },
   "file_extension": ".py",
   "mimetype": "text/x-python",
   "name": "python",
   "nbconvert_exporter": "python",
   "pygments_lexer": "ipython3",
   "version": "3.9.13"
  }
 },
 "nbformat": 4,
 "nbformat_minor": 2
}
